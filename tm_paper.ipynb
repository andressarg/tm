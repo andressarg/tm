{
  "cells": [
    {
      "cell_type": "markdown",
      "metadata": {
        "id": "4p-RIrnLkn6J"
      },
      "source": [
        "# Replicability and transparency in topic modelling: developing best practice guidelines for the digital humanities\n",
        "\n",
        "_Copyright (c) 2023 [Andressa Gomide, Mathew Gillings, Diego Gimenez]_\n",
        "\n",
        "This file is part of Gomide et al. 2023.\n",
        "\n",
        "This project is licensed under the terms of the MIT license."
      ]
    },
    {
      "cell_type": "markdown",
      "metadata": {
        "id": "ekfIXdo9kn6L"
      },
      "source": [
        "This Jupyter Notebook is divided in three sections: (i) data collection and cleaning; (ii) tokenization, tagging and cleaning; and (iii) applying TM.\n",
        "Each section represents one file in the folder [link]\n",
        "\n",
        "1. **Data collection and cleaning**\n",
        "\n",
        "*@get_gutemberg.py*\n",
        "\n",
        "The codes in this section are used to download books from the Gutemberg Project (https://www.gutenberg.org/); to remove unecessary elements (e.g. boilerplates, page numbers); to\n",
        "extract the metadata for each book; and to save the original book file (html), the cleaned content (txt), and the metadata (tsv)\n",
        "\n",
        "2. **Tokenization, Tagging and Cleaning**\n",
        "\n",
        "*@create_bow.py*\n",
        "\n",
        "This section\n",
        "- reads plain text files in a give folder\n",
        "- applies Spacy Lang model\n",
        "- creates different bags of words ('all_tokens', 'full_clean', 'custom_tok')\n",
        "and saves:\n",
        "- the original book file (html)\n",
        "- the cleaned content (txt)\n",
        "- the metadata (tsv)\n",
        "\n",
        "3. **Applying TM**\n",
        "\n",
        "*@apply_tm.py*\n",
        "\n"
      ]
    },
    {
      "cell_type": "markdown",
      "metadata": {
        "id": "BtJgW-h4kn6M"
      },
      "source": [
        "Functions in this file\n",
        "\n",
        " `download_url` - it takes a string with with url path as an argument and returns the content of the url as bytes"
      ]
    },
    {
      "cell_type": "markdown",
      "metadata": {
        "id": "IlYDiYKGkn6N"
      },
      "source": [
        "## Prepare/Set the environment\n",
        "- TODO add short explanation of \n",
        "  - libraries\n",
        "  - folders to store data\n",
        "  -\n",
        "\n",
        "\n",
        " short explanation functions"
      ]
    },
    {
      "cell_type": "code",
      "source": [
        "# install library and language model\n",
        "!pip install pyLDAvis\n",
        "!python -m spacy download pt_core_news_sm"
      ],
      "metadata": {
        "id": "UJKOmnPIzozF"
      },
      "execution_count": null,
      "outputs": []
    },
    {
      "cell_type": "code",
      "execution_count": 3,
      "metadata": {
        "id": "CNX7KzOUkn6N"
      },
      "outputs": [],
      "source": [
        "# ignore warnings for clarity sake\n",
        "import warnings\n",
        "warnings.filterwarnings('ignore')\n",
        "\n",
        "# For section 1\n",
        "import re # for regular expressions\n",
        "from urllib.request import urlopen # to request the content from the internet\n",
        "from bs4 import BeautifulSoup # to work with html files (bs4 is known to be user friendly)\n",
        "import pandas as pd # to store metadata as dataframe\n",
        "from urllib.error import HTTPError # to raise errors when connecting to the sites\n",
        "\n",
        "# For section 2\n",
        "import spacy # to tokenize and annotate the data\n",
        "import pandas as pd # to store metadata as dataframe\n",
        "from gensim.models import Phrases # to compute the bigrams\n",
        "import pathlib # to read in files from folder\n",
        "\n",
        "# For section 3\n",
        "#import pandas as pd # for dataframes\n",
        "from gensim.corpora.dictionary import Dictionary # to convert bows to dictionary\n",
        "from gensim import models # for the topic models\n",
        "import pyLDAvis # for data visualization of the topic model\n",
        "import pyLDAvis.gensim_models\n",
        "from pprint import pprint # to print the results in a better way\n",
        "import matplotlib.pyplot as plt # for the plots\n"
      ]
    },
    {
      "cell_type": "code",
      "source": [
        "# create folders to store data if they dont exist\n",
        "pathlib.Path('/content/input/html/').mkdir(parents=True, exist_ok=True)\n",
        "pathlib.Path('/content/input/raw/').mkdir(parents=True, exist_ok=True)\n",
        "pathlib.Path('/content/input/plain/').mkdir(parents=True, exist_ok=True)\n",
        "pathlib.Path('/content/output/').mkdir(parents=True, exist_ok=True)"
      ],
      "metadata": {
        "id": "gYAreN1R1iaD"
      },
      "execution_count": 12,
      "outputs": []
    },
    {
      "cell_type": "code",
      "execution_count": 4,
      "metadata": {
        "id": "RGE2qF9Fkn6O"
      },
      "outputs": [],
      "source": [
        "def get_file_list(files_path):\n",
        "    '''\n",
        "    create a list and append the files names to it\n",
        "    '''\n",
        "    workingDir = pathlib.Path(files_path)\n",
        "    file_list = []\n",
        "    for f in workingDir.iterdir():\n",
        "        file_list.append(f)\n",
        "    return file_list\n",
        "    \n",
        "def download_url(urlpath):\n",
        "    ''' \n",
        "    download content from an url address\n",
        "    Args: \n",
        "        urlpath (str): the url path\n",
        "    Returns:\n",
        "        connection.read() (bytes): the content of the page \n",
        "    '''\n",
        "    try:\n",
        "        # open a connection to the server\n",
        "        with urlopen(urlpath, timeout=3) as connection:\n",
        "            # return content of the url read as bytes\n",
        "            return connection.read()\n",
        "    except:\n",
        "        # return None\n",
        "        print(f\"There was an issue when trying to download{urlpath}\")"
      ]
    },
    {
      "cell_type": "markdown",
      "metadata": {
        "id": "e4d4hpKWkn6P"
      },
      "source": [
        "## 1. Data Collection and Cleaning\n",
        "\n",
        "- keep original data (as obtained from source)\n",
        "- keep as much metadata as possible\n",
        "- if it doesn't require a lot of work, it might be a better idea to use your own code, as you have more awareness and avoid having a lot of dependencies. In this example, its better to use our own codes than importing https://pypi.org/project/Gutenberg/. In our case, to avoid unecessary repetition, we created the function `download_url` to get the content of the book from the website.\n",
        "- it is always easier to work with plain text, but preserving section breaks can lead to further analysis\n",
        "- sometimes the same data content is available in different formats. it is a good idea to test extracting two different formats to get an idea which one will be better for the project.\n",
        "- in our case, getting the data from html format sounds better and easier to (a) preserve the sections boundaries (b) to make cleaning easier"
      ]
    },
    {
      "cell_type": "markdown",
      "metadata": {
        "id": "qbFPUmlkkn6Q"
      },
      "source": [
        "Once we know the books we want to download, we create a list with their identification numbers (IDs).\n",
        "The IDs can be retrieved at https://www.gutenberg.org/.\n",
        "Here we got all books by Machado de Assis in Portugese available at the Gutenberg project.\n",
        "\n",
        "| book id | book title |\n",
        "| --- | --- |\n",
        "|54829 | Memorias Posthumas de Braz Cubas |\n",
        "|55682 | Quincas Borba|\n",
        "|55752 | Dom Casmurro|\n",
        "|55797 | Memorial de Ayres|\n",
        "|56737 | Esau e Jacob|\n",
        "|57001 | Papeis Avulsos|\n",
        "|67935 | Reliquias de Casa Velha|\n",
        "|33056 | Historias Sem Data|\n",
        "|53101 | A Mao e A Luva|\n",
        "|67162 | Helena|\n",
        "|67780 | Yayá Garcia|\n",
        "|61653 | Poesias Completas|"
      ]
    },
    {
      "cell_type": "code",
      "execution_count": 5,
      "metadata": {
        "id": "x-6TcT2Ekn6R"
      },
      "outputs": [],
      "source": [
        "book_id_list = [\"54829\", \"55682\", \"55752\", \"55797\", \"56737\", \"57001\", \"67935\", \"33056\", \"53101\", \"67162\", \"67780\", \"61653\"]"
      ]
    },
    {
      "cell_type": "markdown",
      "metadata": {
        "id": "FfVZA-95kn6S"
      },
      "source": [
        "- sometimes the same data content is available in different formats. it is a good idea to test extracting two different formats to get an idea which one will be better for the project.\n",
        "- it is almost always easier to work with plain text, but preserving section breaks can lead to further analysis\n",
        "- in our case, getting the data from html format sounds better and easier to (a) preserve the sections boundaries (b) to make cleaning easier"
      ]
    },
    {
      "cell_type": "markdown",
      "metadata": {
        "id": "rusKgML5kn6T"
      },
      "source": [
        "### 1.1. Getting the books from the plain format\n",
        "\n",
        "we first create a data frame that will serve to store the metadata"
      ]
    },
    {
      "cell_type": "code",
      "execution_count": 6,
      "metadata": {
        "id": "gEC5cmxjkn6T"
      },
      "outputs": [],
      "source": [
        "df_plain = pd.DataFrame(columns = ['author', 'title', 'lang', 'subj', 'datepub'])"
      ]
    },
    {
      "cell_type": "markdown",
      "metadata": {
        "id": "L_OqaMYPkn6T"
      },
      "source": [
        "then we go through the list of book ids"
      ]
    },
    {
      "cell_type": "code",
      "execution_count": 13,
      "metadata": {
        "colab": {
          "base_uri": "https://localhost:8080/"
        },
        "id": "Tzz56TNpkn6U",
        "outputId": "d6151d9a-709b-4f5c-e92b-acbb88600f99"
      },
      "outputs": [
        {
          "output_type": "stream",
          "name": "stdout",
          "text": [
            "downloading data for 54829, from link 1\n",
            "downloading data for 55682, from link 1\n",
            "downloading data for 55752, from link 1\n",
            "downloading data for 55797, from link 2\n",
            "downloading data for 56737, from link 1\n",
            "downloading data for 57001, from link 2\n",
            "downloading data for 67935, from link 1\n",
            "downloading data for 33056, from link 1\n",
            "downloading data for 53101, from link 1\n",
            "downloading data for 67162, from link 1\n",
            "downloading data for 67780, from link 1\n",
            "downloading data for 61653, from link 2\n"
          ]
        }
      ],
      "source": [
        "for book_id in book_id_list:\n",
        "    # getting the content\n",
        "    try:\n",
        "        connection = urlopen(f'https://www.gutenberg.org/cache/epub/{book_id}/pg{book_id}.txt')\n",
        "        data_plain = connection.read()\n",
        "        print(f'downloading data for {book_id}, from link 1')\n",
        "    except HTTPError as err:\n",
        "        if err.code == 404: # not found error (link doesnt exist)\n",
        "            connection = urlopen(f'https://www.gutenberg.org/files/{book_id}/{book_id}-0.txt')\n",
        "            data_plain = connection.read()\n",
        "            print(f'downloading data for {book_id}, from link 2')\n",
        "        else:\n",
        "            print(f'error {err.code} when downloading file {book_id}')\n",
        "            continue\n",
        "\n",
        "    # plain text link doesnt include metadata. \n",
        "    # we have to go to the previous page\n",
        "    # TODO add try except for metadata \n",
        "    # if it doesnt exist, add NA to the respective row\n",
        "    url_meta = f'https://www.gutenberg.org/ebooks/{book_id}'\n",
        "    metadata = download_url(url_meta)\n",
        "\n",
        "    # parse document \n",
        "    soup = BeautifulSoup(metadata, 'html.parser')\n",
        "\n",
        "    # get metadata\n",
        "    author = soup.find('a', {'about': re.compile(r'\\/authors\\/.*')}).text\n",
        "    lang = soup.find('a', {'href': re.compile(r'\\/browse\\/languages\\/.*')}).text\n",
        "    subj = soup.find('a', {'href': re.compile(r'\\/ebooks\\/subject\\/*')}).text\n",
        "    title = soup.find('td', {'itemprop': 'headline'}).text\n",
        "    datepub = soup.find('td', {'itemprop': 'datePublished'}).text\n",
        "\n",
        "    # remove line breaks\n",
        "    meta_list = [sub.replace('\\n', '') for sub in [author, title, lang, subj, datepub]]\n",
        "\n",
        "\n",
        "    # df.loc[book_id] = [book_id, meta_list[0], meta_list[1], meta_list[2], meta_list[3], meta_list[4]]\n",
        "    df_plain.loc[book_id] = [meta_list[0], meta_list[1], meta_list[2], meta_list[3], meta_list[4]]\n",
        "\n",
        "    # write book content to file\n",
        "    with open(f\"input/plain/{book_id}.txt\", 'wb') as file:\n",
        "        file.write(data_plain)"
      ]
    },
    {
      "cell_type": "markdown",
      "metadata": {
        "id": "TsCggTM3kn6V"
      },
      "source": [
        "and save the metadata as a tsv file"
      ]
    },
    {
      "cell_type": "code",
      "execution_count": 14,
      "metadata": {
        "colab": {
          "base_uri": "https://localhost:8080/"
        },
        "id": "PIuYrsrRkn6V",
        "outputId": "3e7c0320-eaa3-48be-f369-42da66818f8a"
      },
      "outputs": [
        {
          "output_type": "stream",
          "name": "stdout",
          "text": [
            "                            author                             title  \\\n",
            "54829  Machado de Assis, 1839-1908  Memorias Posthumas de Braz Cubas   \n",
            "55682  Machado de Assis, 1839-1908                     Quincas Borba   \n",
            "55752  Machado de Assis, 1839-1908                      Dom Casmurro   \n",
            "55797  Machado de Assis, 1839-1908                 Memorial de Ayres   \n",
            "56737  Machado de Assis, 1839-1908                      Esau e Jacob   \n",
            "57001  Machado de Assis, 1839-1908                    Papeis Avulsos   \n",
            "67935  Machado de Assis, 1839-1908           Reliquias de Casa Velha   \n",
            "33056  Machado de Assis, 1839-1908                Historias Sem Data   \n",
            "53101  Machado de Assis, 1839-1908                    A Mao e A Luva   \n",
            "67162  Machado de Assis, 1839-1908                            Helena   \n",
            "67780  Machado de Assis, 1839-1908                       Yayá Garcia   \n",
            "61653  Machado de Assis, 1839-1908                 Poesias Completas   \n",
            "\n",
            "             lang                                               subj  \\\n",
            "54829  Portuguese                                   Humorous stories   \n",
            "55682  Portuguese  Brazil -- History -- Empire, 1822-1889 -- Fiction   \n",
            "55752  Portuguese                                Adultery -- Fiction   \n",
            "55797  Portuguese                                  Brazil -- Fiction   \n",
            "56737  Portuguese                 Rio de Janeiro (Brazil) -- Fiction   \n",
            "57001  Portuguese                 Portuguese fiction -- 19th century   \n",
            "67935  Portuguese                           Short stories, Brazilian   \n",
            "33056  Portuguese                                            Fiction   \n",
            "53101  Portuguese                                  Brazil -- Fiction   \n",
            "67162  Portuguese                  Brazilian fiction -- 19th century   \n",
            "67780  Portuguese                                  Brazil -- Fiction   \n",
            "61653  Portuguese                                   Brazilian poetry   \n",
            "\n",
            "            datepub  \n",
            "54829   Jun 2, 2017  \n",
            "55682   Oct 5, 2017  \n",
            "55752  Oct 15, 2017  \n",
            "55797  Oct 23, 2017  \n",
            "56737  Mar 14, 2018  \n",
            "57001  Apr 19, 2018  \n",
            "67935  Apr 26, 2022  \n",
            "33056   Jul 3, 2010  \n",
            "53101  Sep 20, 2016  \n",
            "67162  Jan 14, 2022  \n",
            "67780   Apr 5, 2022  \n",
            "61653  Mar 21, 2020  \n"
          ]
        }
      ],
      "source": [
        "# see the data\n",
        "print(df_plain)\n",
        "\n",
        "# write metadata to file\n",
        "df_plain.to_csv('output/books_metadata.tsv', sep='\\t', encoding='utf-8')"
      ]
    },
    {
      "cell_type": "markdown",
      "metadata": {
        "id": "OWch4qwukn6V"
      },
      "source": [
        "### 1.2. Getting the books from html format\n"
      ]
    },
    {
      "cell_type": "code",
      "execution_count": 16,
      "metadata": {
        "id": "_N2KNg7ykn6W"
      },
      "outputs": [],
      "source": [
        "# create empty df to store the metadata\n",
        "df_html = pd.DataFrame(columns = ['author', 'title', 'lang', 'subj', 'datepub'])\n",
        "\n",
        "for book_id in book_id_list:\n",
        "    url_html = f'https://www.gutenberg.org/cache/epub/{book_id}/pg{book_id}-images.html'\n",
        "    data_html = download_url(url_html)\n",
        "\n",
        "    # parse\n",
        "    soup = BeautifulSoup(data_html, 'html.parser')\n",
        "\n",
        "    # get metadata\n",
        "    author = soup.find('meta', {'name' : 'AUTHOR'})['content'] if soup.find('meta', {'name' : 'AUTHOR'}) is not None else 'NA'\n",
        "    lang = soup.find('meta', {'name' : 'dc.language'})['content'] if soup.find('meta', {'name' : 'dc.language'}) is not None else 'NA'\n",
        "    subj = soup.find('meta', {'name' : 'dc.subject'})['content'] if soup.find('meta', {'name' : 'dc.subject'}) is not None else 'NA'\n",
        "    title = soup.find('meta', {'property' : 'og:title'})['content'] if soup.find('meta', {'property' : 'og:title'}) is not None else 'NA'\n",
        "    datepub = soup.find('meta', {'name' : 'dcterms.created'})['content'] if soup.find('meta', {'name' : 'dcterms.created'}) is not None else 'NA'\n",
        "\n",
        "    ## remove unnecessary elements\n",
        "    # style\n",
        "    for i in soup.find_all('style'):\n",
        "        i.decompose()\n",
        "\n",
        "    # boiler plates\n",
        "    for i in soup.find_all('section', {'class': re.compile('.*boilerplate.*')}):\n",
        "        i.decompose()\n",
        "\n",
        "    # editor comments\n",
        "    for i in soup.find_all('div', {'class': 'fbox'}):\n",
        "        i.decompose()\n",
        "\n",
        "    # page numbers\n",
        "    for i in soup.find_all('span', {'class': 'pagenum'}):\n",
        "        i.decompose()\n",
        "\n",
        "    # remove br tags\n",
        "    for i in soup.find_all('br'):\n",
        "        i.unwrap()\n",
        "\n",
        "    # remove head\n",
        "    soup.find('head').decompose()\n",
        "\n",
        "    # get metadata\n",
        "    df_html.loc[book_id] = [author, title, lang, subj, datepub]\n",
        "\n",
        "\n",
        "    # write to file with tags\n",
        "    with open(f'input/html/{book_id}.html', 'w', encoding = 'utf-8') as file:\n",
        "        file.write(str(soup.prettify()))\n",
        "    # write to file without tags\n",
        "    with open(f'input/raw/{book_id}.txt', 'w', encoding = 'utf-8') as file:\n",
        "        file.write(soup.text)\n"
      ]
    },
    {
      "cell_type": "code",
      "source": [
        "print(df_html)\n",
        "# write metadata to file\n",
        "df_html.to_csv('output/books_metadata.tsv', sep='\\t', encoding='utf-8')"
      ],
      "metadata": {
        "colab": {
          "base_uri": "https://localhost:8080/"
        },
        "id": "4YOY1XRq5CHl",
        "outputId": "4dc54087-3c56-4d28-e725-df3096342c90"
      },
      "execution_count": 17,
      "outputs": [
        {
          "output_type": "stream",
          "name": "stdout",
          "text": [
            "      author                             title lang  \\\n",
            "54829     NA  Memorias Posthumas de Braz Cubas   pt   \n",
            "55682     NA                     Quincas Borba   pt   \n",
            "55752     NA                      Dom Casmurro   pt   \n",
            "55797     NA                 Memorial de Ayres   pt   \n",
            "56737     NA                      Esau e Jacob   pt   \n",
            "57001     NA                    Papeis Avulsos   pt   \n",
            "67935     NA           Reliquias de Casa Velha   pt   \n",
            "33056     NA                Historias Sem Data   pt   \n",
            "53101     NA                    A Mao e A Luva   pt   \n",
            "67162     NA                            Helena   pt   \n",
            "67780     NA                       Yayá Garcia   pt   \n",
            "61653     NA                 Poesias Completas   pt   \n",
            "\n",
            "                                                    subj     datepub  \n",
            "54829                                   Humorous stories  2017-06-02  \n",
            "55682  Brazil -- History -- Empire, 1822-1889 -- Fiction  2017-10-05  \n",
            "55752                                Adultery -- Fiction  2017-10-15  \n",
            "55797                                  Brazil -- Fiction  2017-10-23  \n",
            "56737                 Rio de Janeiro (Brazil) -- Fiction  2018-03-14  \n",
            "57001                 Portuguese fiction -- 19th century  2018-04-19  \n",
            "67935                           Short stories, Brazilian  2022-04-26  \n",
            "33056                                            Fiction  2010-07-03  \n",
            "53101                                  Brazil -- Fiction  2016-09-20  \n",
            "67162                  Brazilian fiction -- 19th century  2022-01-14  \n",
            "67780                                  Brazil -- Fiction  2022-04-05  \n",
            "61653                                   Brazilian poetry  2020-03-21  \n"
          ]
        }
      ]
    },
    {
      "cell_type": "markdown",
      "metadata": {
        "id": "XtaMto4nkn6W"
      },
      "source": [
        "## 2. Tokenization, Cleaning and tagging"
      ]
    },
    {
      "cell_type": "markdown",
      "metadata": {
        "id": "tmqYwILlkn6W"
      },
      "source": [
        "### 2.1. Language models\n",
        "\n",
        "there are different models availables at https://spacy.io/models \n",
        "\n",
        "we can also create our own\n",
        "\n",
        "here we will use a small model to be more efficient"
      ]
    },
    {
      "cell_type": "code",
      "execution_count": 20,
      "metadata": {
        "id": "_obW5Zqgkn6W"
      },
      "outputs": [],
      "source": [
        "# load language model\n",
        "nlp = spacy.load('pt_core_news_sm')"
      ]
    },
    {
      "cell_type": "markdown",
      "metadata": {
        "id": "HwjqAnh3kn6W"
      },
      "source": [
        "### 2.2. Get list with files\n",
        "the folder input has the plain files prepared with the previous section\n",
        "the function get_file_list creates a list and append the files names to it"
      ]
    },
    {
      "cell_type": "code",
      "execution_count": 21,
      "metadata": {
        "id": "_3UyGt3Vkn6W"
      },
      "outputs": [],
      "source": [
        "file_list = get_file_list('input/plain')"
      ]
    },
    {
      "cell_type": "markdown",
      "metadata": {
        "id": "WF20BNK1kn6X"
      },
      "source": [
        "### 2.3. Cleaning\n",
        "list of elements to be removed (we can also here our own)"
      ]
    },
    {
      "cell_type": "code",
      "execution_count": 22,
      "metadata": {
        "id": "cvDirZ7Okn6X"
      },
      "outputs": [],
      "source": [
        "# POS tags to be removed\n",
        "pos_rm = ['PUNCT', 'DET', 'SPACE', 'NUM', 'SYM']\n",
        "# Named Entities tags to be removed\n",
        "ner_rm = ['PER', 'LOC']\n",
        "# words to be removed\n",
        "wrd_rm = ['ella', 'elle']"
      ]
    },
    {
      "cell_type": "markdown",
      "metadata": {
        "id": "p9eR3S-Ykn6X"
      },
      "source": [
        "go through the files extracting the words and save the bag of words"
      ]
    },
    {
      "cell_type": "code",
      "execution_count": 23,
      "metadata": {
        "colab": {
          "base_uri": "https://localhost:8080/"
        },
        "id": "iBr_Iui4kn6X",
        "outputId": "1bedea04-286a-4c9f-bcd8-63c0b8c9425d"
      },
      "outputs": [
        {
          "output_type": "stream",
          "name": "stdout",
          "text": [
            "getting all tokens BoW for 55797...\n",
            "getting BoW with a 'full clean' approach ...\n",
            "getting customized BoW\n",
            "getting all tokens BoW for 55752...\n",
            "getting BoW with a 'full clean' approach ...\n",
            "getting customized BoW\n",
            "getting all tokens BoW for 67162...\n",
            "getting BoW with a 'full clean' approach ...\n",
            "getting customized BoW\n",
            "getting all tokens BoW for 61653...\n",
            "getting BoW with a 'full clean' approach ...\n",
            "getting customized BoW\n",
            "getting all tokens BoW for 67780...\n",
            "getting BoW with a 'full clean' approach ...\n",
            "getting customized BoW\n",
            "getting all tokens BoW for 56737...\n",
            "getting BoW with a 'full clean' approach ...\n",
            "getting customized BoW\n",
            "getting all tokens BoW for 54829...\n",
            "getting BoW with a 'full clean' approach ...\n",
            "getting customized BoW\n",
            "getting all tokens BoW for 57001...\n",
            "getting BoW with a 'full clean' approach ...\n",
            "getting customized BoW\n",
            "getting all tokens BoW for 55682...\n",
            "getting BoW with a 'full clean' approach ...\n",
            "getting customized BoW\n",
            "getting all tokens BoW for 33056...\n",
            "getting BoW with a 'full clean' approach ...\n",
            "getting customized BoW\n",
            "getting all tokens BoW for 53101...\n",
            "getting BoW with a 'full clean' approach ...\n",
            "getting customized BoW\n",
            "getting all tokens BoW for 67935...\n",
            "getting BoW with a 'full clean' approach ...\n",
            "getting customized BoW\n"
          ]
        }
      ],
      "source": [
        "# create empty df to store the different bag of words (BoWs)\n",
        "df_bows = pd.DataFrame(columns = ['all_tokens', 'full_clean', 'custom_tok'])\n",
        "\n",
        "# iterate each file and create the 3 different BoWs\n",
        "for val in file_list:\n",
        "    # read file\n",
        "    with open(val, 'r', encoding='utf-8') as f:\n",
        "        text_org = f.read()\n",
        "    \n",
        "    # remove line breaks\n",
        "    text_oneline = text_org.replace(\"\\n\", \" \")\n",
        "\n",
        "    # apply model\n",
        "    nlp_text = nlp(text_org)\n",
        "\n",
        "    # create a list to store the NER labes to be \n",
        "    ne2rm = []\n",
        "    for ent in nlp_text.ents:\n",
        "        if ent.label_ in ner_rm:\n",
        "            ne2rm.append(ent.text.lower())\n",
        "\n",
        "    # get lis of unique values for the ner found\n",
        "    ne2rm = list(set(ne2rm))\n",
        "\n",
        "    # other possibilities\n",
        "    # - remove numbers, but not words that contain numbers...\n",
        "    # - Remove words that are only one character...\n",
        "\n",
        "    # all tokens (no space)\n",
        "    print(f'getting all tokens BoW for {val.stem}...')\n",
        "    all_tokens = [token.text.lower() for token in nlp_text if token.pos_ != 'SPACE']\n",
        "\n",
        "    # get all lemma that are not in the removel list neither in the stop list and that is alpha (not letters)\n",
        "    print(\"getting BoW with a 'full clean' approach ...\")\n",
        "    full_clean = [token.lemma_.lower() for token in nlp_text if token.pos_ not in pos_rm and not token.is_stop and token.is_alpha]\n",
        "\n",
        "    # remove locations and named person/family\n",
        "    print(\"getting customized BoW\")\n",
        "    custom_tok = [token.text.lower() for token in nlp_text if token.text.lower() not in ne2rm and token.text.lower() not in wrd_rm and token.pos_ not in pos_rm and not token.is_stop]\n",
        "\n",
        "    # add BoWs to dataframe\n",
        "    df_bows.loc[val.stem] = [all_tokens, full_clean, custom_tok]\n"
      ]
    },
    {
      "cell_type": "code",
      "execution_count": 24,
      "metadata": {
        "colab": {
          "base_uri": "https://localhost:8080/"
        },
        "id": "xamAHevmkn6Y",
        "outputId": "d783a655-dae6-4232-80c2-b811e7a96531"
      },
      "outputs": [
        {
          "output_type": "stream",
          "name": "stdout",
          "text": [
            "                                              all_tokens  \\\n",
            "55797  [memorial, de, ayres, por, machado, de, assis,...   \n",
            "55752  [dom, casmurro, por, machado, de, assis, da, a...   \n",
            "67162  [﻿the, project, gutenberg, ebook, of, helena, ...   \n",
            "61653  [﻿the, project, gutenberg, ebook, of, poesias,...   \n",
            "67780  [﻿the, project, gutenberg, ebook, of, yayá, ga...   \n",
            "56737  [﻿the, project, gutenberg, ebook, of, esau, e,...   \n",
            "54829  [memorias, posthumas, de, braz, cubas, por, ma...   \n",
            "57001  [﻿the, project, gutenberg, ebook, of, papeis, ...   \n",
            "55682  [machado, de, assis, da, academia, brasileira,...   \n",
            "33056  [﻿project, gutenberg, 's, historias, sem, data...   \n",
            "53101  [﻿the, project, gutenberg, ebook, of, a, mao, ...   \n",
            "67935  [﻿the, project, gutenberg, ebook, of, reliquia...   \n",
            "\n",
            "                                              full_clean  \\\n",
            "55797  [memorial, ayres, machado, assis, academia, br...   \n",
            "55752  [dom, casmurro, machado, assis, academia, braz...   \n",
            "67162  [project, gutenberg, ebook, of, helena, by, ma...   \n",
            "61653  [project, gutenberg, ebook, of, poesias, compl...   \n",
            "67780  [project, gutenberg, ebook, of, yayá, garcia, ...   \n",
            "56737  [project, gutenberg, ebook, of, esau, jacob, b...   \n",
            "54829  [memorias, posthumas, braz, cubas, machado, as...   \n",
            "57001  [project, gutenberg, ebook, of, papeis, avulso...   \n",
            "55682  [machado, assis, academia, brasileira, quincas...   \n",
            "33056  [gutenberg, historias, data, by, joaquim, mari...   \n",
            "53101  [project, gutenberg, ebook, of, mao, luva, by,...   \n",
            "67935  [project, gutenberg, ebook, of, reliquias, cas...   \n",
            "\n",
            "                                              custom_tok  \n",
            "55797  [memorial, machado, assis, academia, brazileir...  \n",
            "55752  [machado, assis, academia, brazileira, b., l.,...  \n",
            "67162  [﻿the, project, gutenberg, ebook, of, by, mach...  \n",
            "61653  [﻿the, project, gutenberg, ebook, of, poesias,...  \n",
            "67780  [﻿the, project, gutenberg, ebook, of, by, mach...  \n",
            "56737  [﻿the, project, gutenberg, ebook, of, by, assi...  \n",
            "54829  [memorias, posthumas, machado, assis, rio, jan...  \n",
            "57001  [﻿the, project, gutenberg, ebook, of, avulsos,...  \n",
            "55682  [machado, assis, academia, brasileira, b., l.,...  \n",
            "33056  [﻿project, 's, data, by, maria, machado, assis...  \n",
            "53101  [﻿the, project, gutenberg, ebook, of, mao, luv...  \n",
            "67935  [﻿the, project, gutenberg, ebook, of, reliquia...  \n"
          ]
        }
      ],
      "source": [
        "# write dataframe to file\n",
        "df_bows.to_csv('output/bows.tsv', sep='\\t', encoding='utf-8')\n",
        "\n",
        "# print df \n",
        "print(df_bows)"
      ]
    },
    {
      "cell_type": "markdown",
      "metadata": {
        "id": "5ZCQM1Q5kn6Y"
      },
      "source": [
        "#### 2.3.1. Compute bigrams.\n",
        "as this can be a very heavy (and slow) process, we make it separately \n",
        "and save it in a seperate file"
      ]
    },
    {
      "cell_type": "code",
      "execution_count": 25,
      "metadata": {
        "colab": {
          "base_uri": "https://localhost:8080/"
        },
        "id": "iL7Kkz5Tkn6Y",
        "outputId": "e7fae271-2467-4d46-f602-76130a2dec04"
      },
      "outputs": [
        {
          "output_type": "stream",
          "name": "stderr",
          "text": [
            "/usr/local/lib/python3.8/dist-packages/gensim/models/phrases.py:598: UserWarning: For a faster implementation, use the gensim.models.phrases.Phraser class\n",
            "  warnings.warn(\"For a faster implementation, use the gensim.models.phrases.Phraser class\")\n"
          ]
        },
        {
          "output_type": "execute_result",
          "data": {
            "text/plain": [
              "55797    [memorial, de, ayres, por, machado, de, assis,...\n",
              "55752    [dom, casmurro, por, machado, de, assis, da, a...\n",
              "67162    [﻿the, project, gutenberg, ebook, of, helena, ...\n",
              "61653    [﻿the, project, gutenberg, ebook, of, poesias,...\n",
              "67780    [﻿the, project, gutenberg, ebook, of, yayá, ga...\n",
              "Name: all_tokens, dtype: object"
            ]
          },
          "metadata": {},
          "execution_count": 25
        }
      ],
      "source": [
        "\n",
        "# get only the values from the all_tokens column\n",
        "bow_bigrams = df_bows['all_tokens']\n",
        "\n",
        "len(bow_bigrams[0]) # 93208\n",
        "len(df_bows['all_tokens'][0]) # 1369489\n",
        "\n",
        "# get bigrams that occur at least 5 times\n",
        "bigrams = Phrases(bow_bigrams, min_count=5)\n",
        "\n",
        "# add bigrams to BoW\n",
        "for idx in range(len(bow_bigrams)):\n",
        "    for token in bigrams[bow_bigrams[idx]]:\n",
        "        if '_' in token:\n",
        "            # Token is a bigram, add to document.\n",
        "            bow_bigrams[idx].append(token)\n",
        "\n",
        "# save to file\n",
        "bow_bigrams.to_csv('output/bow_with2gram.tsv', sep='\\t', encoding='utf-8')\n",
        "\n",
        "bow_bigrams.head()"
      ]
    },
    {
      "cell_type": "markdown",
      "metadata": {
        "id": "V4fjQ6hskn6Z"
      },
      "source": [
        "## 3. Applying TM\n"
      ]
    },
    {
      "cell_type": "code",
      "execution_count": null,
      "metadata": {
        "id": "Nurmmq2Qkn6Z"
      },
      "outputs": [],
      "source": [
        "# TODO if time allows, add this section\n",
        "# # we can read the bows from file\n",
        "# # read in dfs\n",
        "# df = pd.read_csv('output/bows.tsv',sep = '\\t',  index_col=0)\n",
        "# df_2gram = pd.read_csv('output/bow_with2gram.tsv',sep = '\\t',  index_col=0)\n",
        "\n",
        "# # see dfs columns\n",
        "# print(df.columns)\n",
        "# print(df_2gram.columns)\n",
        "\n",
        "# # convert values to lists\n",
        "# at_list = df['all_tokens'].apply(eval)\n",
        "# fc_list = df['full_clean'].apply(eval)\n",
        "# ct_list = df['custom_tok'].apply(eval)\n",
        "# bi_list = df_2gram['all_tokens'].apply(eval)\n",
        "\n",
        "# def create_dict_corpus_ind(dfcol):\n",
        "#     # convert values to lists\n",
        "#     bow_list = dfcol.apply(eval)\n",
        "    \n",
        "#     # map each token to a unique ID (applying the Dictionary Object from Gensim)\n",
        "#     dictionary = Dictionary(bow_list)\n",
        "\n",
        "#     # filter\n",
        "#     dictionary.filter_extremes(no_below=1, no_above=0.8, keep_n=None)\n",
        "\n",
        "#     # make bag of words representation of the documents\n",
        "#     corpus = [dictionary.doc2bow(doc) for doc in bow_list]\n",
        "\n",
        "#     # Make an index to word dictionary.\n",
        "#     temp = dictionary[0]  # This is only to \"load\" the dictionary.\n",
        "#     id2word = dictionary.id2token\n",
        "\n",
        "#     # see corpus information\n",
        "#     print('Number of types: %d' % len(dictionary))\n",
        "#     print('Number of documents: %d' % len(corpus))\n",
        "\n",
        "#     return dictionary, corpus, id2word"
      ]
    },
    {
      "cell_type": "markdown",
      "metadata": {
        "id": "o93koBm1kn6Z"
      },
      "source": [
        "### 3.1. Preparing the bag of words\n",
        "Before applying the model, we must first prepare the bag of words\n",
        "\n",
        "The function below helps the replication of the method with different word lists\n",
        "\n",
        "When filtering the corpus, we use the following parameters:\n",
        "- no_below: remove tokens that appear in less than n documents\n",
        "- no_above: remove tokens that appear in more than n% of the corpus\n",
        "- keep_n: keep the N most frequent token (‘None’ keeps all)"
      ]
    },
    {
      "cell_type": "code",
      "execution_count": 26,
      "metadata": {
        "id": "fDlHPPntkn6Z"
      },
      "outputs": [],
      "source": [
        "def create_dict_corpus_ind(bows, no_below=1, no_above=0.8, keep_n=None):   \n",
        "    # map each token to a unique ID (applying the Dictionary Object from Gensim)\n",
        "    dictionary = Dictionary(bows)\n",
        "\n",
        "    # filter\n",
        "    dictionary.filter_extremes(no_below=1, no_above=0.8, keep_n=None)\n",
        "\n",
        "    # make bag of words representation of the documents \n",
        "    # doc2bow() gets the count for all types, gets the integer for each type and returns the space vector\n",
        "    corpus = [dictionary.doc2bow(doc) for doc in bows]\n",
        "\n",
        "    # Make an index to word dictionary.\n",
        "    temp = dictionary[0]  # This is only to \"load\" the dictionary.\n",
        "    id2word = dictionary.id2token\n",
        "\n",
        "    # see corpus information\n",
        "    print('Number of types: %d' % len(dictionary))\n",
        "    print('Number of documents: %d' % len(corpus))\n",
        "\n",
        "    return dictionary, corpus, id2word\n",
        "\n"
      ]
    },
    {
      "cell_type": "code",
      "execution_count": 54,
      "metadata": {
        "colab": {
          "base_uri": "https://localhost:8080/"
        },
        "id": "Qf7bB8nGkn6a",
        "outputId": "36dd4b24-9a00-41fc-e33c-0c1ea85a3920"
      },
      "outputs": [
        {
          "output_type": "stream",
          "name": "stdout",
          "text": [
            "Number of types: 24754\n",
            "Number of documents: 12\n"
          ]
        }
      ],
      "source": [
        "# preparing the data from the bag of words with full clean\n",
        "dicio, corpus, id2word = create_dict_corpus_ind(df_bows['full_clean'])"
      ]
    },
    {
      "cell_type": "markdown",
      "metadata": {
        "id": "cUWy9Ci9kn6a"
      },
      "source": [
        "### 3.2. Finding Optimal number of topics\n",
        "\n",
        "There is not a rule of the right number of topics when applying a model. \n",
        "One way of finding a reasonable number of topics is to train the model with different numbers of topics and then evaluating the results.\n",
        "For this evaluation, we use coherence score measures.\n",
        "These scores measure \"the degree of semantic similarity between high scoring words in each topic.\" \n",
        "Some common algorithms to calculate coherence score are C_v, C_p, C_uci, C_umass, C_npmi, C_a.\n",
        "(see http://svn.aksw.org/papers/2015/WSDM_Topic_Evaluation/public.pdf)\n",
        "Here we will use cv and umass.\n",
        "\n",
        "Coherence score for C_v ranges from 0 (complete incoherence) to 1 (complete coherence).\n",
        "\n",
        "\\> 0.5 = fairly good (Doing Computational Social Science: A Practical Introduction By John McLevey)\n",
        "\n",
        "As LDA is the most frequently used model, we will use this model to train the data and define the number of topics."
      ]
    },
    {
      "cell_type": "code",
      "execution_count": 29,
      "metadata": {
        "id": "DurxPueikn6a"
      },
      "outputs": [],
      "source": [
        "# Calculating the coherence score using C_v and u_mass \n",
        "# we first create an empty list to iterate the number of the max numbers of topics to test\n",
        "# and empty lists to store the cv and umass score\n",
        "def calculate_coherence(bows, corpus, dicio, id2word, ntopics=20, iterations=10, passes=10):\n",
        "    topics = []\n",
        "    score_cv = []\n",
        "    score_umass = []\n",
        "\n",
        "    for i in range(1, ntopics+1, 1):\n",
        "        print(f'working with {i} topics...')\n",
        "        lda_model = models.LdaModel(corpus=corpus, id2word=id2word, iterations=iterations, num_topics=i, passes=passes, random_state=100)\n",
        "        print('calculating cv')\n",
        "        cv = models.CoherenceModel(model = lda_model, texts = bows, corpus = corpus, dictionary = dicio, coherence='c_v')\n",
        "        score_cv.append(cv.get_coherence())\n",
        "        print('calculating umass')\n",
        "        um = models.CoherenceModel(model = lda_model, texts = bows, corpus = corpus, dictionary = dicio, coherence='u_mass')\n",
        "        score_umass.append(um.get_coherence())\n",
        "        topics.append(i)\n",
        "    \n",
        "    return topics, score_cv, score_umass, lda_model"
      ]
    },
    {
      "cell_type": "code",
      "execution_count": 56,
      "metadata": {
        "colab": {
          "base_uri": "https://localhost:8080/"
        },
        "id": "QC7uY6xZkn6b",
        "outputId": "f0015415-2b98-4647-fb2f-dc036b83e80b"
      },
      "outputs": [
        {
          "output_type": "stream",
          "name": "stdout",
          "text": [
            "working with 1 topics...\n",
            "calculating cv\n",
            "calculating umass\n",
            "working with 2 topics...\n",
            "calculating cv\n",
            "calculating umass\n",
            "working with 3 topics...\n",
            "calculating cv\n",
            "calculating umass\n",
            "working with 4 topics...\n",
            "calculating cv\n",
            "calculating umass\n",
            "working with 5 topics...\n",
            "calculating cv\n",
            "calculating umass\n",
            "working with 6 topics...\n",
            "calculating cv\n",
            "calculating umass\n",
            "working with 7 topics...\n",
            "calculating cv\n",
            "calculating umass\n",
            "working with 8 topics...\n",
            "calculating cv\n",
            "calculating umass\n",
            "working with 9 topics...\n",
            "calculating cv\n",
            "calculating umass\n",
            "working with 10 topics...\n",
            "calculating cv\n",
            "calculating umass\n",
            "working with 11 topics...\n",
            "calculating cv\n",
            "calculating umass\n",
            "working with 12 topics...\n",
            "calculating cv\n",
            "calculating umass\n",
            "working with 13 topics...\n",
            "calculating cv\n",
            "calculating umass\n",
            "working with 14 topics...\n",
            "calculating cv\n",
            "calculating umass\n",
            "working with 15 topics...\n",
            "calculating cv\n",
            "calculating umass\n",
            "working with 16 topics...\n",
            "calculating cv\n",
            "calculating umass\n",
            "working with 17 topics...\n",
            "calculating cv\n",
            "calculating umass\n",
            "working with 18 topics...\n",
            "calculating cv\n",
            "calculating umass\n",
            "working with 19 topics...\n",
            "calculating cv\n",
            "calculating umass\n",
            "working with 20 topics...\n",
            "calculating cv\n",
            "calculating umass\n"
          ]
        }
      ],
      "source": [
        "topics, score_cv, score_umass, lda_model = calculate_coherence(df_bows['full_clean'], corpus, dicio, id2word, ntopics=20, iterations=10, passes=10)"
      ]
    },
    {
      "cell_type": "code",
      "execution_count": 57,
      "metadata": {
        "colab": {
          "base_uri": "https://localhost:8080/",
          "height": 296
        },
        "id": "z-nUew5lkn6b",
        "outputId": "f92106c6-1bb6-427e-8d3f-ae537ab77c22"
      },
      "outputs": [
        {
          "output_type": "display_data",
          "data": {
            "text/plain": [
              "<Figure size 432x288 with 1 Axes>"
            ],
            "image/png": "[encoded data removed]"
          },
          "metadata": {
            "needs_background": "light"
          }
        },
        {
          "output_type": "display_data",
          "data": {
            "text/plain": [
              "<Figure size 432x288 with 0 Axes>"
            ]
          },
          "metadata": {}
        }
      ],
      "source": [
        "# plot for cv\n",
        "# > 0.5 = fairly good \n",
        "plt.plot(topics, score_cv)\n",
        "plt.xlabel('Number of Topics')\n",
        "plt.ylabel('Coherence Score - CV')\n",
        "plt.xticks(topics)\n",
        "plt.show()\n",
        "plt.savefig('output/coherence_CV.png')"
      ]
    },
    {
      "cell_type": "code",
      "execution_count": 58,
      "metadata": {
        "colab": {
          "base_uri": "https://localhost:8080/",
          "height": 296
        },
        "id": "RHp33GuAkn6b",
        "outputId": "d048570a-9385-45a9-936a-24b2cc65fe40"
      },
      "outputs": [
        {
          "output_type": "display_data",
          "data": {
            "text/plain": [
              "<Figure size 432x288 with 1 Axes>"
            ],
            "image/png": "[encoded data removed]"
          },
          "metadata": {
            "needs_background": "light"
          }
        },
        {
          "output_type": "display_data",
          "data": {
            "text/plain": [
              "<Figure size 432x288 with 0 Axes>"
            ]
          },
          "metadata": {}
        }
      ],
      "source": [
        "# plot for umass\n",
        "# values closer to 0 are better\n",
        "plt.plot(topics, score_umass)\n",
        "plt.xlabel('Number of Topics')\n",
        "plt.ylabel('Coherence Score - UMASS')\n",
        "plt.xticks(topics)\n",
        "plt.show()\n",
        "plt.savefig('output/coherence_UMASS.png')\n"
      ]
    },
    {
      "cell_type": "markdown",
      "source": [
        "### 3.3. LDA\n",
        "\n",
        "Once and optimal number of topics is defined, we can then see the topics\n",
        "Here we apply the model again with better parameters (more iterations )"
      ],
      "metadata": {
        "id": "wD3sMCAJZDWp"
      }
    },
    {
      "cell_type": "code",
      "execution_count": 59,
      "metadata": {
        "id": "7EfkSBYlkn6c"
      },
      "outputs": [],
      "source": [
        "# LdaModel \n",
        "# Set training parameters\n",
        "num_topics = 17\n",
        "chunksize = 2000\n",
        "passes = 20\n",
        "iterations = 400\n",
        "eval_every = None  # not evaluating model perplexity, takes too much time\n",
        "\n",
        "\n",
        "lda_model = models.LdaModel(\n",
        "    corpus=corpus,\n",
        "    id2word=id2word,\n",
        "    chunksize=chunksize,\n",
        "    # We set alpha = 'auto' and eta = 'auto'\n",
        "    # essentially we are automatically learning two parameters in the model that we usually would have to specify explicitly\n",
        "    alpha='auto',\n",
        "    eta='auto',\n",
        "    iterations=iterations,\n",
        "    num_topics=num_topics,\n",
        "    passes=passes,\n",
        "    eval_every=eval_every\n",
        ")\n",
        "\n"
      ]
    },
    {
      "cell_type": "code",
      "execution_count": 60,
      "metadata": {
        "colab": {
          "base_uri": "https://localhost:8080/"
        },
        "id": "OCA4FWnTkn6c",
        "outputId": "9d67a9f9-ddd6-4147-d621-9ce256cf6a5c"
      },
      "outputs": [
        {
          "output_type": "stream",
          "name": "stdout",
          "text": [
            "See topics\n",
            "[(0,\n",
            "  '0.003*\"the\" + 0.002*\"of\" + 0.002*\"project\" + 0.002*\"to\" + 0.001*\"you\" + '\n",
            "  '0.001*\"and\" + 0.001*\"or\" + 0.001*\"work\" + 0.001*\"with\" + 0.001*\"thi\"'),\n",
            " (1,\n",
            "  '0.030*\"estacio\" + 0.028*\"helena\" + 0.012*\"the\" + 0.010*\"ursula\" + '\n",
            "  '0.008*\"melchior\" + 0.007*\"of\" + 0.006*\"mendonça\" + 0.006*\"camargo\" + '\n",
            "  '0.006*\"eugenia\" + 0.006*\"project\"'),\n",
            " (2,\n",
            "  '0.003*\"the\" + 0.002*\"of\" + 0.002*\"project\" + 0.002*\"to\" + 0.001*\"you\" + '\n",
            "  '0.001*\"and\" + 0.001*\"or\" + 0.001*\"work\" + 0.001*\"with\" + 0.001*\"thi\"'),\n",
            " (3,\n",
            "  '0.013*\"capitú\" + 0.008*\"the\" + 0.005*\"of\" + 0.004*\"escobar\" + '\n",
            "  '0.004*\"project\" + 0.004*\"seminario\" + 0.003*\"to\" + 0.003*\"tio\" + '\n",
            "  '0.003*\"you\" + 0.003*\"and\"'),\n",
            " (4,\n",
            "  '0.013*\"helena\" + 0.013*\"the\" + 0.013*\"barão\" + 0.009*\"cavalcante\" + '\n",
            "  '0.008*\"of\" + 0.007*\"leonor\" + 0.007*\"cecilia\" + 0.006*\"project\" + '\n",
            "  '0.006*\"leocadia\" + 0.006*\"carlota\"'),\n",
            " (5,\n",
            "  '0.003*\"the\" + 0.002*\"of\" + 0.002*\"project\" + 0.002*\"to\" + 0.001*\"you\" + '\n",
            "  '0.001*\"and\" + 0.001*\"or\" + 0.001*\"work\" + 0.001*\"with\" + 0.001*\"thi\"'),\n",
            " (6,\n",
            "  '0.003*\"the\" + 0.002*\"of\" + 0.002*\"project\" + 0.002*\"to\" + 0.001*\"you\" + '\n",
            "  '0.001*\"and\" + 0.001*\"or\" + 0.001*\"work\" + 0.001*\"with\" + 0.001*\"thi\"'),\n",
            " (7,\n",
            "  '0.003*\"the\" + 0.002*\"of\" + 0.002*\"project\" + 0.002*\"to\" + 0.001*\"you\" + '\n",
            "  '0.001*\"and\" + 0.001*\"or\" + 0.001*\"work\" + 0.001*\"with\" + 0.001*\"thi\"'),\n",
            " (8,\n",
            "  '0.040*\"rubião\" + 0.020*\"sophia\" + 0.013*\"maria\" + 0.009*\"palha\" + '\n",
            "  '0.006*\"fallar\" + 0.006*\"carlos\" + 0.006*\"benedicta\" + 0.006*\"quincas\" + '\n",
            "  '0.005*\"borba\" + 0.005*\"fernanda\"'),\n",
            " (9,\n",
            "  '0.011*\"the\" + 0.007*\"of\" + 0.006*\"alienista\" + 0.005*\"benedicta\" + '\n",
            "  '0.005*\"project\" + 0.005*\"to\" + 0.005*\"you\" + 0.004*\"and\" + '\n",
            "  '0.003*\"bacamarte\" + 0.003*\"barbeiro\"'),\n",
            " (10,\n",
            "  '0.013*\"virgilia\" + 0.004*\"borba\" + 0.004*\"quincas\" + 0.004*\"placida\" + '\n",
            "  '0.004*\"marcella\" + 0.003*\"lobo\" + 0.003*\"neves\" + 0.003*\"cubas\" + '\n",
            "  '0.003*\"cotrim\" + 0.002*\"idéa\"'),\n",
            " (11,\n",
            "  '0.012*\"the\" + 0.007*\"of\" + 0.007*\"flora\" + 0.007*\"ayres\" + 0.006*\"pedro\" + '\n",
            "  '0.006*\"natividade\" + 0.006*\"project\" + 0.005*\"to\" + 0.005*\"flôr\" + '\n",
            "  '0.005*\"you\"'),\n",
            " (12,\n",
            "  '0.003*\"the\" + 0.002*\"of\" + 0.002*\"project\" + 0.002*\"to\" + 0.001*\"you\" + '\n",
            "  '0.001*\"and\" + 0.001*\"or\" + 0.001*\"work\" + 0.001*\"with\" + 0.001*\"thi\"'),\n",
            " (13,\n",
            "  '0.024*\"jorge\" + 0.016*\"the\" + 0.015*\"luiz\" + 0.014*\"yayá\" + 0.014*\"estella\" '\n",
            "  '+ 0.012*\"guiomar\" + 0.010*\"of\" + 0.009*\"garcia\" + 0.008*\"project\" + '\n",
            "  '0.007*\"baroneza\"'),\n",
            " (14,\n",
            "  '0.019*\"tristão\" + 0.019*\"fidelia\" + 0.016*\"aguiar\" + 0.015*\"carmo\" + '\n",
            "  '0.010*\"rita\" + 0.006*\"desembargador\" + 0.005*\"caza\" + 0.005*\"mana\" + '\n",
            "  '0.005*\"campos\" + 0.004*\"flamengo\"'),\n",
            " (15,\n",
            "  '0.003*\"the\" + 0.002*\"of\" + 0.002*\"project\" + 0.002*\"to\" + 0.001*\"you\" + '\n",
            "  '0.001*\"and\" + 0.001*\"or\" + 0.001*\"work\" + 0.001*\"with\" + 0.001*\"thi\"'),\n",
            " (16,\n",
            "  '0.003*\"the\" + 0.002*\"of\" + 0.002*\"project\" + 0.002*\"to\" + 0.001*\"you\" + '\n",
            "  '0.001*\"and\" + 0.001*\"or\" + 0.001*\"work\" + 0.001*\"with\" + 0.001*\"thi\"')]\n",
            "\n",
            "See top topics\n",
            "[([(0.0031954525, 'the'),\n",
            "   (0.0019956036, 'of'),\n",
            "   (0.0016473443, 'project'),\n",
            "   (0.0015199806, 'to'),\n",
            "   (0.0014093751, 'you'),\n",
            "   (0.0012913619, 'and'),\n",
            "   (0.0009854815, 'or'),\n",
            "   (0.0009215573, 'work'),\n",
            "   (0.0008838764, 'with'),\n",
            "   (0.00083512743, 'thi'),\n",
            "   (0.0008327234, 'maria'),\n",
            "   (0.0007932053, 'any'),\n",
            "   (0.0007000321, 'works'),\n",
            "   (0.00068195513, 'gutenberg'),\n",
            "   (0.0006629946, 'cer'),\n",
            "   (0.0006526024, 'not'),\n",
            "   (0.0006207258, 'electronic'),\n",
            "   (0.0006145989, 'by'),\n",
            "   (0.00058932323, 'tia'),\n",
            "   (0.0005839274, 'foundation')],\n",
            "  -0.11646740999801151),\n",
            " ([(0.0031976346, 'the'),\n",
            "   (0.0019963305, 'of'),\n",
            "   (0.0016491126, 'project'),\n",
            "   (0.0015215618, 'to'),\n",
            "   (0.0014104429, 'you'),\n",
            "   (0.0012919479, 'and'),\n",
            "   (0.0009866792, 'or'),\n",
            "   (0.0009223776, 'work'),\n",
            "   (0.0008843276, 'with'),\n",
            "   (0.0008357971, 'thi'),\n",
            "   (0.00083281234, 'maria'),\n",
            "   (0.00079366437, 'any'),\n",
            "   (0.0007003494, 'works'),\n",
            "   (0.0006820135, 'gutenberg'),\n",
            "   (0.0006631825, 'cer'),\n",
            "   (0.0006528528, 'not'),\n",
            "   (0.00062129385, 'electronic'),\n",
            "   (0.0006148373, 'by'),\n",
            "   (0.00058913685, 'tia'),\n",
            "   (0.0005839572, 'foundation')],\n",
            "  -0.11646740999801151),\n",
            " ([(0.0031962025, 'the'),\n",
            "   (0.001996193, 'of'),\n",
            "   (0.00164771, 'project'),\n",
            "   (0.0015198985, 'to'),\n",
            "   (0.0014097804, 'you'),\n",
            "   (0.0012916378, 'and'),\n",
            "   (0.0009856385, 'or'),\n",
            "   (0.0009218324, 'work'),\n",
            "   (0.0008842136, 'with'),\n",
            "   (0.0008352578, 'thi'),\n",
            "   (0.0008332131, 'maria'),\n",
            "   (0.0007933593, 'any'),\n",
            "   (0.0007000616, 'works'),\n",
            "   (0.0006820369, 'gutenberg'),\n",
            "   (0.0006631428, 'cer'),\n",
            "   (0.000652651, 'not'),\n",
            "   (0.0006208131, 'electronic'),\n",
            "   (0.00061462476, 'by'),\n",
            "   (0.00058968156, 'tia'),\n",
            "   (0.000583967, 'foundation')],\n",
            "  -0.11646740999801151),\n",
            " ([(0.0031975687, 'the'),\n",
            "   (0.0019985966, 'of'),\n",
            "   (0.0016492585, 'project'),\n",
            "   (0.0015211441, 'to'),\n",
            "   (0.0014115168, 'you'),\n",
            "   (0.0012926218, 'and'),\n",
            "   (0.0009866001, 'or'),\n",
            "   (0.0009224578, 'work'),\n",
            "   (0.0008847012, 'with'),\n",
            "   (0.0008360736, 'thi'),\n",
            "   (0.0008327135, 'maria'),\n",
            "   (0.0007937026, 'any'),\n",
            "   (0.0007004831, 'works'),\n",
            "   (0.00068263046, 'gutenberg'),\n",
            "   (0.0006632689, 'cer'),\n",
            "   (0.00065322645, 'not'),\n",
            "   (0.00062114507, 'electronic'),\n",
            "   (0.00061508844, 'by'),\n",
            "   (0.0005892587, 'tia'),\n",
            "   (0.0005843796, 'foundation')],\n",
            "  -0.11646740999801151),\n",
            " ([(0.0032009804, 'the'),\n",
            "   (0.002000967, 'of'),\n",
            "   (0.0016510565, 'project'),\n",
            "   (0.0015219841, 'to'),\n",
            "   (0.0014114672, 'you'),\n",
            "   (0.0012931072, 'and'),\n",
            "   (0.0009869067, 'or'),\n",
            "   (0.0009230383, 'work'),\n",
            "   (0.00088472734, 'with'),\n",
            "   (0.00083648023, 'thi'),\n",
            "   (0.0008337417, 'maria'),\n",
            "   (0.00079414726, 'any'),\n",
            "   (0.0007009029, 'works'),\n",
            "   (0.0006824169, 'gutenberg'),\n",
            "   (0.0006636889, 'cer'),\n",
            "   (0.0006532724, 'not'),\n",
            "   (0.0006216139, 'electronic'),\n",
            "   (0.0006154856, 'by'),\n",
            "   (0.00058893726, 'tia'),\n",
            "   (0.00058482884, 'foundation')],\n",
            "  -0.11646740999801151),\n",
            " ([(0.0032027443, 'the'),\n",
            "   (0.0020016993, 'of'),\n",
            "   (0.0016514441, 'project'),\n",
            "   (0.0015233093, 'to'),\n",
            "   (0.0014136288, 'you'),\n",
            "   (0.0012934022, 'and'),\n",
            "   (0.0009867769, 'or'),\n",
            "   (0.00092323095, 'work'),\n",
            "   (0.0008852701, 'with'),\n",
            "   (0.0008378903, 'thi'),\n",
            "   (0.0008337129, 'maria'),\n",
            "   (0.00079457683, 'any'),\n",
            "   (0.00070156436, 'works'),\n",
            "   (0.00068293023, 'gutenberg'),\n",
            "   (0.0006690153, 'cer'),\n",
            "   (0.00065287773, 'not'),\n",
            "   (0.00062197907, 'electronic'),\n",
            "   (0.00061564875, 'by'),\n",
            "   (0.0005907221, 'tia'),\n",
            "   (0.00058451836, 'foundation')],\n",
            "  -0.11646740999801151),\n",
            " ([(0.0031933472, 'the'),\n",
            "   (0.001994546, 'of'),\n",
            "   (0.0016465847, 'project'),\n",
            "   (0.0015190647, 'to'),\n",
            "   (0.0014087678, 'you'),\n",
            "   (0.0012906666, 'and'),\n",
            "   (0.0009850406, 'or'),\n",
            "   (0.00092116836, 'work'),\n",
            "   (0.0008835104, 'with'),\n",
            "   (0.0008347688, 'thi'),\n",
            "   (0.00083244115, 'maria'),\n",
            "   (0.00079283136, 'any'),\n",
            "   (0.0006997437, 'works'),\n",
            "   (0.00068162003, 'gutenberg'),\n",
            "   (0.0006630585, 'cer'),\n",
            "   (0.00065233384, 'not'),\n",
            "   (0.00062047056, 'electronic'),\n",
            "   (0.0006143251, 'by'),\n",
            "   (0.00058923074, 'tia'),\n",
            "   (0.00058367825, 'foundation')],\n",
            "  -0.11646740999801151),\n",
            " ([(0.0032107506, 'the'),\n",
            "   (0.0020031754, 'of'),\n",
            "   (0.0016537962, 'project'),\n",
            "   (0.0015253713, 'to'),\n",
            "   (0.0014143157, 'you'),\n",
            "   (0.0012959472, 'and'),\n",
            "   (0.0009888562, 'or'),\n",
            "   (0.0009242643, 'work'),\n",
            "   (0.000886955, 'with'),\n",
            "   (0.00083730876, 'thi'),\n",
            "   (0.0008318954, 'maria'),\n",
            "   (0.00079568464, 'any'),\n",
            "   (0.00070241914, 'works'),\n",
            "   (0.0006838204, 'gutenberg'),\n",
            "   (0.0006643983, 'cer'),\n",
            "   (0.00065471535, 'not'),\n",
            "   (0.0006226815, 'electronic'),\n",
            "   (0.0006163222, 'by'),\n",
            "   (0.00059133704, 'tia'),\n",
            "   (0.0005865355, 'foundation')],\n",
            "  -0.11646740999801151),\n",
            " ([(0.0130267935, 'virgilia'),\n",
            "   (0.004432398, 'borba'),\n",
            "   (0.004241372, 'quincas'),\n",
            "   (0.004040366, 'placida'),\n",
            "   (0.0038408616, 'marcella'),\n",
            "   (0.0034027616, 'lobo'),\n",
            "   (0.0032822427, 'neves'),\n",
            "   (0.0030272913, 'cubas'),\n",
            "   (0.0025004246, 'cotrim'),\n",
            "   (0.0024510382, 'idéa'),\n",
            "   (0.0023158223, 'sabina'),\n",
            "   (0.0020733434, 'braz'),\n",
            "   (0.0017871505, 'fiquei'),\n",
            "   (0.0017414244, 'humanitas'),\n",
            "   (0.0016158328, 'tio'),\n",
            "   (0.0015189718, 'idéar'),\n",
            "   (0.0014815198, 'humanitismo'),\n",
            "   (0.0013508114, 'eusebia'),\n",
            "   (0.0013017992, 'aceitar'),\n",
            "   (0.0012343436, 'sujeito')],\n",
            "  -0.33849921576771136),\n",
            " ([(0.018778397, 'tristão'),\n",
            "   (0.018691033, 'fidelia'),\n",
            "   (0.015815884, 'aguiar'),\n",
            "   (0.0147995865, 'carmo'),\n",
            "   (0.010086791, 'rita'),\n",
            "   (0.005588437, 'desembargador'),\n",
            "   (0.0046479166, 'caza'),\n",
            "   (0.004579248, 'mana'),\n",
            "   (0.0045550875, 'campos'),\n",
            "   (0.0043373047, 'flamengo'),\n",
            "   (0.0042010867, 'cazar'),\n",
            "   (0.0029785566, 'noronha'),\n",
            "   (0.0028913, 'cazamento'),\n",
            "   (0.0027362665, 'tio'),\n",
            "   (0.002721351, 'assunto'),\n",
            "   (0.002674168, 'lisboa'),\n",
            "   (0.0026554347, 'aceitar'),\n",
            "   (0.0026218584, 'de aqui'),\n",
            "   (0.002454365, 'afeição'),\n",
            "   (0.0024447509, 'escrevi')],\n",
            "  -0.509943484653912),\n",
            " ([(0.0301399, 'estacio'),\n",
            "   (0.028450908, 'helena'),\n",
            "   (0.011841058, 'the'),\n",
            "   (0.009896465, 'ursula'),\n",
            "   (0.007895594, 'melchior'),\n",
            "   (0.006996141, 'of'),\n",
            "   (0.0060712937, 'mendonça'),\n",
            "   (0.005835705, 'camargo'),\n",
            "   (0.00562924, 'eugenia'),\n",
            "   (0.0056102653, 'project'),\n",
            "   (0.005106472, 'to'),\n",
            "   (0.0050450726, 'conselheiro'),\n",
            "   (0.0047832024, 'you'),\n",
            "   (0.0044262456, 'ésta'),\n",
            "   (0.004419176, 'ja'),\n",
            "   (0.0041051055, 'and'),\n",
            "   (0.00312821, 'médico'),\n",
            "   (0.0030245192, 'or'),\n",
            "   (0.0028338695, 'pe'),\n",
            "   (0.0028311834, 'work')],\n",
            "  -0.5350088769638661),\n",
            " ([(0.013450018, 'helena'),\n",
            "   (0.013165074, 'the'),\n",
            "   (0.013163332, 'barão'),\n",
            "   (0.00858149, 'cavalcante'),\n",
            "   (0.007778453, 'of'),\n",
            "   (0.006951987, 'leonor'),\n",
            "   (0.00650328, 'cecilia'),\n",
            "   (0.0062374845, 'project'),\n",
            "   (0.005845191, 'leocadia'),\n",
            "   (0.0057053994, 'carlota'),\n",
            "   (0.0056773433, 'to'),\n",
            "   (0.0054751597, 'maria'),\n",
            "   (0.005318038, 'you'),\n",
            "   (0.005314427, 'magalhães'),\n",
            "   (0.0046295635, 'and'),\n",
            "   (0.0038997491, 'tia'),\n",
            "   (0.0034780952, 'adelaide'),\n",
            "   (0.0034126916, 'quintanilha'),\n",
            "   (0.003386875, 'gonçalves'),\n",
            "   (0.0033624098, 'or')],\n",
            "  -0.6402667978073975),\n",
            " ([(0.040008217, 'rubião'),\n",
            "   (0.019569725, 'sophia'),\n",
            "   (0.012970341, 'maria'),\n",
            "   (0.009115887, 'palha'),\n",
            "   (0.006399725, 'fallar'),\n",
            "   (0.006286272, 'carlos'),\n",
            "   (0.00590012, 'benedicta'),\n",
            "   (0.0056618233, 'quincas'),\n",
            "   (0.0054325163, 'borba'),\n",
            "   (0.005296896, 'fernanda'),\n",
            "   (0.0038598296, 'camacho'),\n",
            "   (0.0035446873, 'major'),\n",
            "   (0.002548942, 'cachorro'),\n",
            "   (0.0022497352, 'tonica'),\n",
            "   (0.0022112906, 'theophilo'),\n",
            "   (0.0021897587, 'cocheiro'),\n",
            "   (0.0017799468, 'cer'),\n",
            "   (0.0017354152, 'barbacena'),\n",
            "   (0.001716659, 'prima'),\n",
            "   (0.0016746799, 'christiano')],\n",
            "  -0.6417665576168176),\n",
            " ([(0.01143632, 'the'),\n",
            "   (0.00687018, 'of'),\n",
            "   (0.006163943, 'alienista'),\n",
            "   (0.005490492, 'benedicta'),\n",
            "   (0.005418296, 'project'),\n",
            "   (0.004931279, 'to'),\n",
            "   (0.00456264, 'you'),\n",
            "   (0.0041917507, 'and'),\n",
            "   (0.0034781913, 'bacamarte'),\n",
            "   (0.003240386, 'barbeiro'),\n",
            "   (0.002977628, 'or'),\n",
            "   (0.0027342087, 'work'),\n",
            "   (0.0026903485, 'simão'),\n",
            "   (0.0026681214, 'with'),\n",
            "   (0.0026251972, 'nicoláu'),\n",
            "   (0.002520387, 'fallar'),\n",
            "   (0.0025112177, 'evarista'),\n",
            "   (0.002428258, 'thi'),\n",
            "   (0.0023451026, 'itaguahy'),\n",
            "   (0.0023037957, 'any')],\n",
            "  -0.7425745259565119),\n",
            " ([(0.011947642, 'the'),\n",
            "   (0.0071797604, 'of'),\n",
            "   (0.0067886943, 'flora'),\n",
            "   (0.006571835, 'ayres'),\n",
            "   (0.005942994, 'pedro'),\n",
            "   (0.005728441, 'natividade'),\n",
            "   (0.005701085, 'project'),\n",
            "   (0.00527905, 'to'),\n",
            "   (0.0048613283, 'flôr'),\n",
            "   (0.0047972463, 'you'),\n",
            "   (0.0044074976, 'and'),\n",
            "   (0.0039616683, 'céu'),\n",
            "   (0.003402931, 'santos'),\n",
            "   (0.0031840685, 'or'),\n",
            "   (0.003021978, 'myrto'),\n",
            "   (0.0028640782, 'work'),\n",
            "   (0.0027968765, 'with'),\n",
            "   (0.002717559, 'baptista'),\n",
            "   (0.002648815, 'cleon'),\n",
            "   (0.002540936, 'thi')],\n",
            "  -1.429523798144495),\n",
            " ([(0.024162866, 'jorge'),\n",
            "   (0.01640882, 'the'),\n",
            "   (0.015404846, 'luiz'),\n",
            "   (0.014313435, 'yayá'),\n",
            "   (0.014206424, 'estella'),\n",
            "   (0.011916003, 'guiomar'),\n",
            "   (0.009741231, 'of'),\n",
            "   (0.009428698, 'garcia'),\n",
            "   (0.007768808, 'project'),\n",
            "   (0.007155281, 'baroneza'),\n",
            "   (0.007151758, 'to'),\n",
            "   (0.0070002927, 'estevão'),\n",
            "   (0.00658009, 'you'),\n",
            "   (0.006207045, 'alves'),\n",
            "   (0.0059223366, 'and'),\n",
            "   (0.004583674, 'valeria'),\n",
            "   (0.0044989027, 'procopio'),\n",
            "   (0.004169276, 'or'),\n",
            "   (0.0039031613, 'work'),\n",
            "   (0.0038213055, 'oswald')],\n",
            "  -3.409029868211139),\n",
            " ([(0.013490299, 'capitú'),\n",
            "   (0.0075661633, 'the'),\n",
            "   (0.004664191, 'of'),\n",
            "   (0.00431676, 'escobar'),\n",
            "   (0.0036932058, 'project'),\n",
            "   (0.0036455241, 'seminario'),\n",
            "   (0.0033935285, 'to'),\n",
            "   (0.0032948405, 'tio'),\n",
            "   (0.003018037, 'you'),\n",
            "   (0.002878511, 'and'),\n",
            "   (0.002722337, 'prima'),\n",
            "   (0.0026075547, 'cer'),\n",
            "   (0.0023408341, 'marianna'),\n",
            "   (0.002280918, 'mamãe'),\n",
            "   (0.002260288, 'bentinho'),\n",
            "   (0.0022207827, 'cosme'),\n",
            "   (0.0022206956, 'justina'),\n",
            "   (0.0021125197, 'or'),\n",
            "   (0.0020850878, 'maria'),\n",
            "   (0.0020648644, 'ezequiel')],\n",
            "  -7.370126689146069)]\n",
            "Average topic coherence: -0.9734.\n"
          ]
        }
      ],
      "source": [
        "# see the topics\n",
        "print(\"See topics\")\n",
        "pprint(lda_model.print_topics())\n",
        "\n",
        "# get top topics\n",
        "top_topics = lda_model.top_topics(corpus)\n",
        "print(\"\\nSee top topics\")\n",
        "pprint(top_topics)\n",
        "\n",
        "# Average topic coherence is the sum of topic coherences of all topics, divided by the number of topics.\n",
        "avg_topic_coherence = sum([t[1] for t in top_topics]) / num_topics\n",
        "print('Average topic coherence: %.4f.' % avg_topic_coherence)\n",
        "\n"
      ]
    },
    {
      "cell_type": "code",
      "source": [
        "pyLDAvis.enable_notebook()\n",
        "\n",
        "pyLDAvis.gensim_models.prepare(lda_model, corpus, dicio)\n",
        "\n",
        "\n"
      ],
      "metadata": {
        "colab": {
          "base_uri": "https://localhost:8080/",
          "height": 861
        },
        "id": "gKlSXAJHeSrq",
        "outputId": "45fe9a01-9ac0-47e1-c92b-39d48ee0218a"
      },
      "execution_count": 61,
      "outputs": [
        {
          "output_type": "execute_result",
          "data": {
            "text/plain": [
              "PreparedData(topic_coordinates=              x         y  topics  cluster       Freq\n",
              "topic                                                \n",
              "11    -0.057133 -0.033618       1        1  20.487105\n",
              "3      0.005291  0.022445       2        1  15.399153\n",
              "13    -0.127345  0.013860       3        1  14.148817\n",
              "9     -0.041931  0.031669       4        1   9.707253\n",
              "8      0.122917  0.096067       5        1   9.556976\n",
              "1     -0.097183  0.008629       6        1   9.258642\n",
              "10     0.097700  0.044800       7        1   8.291092\n",
              "4     -0.070198 -0.016283       8        1   7.994245\n",
              "14     0.098318 -0.155976       9        1   5.156010\n",
              "7      0.008764 -0.001551      10        1   0.000094\n",
              "12     0.008657 -0.001411      11        1   0.000092\n",
              "16     0.008520 -0.001429      12        1   0.000090\n",
              "6      0.008677 -0.001435      13        1   0.000088\n",
              "2      0.008713 -0.001432      14        1   0.000087\n",
              "5      0.008733 -0.001452      15        1   0.000087\n",
              "15     0.008766 -0.001439      16        1   0.000084\n",
              "0      0.008735 -0.001445      17        1   0.000084, topic_info=            Term         Freq        Total Category  logprob  loglift\n",
              "9961         the  1272.000000  1272.000000  Default  30.0000  30.0000\n",
              "9024          of   762.000000   762.000000  Default  29.0000  29.0000\n",
              "9364     project   606.000000   606.000000  Default  28.0000  28.0000\n",
              "9988          to   557.000000   557.000000  Default  27.0000  27.0000\n",
              "10243        you   511.000000   511.000000  Default  26.0000  26.0000\n",
              "...          ...          ...          ...      ...      ...      ...\n",
              "9951       terms     0.000058   151.243187  Topic17  -7.5670  -0.7722\n",
              "8647          is     0.000053   135.779567  Topic17  -7.6564  -0.7538\n",
              "8223      fallar     0.000060   192.392190  Topic17  -7.5415  -0.9873\n",
              "7635   copyright     0.000053   136.164198  Topic17  -7.6710  -0.7712\n",
              "7058   agreement     0.000052   128.145251  Topic17  -7.6890  -0.7286\n",
              "\n",
              "[1477 rows x 6 columns], token_table=       Topic      Freq      Term\n",
              "term                            \n",
              "17071      7  0.754434    abanei\n",
              "3116       1  0.098097  accordar\n",
              "3116       2  0.117716  accordar\n",
              "3116       3  0.176575  accordar\n",
              "3116       4  0.039239  accordar\n",
              "...      ...       ...       ...\n",
              "3055       1  0.687896         ó\n",
              "3055       2  0.042994         ó\n",
              "3055       5  0.171974         ó\n",
              "3055       6  0.021497         ó\n",
              "3055       9  0.042994         ó\n",
              "\n",
              "[1853 rows x 3 columns], R=30, lambda_step=0.01, plot_opts={'xlab': 'PC1', 'ylab': 'PC2'}, topic_order=[12, 4, 14, 10, 9, 2, 11, 5, 15, 8, 13, 17, 7, 3, 6, 16, 1])"
            ],
            "text/html": [
              "\n",
              "<link rel=\"stylesheet\" type=\"text/css\" href=\"https://cdn.jsdelivr.net/gh/bmabey/pyLDAvis@3.3.1/pyLDAvis/js/ldavis.v1.0.0.css\">\n",
              "\n",
              "\n",
              "<div id=\"ldavis_el1927140457048861600295253106\"></div>\n",
              "<script type=\"text/javascript\">\n",
              "\n",
              "var ldavis_el1927140457048861600295253106_data = {\"mdsDat\": {\"x\": [-0.057133105259118584, 0.005291132668593227, -0.12734455603264955, -0.04193125571709926, 0.12291688818119864, -0.09718347589834976, 0.09769978052111686, -0.07019790364045529, 0.09831833515536434, 0.00876377646746721, 0.00865682417952744, 0.008520022607183483, 0.008676559443940506, 0.008713285060711643, 0.00873299362109052, 0.008765773424543787, 0.008734925216934822], \"y\": [-0.0336176377021102, 0.022444522147446078, 0.013860484225457935, 0.03166892770420868, 0.0960671594401195, 0.008628779354566041, 0.04479989746645536, -0.01628267431115893, -0.15597589002786214, -0.0015514566756490843, -0.0014105365844918243, -0.0014289991640557297, -0.0014347675597557493, -0.0014320688280233626, -0.001451686691026276, -0.0014389318076075367, -0.0014451209865128565], \"topics\": [1, 2, 3, 4, 5, 6, 7, 8, 9, 10, 11, 12, 13, 14, 15, 16, 17], \"cluster\": [1, 1, 1, 1, 1, 1, 1, 1, 1, 1, 1, 1, 1, 1, 1, 1, 1], \"Freq\": [20.487105228334663, 15.399153139419091, 14.14881743088059, 9.707252889626112, 9.556975944497061, 9.258641930129349, 8.291092363466511, 7.9942445411350205, 5.156010178827883, 9.400665480617535e-05, 9.246080248915834e-05, 8.961224026959158e-05, 8.818460316441918e-05, 8.745914868290859e-05, 8.719931360345922e-05, 8.37338801754661e-05, 8.369704052807247e-05]}, \"tinfo\": {\"Term\": [\"the\", \"of\", \"project\", \"to\", \"you\", \"and\", \"rubi\\u00e3o\", \"helena\", \"or\", \"jorge\", \"estacio\", \"maria\", \"work\", \"with\", \"thi\", \"luiz\", \"any\", \"works\", \"gutenberg\", \"yay\\u00e1\", \"sophia\", \"by\", \"not\", \"electronic\", \"estella\", \"capit\\u00fa\", \"foundation\", \"cer\", \"fallar\", \"are\", \"natividade\", \"myrto\", \"cleon\", \"lysias\", \"flora\", \"claudia\", \"cabocla\", \"ayres\", \"footnote\", \"nobrega\", \"b\\u00f4ca\", \"elvira\", \"gemeo\", \"confeitaria\", \"santos\", \"baptista\", \"perfume\", \"lagrimas\", \"indio\", \"emtanto\", \"m\\u00e1goa\", \"octavio\", \"inda\", \"voa\", \"logista\", \"corinna\", \"clodia\", \"calmo\", \"potyra\", \"perpetua\", \"pedro\", \"guerreiro\", \"fl\\u00f4r\", \"taboleta\", \"clemente\", \"trez\", \"heitor\", \"c\\u00e9u\", \"placido\", \"seio\", \"v\\u00e9u\", \"\\u00f3\", \"castello\", \"pallida\", \"musa\", \"the\", \"of\", \"project\", \"to\", \"you\", \"and\", \"or\", \"rei\", \"work\", \"with\", \"thi\", \"any\", \"works\", \"gutenberg\", \"by\", \"electronic\", \"capit\\u00fa\", \"escobar\", \"seminario\", \"justina\", \"cosme\", \"bentinho\", \"marianna\", \"sancha\", \"cabral\", \"protonotario\", \"aggregado\", \"genoveva\", \"matacavallos\", \"ezequiel\", \"manduca\", \"marocas\", \"kalaphangko\", \"stroibus\", \"seminarista\", \"caetaninha\", \"olympia\", \"padua\", \"m\\u00e3i\", \"jeremias\", \"thom\\u00e9\", \"kinnara\", \"rom\\u00e3o\", \"benjamim\", \"fl\\u00f2r\", \"fortunata\", \"andrade\", \"rato\", \"camilla\", \"prima\", \"falc\\u00e3o\", \"tio\", \"bocca\", \"mam\\u00e3e\", \"chap\\u00e9o\", \"cer\", \"the\", \"credor\", \"of\", \"project\", \"to\", \"you\", \"and\", \"fiquei\", \"or\", \"fallar\", \"maria\", \"work\", \"with\", \"thi\", \"any\", \"jorge\", \"guiomar\", \"estev\\u00e3o\", \"estella\", \"valeria\", \"procopio\", \"oswald\", \"mrs\", \"madrasta\", \"antunes\", \"enteada\", \"garcia\", \"yay\\u00e1\", \"ingleza\", \"dores\", \"entear\", \"luiz\", \"afilhada\", \"alves\", \"henriqueta\", \"pombo\", \"pombos\", \"affoutamente\", \"amarar\", \"emboscar\", \"lagrua\", \"entrever\", \"meado\", \"cega\", \"lagruista\", \"baroneza\", \"aspira\\u00e7\\u00e3o\", \"raymur\", \"sobretudo\", \"the\", \"of\", \"raymundo\", \"project\", \"to\", \"you\", \"and\", \"or\", \"work\", \"with\", \"thi\", \"any\", \"works\", \"gutenberg\", \"by\", \"electronic\", \"bacamarte\", \"nicol\\u00e1u\", \"evarista\", \"japhet\", \"anjos\", \"crispim\", \"chinela\", \"porfirio\", \"alcibiades\", \"meirelles\", \"leandrinho\", \"titan\\u00e9\", \"chronista\", \"cangicas\", \"alparca\", \"polycrates\", \"z\", \"alienista\", \"ltaguahy\", \"duarte\", \"cham\", \"fucheo\", \"albardeiro\", \"matraca\", \"itaguahy\", \"patimau\", \"chucro\", \"marcolina\", \"teia\", \"povoa\\u00e7\\u00e3o\", \"sim\\u00e3o\", \"bonzo\", \"soares\", \"lopo\", \"vereador\", \"boticario\", \"alfer\", \"no\\u00e9\", \"xavier\", \"barbeiro\", \"villa\", \"sacco\", \"benedicta\", \"camar\", \"tabelli\\u00e3o\", \"eulalia\", \"the\", \"conego\", \"of\", \"project\", \"to\", \"you\", \"and\", \"fallar\", \"or\", \"work\", \"with\", \"thi\", \"any\", \"works\", \"gutenberg\", \"by\", \"maria\", \"rubi\\u00e3o\", \"fernanda\", \"camacho\", \"tonica\", \"christiano\", \"carlos\", \"vendilh\\u00e3o\", \"barbacena\", \"palha\", \"sequeira\", \"siqueira\", \"sophia\", \"ordenan\\u00e7a\", \"batata\", \"bolha\", \"cachorro\", \"pantorrilha\", \"pelotas\", \"achava\", \"hasde\", \"alagoas\", \"mendes\", \"empurr\\u00e3o\", \"fallado\", \"angelica\", \"almeida\", \"palpite\", \"lucien\", \"pl\\u00e1s\", \"orsini\", \"freitas\", \"vis\", \"major\", \"quincas\", \"borba\", \"atalaia\", \"theophilo\", \"maria\", \"fia\", \"benedicta\", \"fallar\", \"minas\", \"cocheiro\", \"marquez\", \"socio\", \"senhoria\", \"director\", \"sahiu\", \"tilbury\", \"prima\", \"commiss\\u00e3o\", \"cer\", \"primo\", \"criado\", \"botafogo\", \"accordar\", \"medico\", \"sahir\", \"estacio\", \"ursula\", \"melchior\", \"mendon\\u00e7a\", \"camargo\", \"m\\u00e9dico\", \"pe\", \"sil\\u00eancio\", \"\\u00e9sta\", \"circumst\\u00e2ncia\", \"influ\\u00eancia\", \"pol\\u00edtica\", \"thomasia\", \"p\\u00e1gina\", \"juncto\", \"f\\u00f4r\\u00e7a\", \"dist\\u00e2ncia\", \"alm\\u00f4\\u00e7o\", \"dom\\u00e9stico\", \"p\\u00fablico\", \"\\u00e9stas\", \"revella\\u00e7\\u00e3o\", \"s\\u00f4bre\", \"\\u00earro\", \"pes\", \"\\u00e1rvore\", \"alia\", \"c\\u00e1lculo\", \"d\\u00favida\", \"s\\u00f4brir\", \"eugenia\", \"voce\", \"helena\", \"ja\", \"angela\", \"lagryma\", \"salvador\", \"conselheiro\", \"capell\\u00e3o\", \"not\\u00edcia\", \"the\", \"pagem\", \"sahiu\", \"of\", \"sobrinho\", \"project\", \"to\", \"you\", \"sahir\", \"tia\", \"and\", \"or\", \"work\", \"with\", \"thi\", \"any\", \"works\", \"gutenberg\", \"virgilia\", \"marcella\", \"cotrim\", \"eusebia\", \"damasceno\", \"placida\", \"emplasto\", \"viegas\", \"dutra\", \"villa\\u00e7a\", \"lobo\", \"humanitismo\", \"virumque\", \"prudencio\", \"almocreve\", \"bradei\", \"compota\", \"trapezio\", \"arcebispo\", \"boleeiro\", \"chapeleiro\", \"espadim\", \"bexiga\", \"antanho\", \"tartaro\", \"vergalho\", \"cubas\", \"sandice\", \"tanoaria\", \"transla\\u00e7\\u00e3o\", \"gamboa\", \"virgilio\", \"sabina\", \"moita\", \"neves\", \"nhonh\\u00f4\", \"braz\", \"humanitas\", \"borba\", \"quincas\", \"barretina\", \"id\\u00e9ar\", \"id\\u00e9a\", \"systema\", \"fiquei\", \"coxa\", \"navio\", \"sujeito\", \"moeda\", \"phenomeno\", \"tio\", \"id\\u00e9as\", \"aceitar\", \"dev\\u00e9ra\", \"fallar\", \"capit\\u00e3o\", \"cavalcante\", \"adelaide\", \"quintanilha\", \"carlota\", \"leonor\", \"fonseca\", \"cordovil\", \"z\\u00e9ca\", \"magalh\\u00e3es\", \"merc\\u00eas\", \"alcmena\", \"leocadia\", \"prazeres\", \"felicia\", \"cecilia\", \"periantho\", \"moli\\u00e8re\", \"mangerona\", \"cabriolet\", \"encruzilhada\", \"verissimo\", \"federalista\", \"raymunda\", \"kernoberg\", \"stockolmo\", \"cabrioletr\", \"plauto\", \"graminea\", \"cora\", \"coadjuctor\", \"bar\\u00e3o\", \"henrique\", \"benedicto\", \"candido\", \"botanica\", \"grecia\", \"commendador\", \"antonio\", \"gon\\u00e7alves\", \"china\", \"helena\", \"judeu\", \"tia\", \"the\", \"maria\", \"of\", \"project\", \"ex\", \"to\", \"you\", \"and\", \"or\", \"work\", \"with\", \"thi\", \"any\", \"tio\", \"works\", \"gutenberg\", \"by\", \"trist\\u00e3o\", \"fidelia\", \"aguiar\", \"cazar\", \"noronha\", \"cazamento\", \"afei\\u00e7\\u00e3o\", \"cazal\", \"osorio\", \"campos\", \"ocasi\\u00e3o\", \"aten\\u00e7\\u00e3o\", \"oficio\", \"acordo\", \"miranda\", \"caza\", \"assunto\", \"anedota\", \"cesaria\", \"carmo\", \"estilo\", \"gerente\", \"aprovar\", \"excelente\", \"leiloeiro\", \"apozentar\", \"meter\", \"parahyba\", \"shelley\", \"suceder\", \"junho\", \"liberto\", \"mana\", \"posti\\u00e7o\", \"rita\", \"fevereiro\", \"aparecer\", \"bonde\", \"desembargador\", \"flamengo\", \"lisboa\", \"escrevi\", \"maio\", \"padrinho\", \"de aqui\", \"aceitar\", \"petropolis\", \"tio\", \"sobrinha\", \"agosto\", \"conselheiro\", \"sul\", \"mortifica\", \"podias\", \"cahem\", \"poemasinho\", \"idum\\u00e9a\", \"biographar\", \"chicaro\", \"immodestia\", \"imponente\", \"gorgor\\u00e3o\", \"empregarr\", \"consterno\", \"dezesei\", \"circumflex\\u00e3o\", \"echoor\", \"tenrurar\", \"virgilias\", \"esqualer\", \"fer\", \"abanei\", \"arruar\", \"manteiga\", \"contemos\", \"notem\", \"constrange\", \"pachola\", \"musicaes\", \"vexadissimar\", \"condigna\", \"obsequiador\", \"homemzarr\\u00e3o\", \"perfidia\", \"liga\\u00e7\\u00e3o\", \"prestigio\", \"fabula\", \"recorrer\", \"amparar\", \"providencia\", \"mesclar\", \"turbilh\\u00e3o\", \"tomer\", \"cortezer\", \"aturar\", \"vulgaridade\", \"modesta\", \"chumbo\", \"couber\", \"pulo\", \"mola\", \"podir\", \"desfiar\", \"duzer\", \"receberar\", \"cotovello\", \"moralista\", \"edificio\", \"pur\", \"fresta\", \"entreter\", \"brazileira\", \"significar\", \"apre\\u00e7o\", \"deduzir\", \"contentar\", \"legitimo\", \"extremamente\", \"constancia\", \"tarefa\", \"exame\", \"daqui\", \"rigor\", \"apreciar\", \"queria\", \"boato\", \"relevo\", \"desculpa\", \"espinho\", \"the\", \"aceitar\", \"jornal\", \"comprimento\", \"singular\", \"fome\", \"of\", \"de aqui\", \"project\", \"medico\", \"tia\", \"to\", \"heran\\u00e7a\", \"you\", \"cer\", \"and\", \"allus\\u00e3o\", \"affirmar\", \"or\", \"fiquei\", \"work\", \"with\", \"thi\", \"not\", \"any\", \"works\", \"gutenberg\", \"electronic\", \"maria\", \"by\", \"foundation\", \"are\", \"tio\", \"if\", \"terms\", \"is\", \"fallar\", \"copyright\", \"agreement\", \"mortifica\", \"cahem\", \"podias\", \"poemasinho\", \"idum\\u00e9a\", \"imponente\", \"empregarr\", \"biographar\", \"chicaro\", \"immodestia\", \"gorgor\\u00e3o\", \"circumflex\\u00e3o\", \"echoor\", \"tenrurar\", \"dezesei\", \"esqualer\", \"contemos\", \"aleijadinha\", \"consterno\", \"notem\", \"abanei\", \"pachola\", \"arruar\", \"fer\", \"manteiga\", \"virgilias\", \"condigna\", \"constrange\", \"obsequiador\", \"homemzarr\\u00e3o\", \"perfidia\", \"liga\\u00e7\\u00e3o\", \"prestigio\", \"fabula\", \"recorrer\", \"providencia\", \"amparar\", \"mesclar\", \"turbilh\\u00e3o\", \"tomer\", \"aturar\", \"cortezer\", \"vulgaridade\", \"chumbo\", \"modesta\", \"couber\", \"pulo\", \"mola\", \"podir\", \"desfiar\", \"duzer\", \"receberar\", \"cotovello\", \"moralista\", \"edificio\", \"fresta\", \"pur\", \"entreter\", \"significar\", \"deduzir\", \"apre\\u00e7o\", \"desandar\", \"contentar\", \"legitimo\", \"extremamente\", \"constancia\", \"tarefa\", \"exame\", \"daqui\", \"rigor\", \"apreciar\", \"queria\", \"boato\", \"desculpa\", \"relevo\", \"espinho\", \"the\", \"aceitar\", \"jornal\", \"comprimento\", \"singular\", \"fome\", \"of\", \"de aqui\", \"project\", \"tia\", \"medico\", \"to\", \"heran\\u00e7a\", \"cer\", \"you\", \"and\", \"allus\\u00e3o\", \"affirmar\", \"or\", \"fiquei\", \"work\", \"with\", \"thi\", \"not\", \"any\", \"works\", \"gutenberg\", \"electronic\", \"maria\", \"by\", \"foundation\", \"are\", \"tio\", \"if\", \"terms\", \"is\", \"fallar\", \"copyright\", \"agreement\", \"mortifica\", \"cahem\", \"podias\", \"poemasinho\", \"idum\\u00e9a\", \"imponente\", \"biographar\", \"chicaro\", \"empregarr\", \"immodestia\", \"gorgor\\u00e3o\", \"circumflex\\u00e3o\", \"echoor\", \"tenrurar\", \"dezesei\", \"esqualer\", \"contemos\", \"aleijadinha\", \"consterno\", \"abanei\", \"notem\", \"arruar\", \"fer\", \"pachola\", \"manteiga\", \"virgilias\", \"condigna\", \"musicaes\", \"constrange\", \"obsequiador\", \"homemzarr\\u00e3o\", \"perfidia\", \"liga\\u00e7\\u00e3o\", \"prestigio\", \"fabula\", \"recorrer\", \"providencia\", \"amparar\", \"mesclar\", \"turbilh\\u00e3o\", \"aturar\", \"tomer\", \"cortezer\", \"vulgaridade\", \"chumbo\", \"modesta\", \"couber\", \"mola\", \"pulo\", \"podir\", \"desfiar\", \"duzer\", \"cotovello\", \"receberar\", \"moralista\", \"edificio\", \"fresta\", \"pur\", \"entreter\", \"significar\", \"deduzir\", \"apre\\u00e7o\", \"desandar\", \"contentar\", \"legitimo\", \"extremamente\", \"constancia\", \"tarefa\", \"exame\", \"rigor\", \"daqui\", \"apreciar\", \"queria\", \"boato\", \"desculpa\", \"relevo\", \"espinho\", \"the\", \"aceitar\", \"jornal\", \"comprimento\", \"singular\", \"fome\", \"of\", \"project\", \"de aqui\", \"tia\", \"medico\", \"heran\\u00e7a\", \"to\", \"you\", \"cer\", \"and\", \"allus\\u00e3o\", \"affirmar\", \"or\", \"fiquei\", \"work\", \"with\", \"not\", \"thi\", \"any\", \"attribuir\", \"works\", \"gutenberg\", \"electronic\", \"maria\", \"by\", \"foundation\", \"are\", \"tio\", \"if\", \"terms\", \"is\", \"fallar\", \"copyright\", \"agreement\", \"mortifica\", \"cahem\", \"podias\", \"poemasinho\", \"idum\\u00e9a\", \"imponente\", \"biographar\", \"chicaro\", \"empregarr\", \"immodestia\", \"gorgor\\u00e3o\", \"circumflex\\u00e3o\", \"echoor\", \"tenrurar\", \"dezesei\", \"esqualer\", \"contemos\", \"aleijadinha\", \"consterno\", \"notem\", \"abanei\", \"arruar\", \"fer\", \"pachola\", \"virgilias\", \"manteiga\", \"condigna\", \"obsequiador\", \"constrange\", \"musicaes\", \"homemzarr\\u00e3o\", \"perfidia\", \"liga\\u00e7\\u00e3o\", \"prestigio\", \"fabula\", \"recorrer\", \"providencia\", \"amparar\", \"mesclar\", \"turbilh\\u00e3o\", \"tomer\", \"aturar\", \"cortezer\", \"vulgaridade\", \"chumbo\", \"modesta\", \"couber\", \"mola\", \"pulo\", \"podir\", \"desfiar\", \"duzer\", \"cotovello\", \"receberar\", \"moralista\", \"edificio\", \"pur\", \"fresta\", \"entreter\", \"significar\", \"deduzir\", \"brazileira\", \"apre\\u00e7o\", \"desandar\", \"contentar\", \"legitimo\", \"extremamente\", \"constancia\", \"tarefa\", \"exame\", \"rigor\", \"daqui\", \"apreciar\", \"queria\", \"boato\", \"desculpa\", \"relevo\", \"espinho\", \"the\", \"aceitar\", \"jornal\", \"comprimento\", \"singular\", \"fome\", \"of\", \"de aqui\", \"project\", \"medico\", \"tia\", \"to\", \"heran\\u00e7a\", \"you\", \"cer\", \"and\", \"allus\\u00e3o\", \"affirmar\", \"or\", \"fiquei\", \"work\", \"with\", \"not\", \"thi\", \"any\", \"works\", \"gutenberg\", \"electronic\", \"maria\", \"by\", \"foundation\", \"are\", \"tio\", \"if\", \"terms\", \"is\", \"fallar\", \"copyright\", \"agreement\", \"mortifica\", \"cahem\", \"podias\", \"idum\\u00e9a\", \"poemasinho\", \"imponente\", \"biographar\", \"chicaro\", \"immodestia\", \"empregarr\", \"gorgor\\u00e3o\", \"circumflex\\u00e3o\", \"echoor\", \"tenrurar\", \"dezesei\", \"esqualer\", \"contemos\", \"aleijadinha\", \"consterno\", \"abanei\", \"arruar\", \"fer\", \"notem\", \"pachola\", \"virgilias\", \"manteiga\", \"condigna\", \"obsequiador\", \"constrange\", \"homemzarr\\u00e3o\", \"perfidia\", \"liga\\u00e7\\u00e3o\", \"prestigio\", \"fabula\", \"recorrer\", \"providencia\", \"amparar\", \"mesclar\", \"turbilh\\u00e3o\", \"tomer\", \"aturar\", \"cortezer\", \"vulgaridade\", \"modesta\", \"chumbo\", \"couber\", \"mola\", \"pulo\", \"podir\", \"desfiar\", \"duzer\", \"receberar\", \"cotovello\", \"moralista\", \"edificio\", \"pur\", \"fresta\", \"entreter\", \"significar\", \"deduzir\", \"brazileira\", \"apre\\u00e7o\", \"desandar\", \"contentar\", \"legitimo\", \"extremamente\", \"constancia\", \"tarefa\", \"exame\", \"rigor\", \"daqui\", \"apreciar\", \"queria\", \"boato\", \"desculpa\", \"relevo\", \"espinho\", \"the\", \"aceitar\", \"jornal\", \"comprimento\", \"singular\", \"fome\", \"of\", \"de aqui\", \"project\", \"medico\", \"tia\", \"to\", \"heran\\u00e7a\", \"you\", \"cer\", \"and\", \"allus\\u00e3o\", \"affirmar\", \"or\", \"fiquei\", \"work\", \"with\", \"not\", \"thi\", \"any\", \"works\", \"attribuir\", \"gutenberg\", \"electronic\", \"maria\", \"by\", \"foundation\", \"are\", \"tio\", \"if\", \"terms\", \"is\", \"fallar\", \"copyright\", \"agreement\", \"mortifica\", \"cahem\", \"podias\", \"poemasinho\", \"idum\\u00e9a\", \"imponente\", \"biographar\", \"chicaro\", \"empregarr\", \"immodestia\", \"gorgor\\u00e3o\", \"circumflex\\u00e3o\", \"echoor\", \"tenrurar\", \"dezesei\", \"esqualer\", \"contemos\", \"aleijadinha\", \"notem\", \"abanei\", \"fer\", \"consterno\", \"arruar\", \"manteiga\", \"pachola\", \"virgilias\", \"condigna\", \"constrange\", \"obsequiador\", \"homemzarr\\u00e3o\", \"perfidia\", \"liga\\u00e7\\u00e3o\", \"prestigio\", \"fabula\", \"recorrer\", \"providencia\", \"amparar\", \"mesclar\", \"turbilh\\u00e3o\", \"tomer\", \"aturar\", \"cortezer\", \"vulgaridade\", \"chumbo\", \"modesta\", \"couber\", \"mola\", \"pulo\", \"podir\", \"desfiar\", \"duzer\", \"receberar\", \"cotovello\", \"moralista\", \"edificio\", \"pur\", \"fresta\", \"entreter\", \"significar\", \"deduzir\", \"brazileira\", \"apre\\u00e7o\", \"desandar\", \"contentar\", \"legitimo\", \"extremamente\", \"constancia\", \"tarefa\", \"exame\", \"rigor\", \"daqui\", \"apreciar\", \"queria\", \"boato\", \"desculpa\", \"relevo\", \"espinho\", \"the\", \"aceitar\", \"jornal\", \"comprimento\", \"singular\", \"fome\", \"of\", \"de aqui\", \"project\", \"medico\", \"tia\", \"to\", \"heran\\u00e7a\", \"you\", \"cer\", \"and\", \"allus\\u00e3o\", \"affirmar\", \"or\", \"fiquei\", \"work\", \"with\", \"not\", \"thi\", \"any\", \"works\", \"attribuir\", \"gutenberg\", \"electronic\", \"maria\", \"by\", \"foundation\", \"are\", \"tio\", \"if\", \"terms\", \"is\", \"fallar\", \"copyright\", \"agreement\", \"mortifica\", \"podias\", \"cahem\", \"idum\\u00e9a\", \"poemasinho\", \"chicaro\", \"imponente\", \"empregarr\", \"biographar\", \"immodestia\", \"gorgor\\u00e3o\", \"echoor\", \"circumflex\\u00e3o\", \"tenrurar\", \"dezesei\", \"esqualer\", \"contemos\", \"aleijadinha\", \"notem\", \"pachola\", \"abanei\", \"consterno\", \"fer\", \"arruar\", \"virgilias\", \"manteiga\", \"condigna\", \"obsequiador\", \"homemzarr\\u00e3o\", \"constrange\", \"perfidia\", \"liga\\u00e7\\u00e3o\", \"prestigio\", \"fabula\", \"recorrer\", \"providencia\", \"amparar\", \"mesclar\", \"turbilh\\u00e3o\", \"tomer\", \"aturar\", \"cortezer\", \"vulgaridade\", \"chumbo\", \"modesta\", \"couber\", \"mola\", \"pulo\", \"podir\", \"desfiar\", \"duzer\", \"receberar\", \"cotovello\", \"moralista\", \"edificio\", \"pur\", \"fresta\", \"entreter\", \"significar\", \"deduzir\", \"brazileira\", \"apre\\u00e7o\", \"desandar\", \"contentar\", \"legitimo\", \"extremamente\", \"constancia\", \"tarefa\", \"exame\", \"rigor\", \"daqui\", \"apreciar\", \"queria\", \"boato\", \"desculpa\", \"relevo\", \"espinho\", \"the\", \"aceitar\", \"jornal\", \"comprimento\", \"singular\", \"fome\", \"of\", \"de aqui\", \"project\", \"medico\", \"tia\", \"to\", \"heran\\u00e7a\", \"you\", \"cer\", \"and\", \"allus\\u00e3o\", \"affirmar\", \"or\", \"fiquei\", \"work\", \"with\", \"not\", \"thi\", \"any\", \"works\", \"attribuir\", \"gutenberg\", \"electronic\", \"maria\", \"by\", \"foundation\", \"are\", \"tio\", \"if\", \"terms\", \"is\", \"fallar\", \"copyright\", \"agreement\", \"mortifica\", \"cahem\", \"podias\", \"poemasinho\", \"idum\\u00e9a\", \"imponente\", \"biographar\", \"chicaro\", \"empregarr\", \"immodestia\", \"gorgor\\u00e3o\", \"circumflex\\u00e3o\", \"echoor\", \"tenrurar\", \"dezesei\", \"esqualer\", \"contemos\", \"aleijadinha\", \"consterno\", \"abanei\", \"notem\", \"arruar\", \"fer\", \"pachola\", \"manteiga\", \"virgilias\", \"condigna\", \"musicaes\", \"constrange\", \"obsequiador\", \"homemzarr\\u00e3o\", \"perfidia\", \"liga\\u00e7\\u00e3o\", \"prestigio\", \"fabula\", \"recorrer\", \"providencia\", \"amparar\", \"mesclar\", \"turbilh\\u00e3o\", \"tomer\", \"aturar\", \"cortezer\", \"vulgaridade\", \"modesta\", \"chumbo\", \"couber\", \"mola\", \"pulo\", \"podir\", \"desfiar\", \"duzer\", \"receberar\", \"cotovello\", \"moralista\", \"edificio\", \"pur\", \"fresta\", \"entreter\", \"significar\", \"deduzir\", \"brazileira\", \"apre\\u00e7o\", \"desandar\", \"contentar\", \"legitimo\", \"extremamente\", \"constancia\", \"tarefa\", \"exame\", \"rigor\", \"daqui\", \"apreciar\", \"queria\", \"boato\", \"desculpa\", \"relevo\", \"espinho\", \"the\", \"aceitar\", \"jornal\", \"comprimento\", \"singular\", \"fome\", \"of\", \"de aqui\", \"project\", \"medico\", \"tia\", \"to\", \"heran\\u00e7a\", \"you\", \"cer\", \"and\", \"allus\\u00e3o\", \"affirmar\", \"or\", \"fiquei\", \"work\", \"with\", \"not\", \"thi\", \"any\", \"works\", \"attribuir\", \"gutenberg\", \"electronic\", \"maria\", \"by\", \"foundation\", \"are\", \"tio\", \"if\", \"terms\", \"is\", \"fallar\", \"copyright\", \"agreement\"], \"Freq\": [1272.0, 762.0, 606.0, 557.0, 511.0, 463.0, 518.0, 515.0, 334.0, 464.0, 380.0, 339.0, 307.0, 295.0, 271.0, 328.0, 258.0, 224.0, 216.0, 291.0, 284.0, 193.0, 177.0, 190.0, 274.0, 282.0, 176.0, 158.0, 192.0, 163.0, 158.5334649582307, 83.6326445278876, 73.30543166453533, 67.27737575549149, 187.87576982647172, 56.9584557306117, 47.493263129317, 181.87422909249727, 25.091474478457556, 23.37448802187757, 22.512026377197337, 16.47161175471899, 58.73803958622087, 12.164557434324424, 94.17543897381478, 75.20790675196051, 10.43671683135213, 10.44018184602857, 10.442599785140304, 9.576882540896571, 9.577313452763585, 8.713079028608027, 36.368803709225446, 8.714626284115568, 8.71769341007742, 8.718221780516226, 7.848121316870079, 7.848933203154099, 7.850010885543005, 32.0817735008418, 164.4711759657806, 39.07796192055615, 134.53629720687638, 19.113460726979323, 13.926559280316669, 55.70028973205914, 13.92232909503525, 109.63838672819615, 17.425557196930463, 55.1178257586946, 16.54657592161011, 32.292010165380226, 30.68714617115461, 28.006455528100076, 25.44482382029473, 330.64862761055696, 198.69844595995974, 157.77640032900842, 146.09666868252506, 132.76284115964899, 121.97662258643862, 88.11846444855921, 46.117818223975256, 79.26279547499205, 77.40300240935531, 70.3199002742283, 66.72466805879047, 57.764098222494454, 55.968991874359865, 52.26671954027021, 48.84876205059381, 280.62239595618973, 89.79635062068559, 75.83343700541786, 46.19444924512913, 46.19626063736285, 47.0180418295141, 48.693545742643856, 30.55905635429837, 28.104087115183223, 20.67745160634369, 20.67873023615573, 23.169489001771115, 19.861599817781038, 42.95288050687278, 16.559979068011533, 20.700730902523865, 19.87645420275651, 19.05076326092432, 16.568129122239597, 18.229640756858064, 18.231138545757204, 35.53642560358213, 16.58103408108118, 16.581103098031264, 16.58380202402656, 15.755960659328672, 14.932688943220398, 14.107370935083388, 11.61824072732519, 9.97159376968352, 28.987482281402105, 26.577693717293045, 32.32273244821666, 56.62948759672808, 28.250296496872, 68.53858754652373, 37.85292746765451, 47.44718196017973, 34.50395382518687, 54.241811094766234, 157.3897595116068, 25.205137890311196, 97.02353440873125, 76.82530017904402, 70.59147614269999, 62.780578472279494, 59.87819050814024, 32.92480483931322, 43.944196388193035, 38.136708214858686, 43.37356424491789, 39.592164296301775, 36.98747428680949, 33.52172154315631, 33.36597571411941, 461.81976272851733, 227.74805463778898, 133.79511635091433, 271.52439108492416, 87.6067943167962, 85.98657817410503, 73.03580503835265, 70.6051871214803, 49.53406903628181, 47.10588084286769, 30.90080908785777, 180.20870845994608, 273.5696664314319, 42.34842891112481, 7.387876221434628, 6.575221056747642, 294.42956322735347, 5.7587193861738175, 118.63394457443931, 4.130764062513234, 4.138412573857271, 4.138929613224128, 4.141379918131072, 4.141575441893794, 4.143691437323082, 3.3189391089666818, 3.3248039874652893, 3.324919410454663, 3.3276600806649954, 2.5025428487855628, 136.7573764506293, 9.1096551384333, 15.619269211765591, 30.580830973566975, 313.6183086888202, 186.1820901311186, 14.035749235864694, 148.4835867636023, 136.690038400501, 125.76387461173245, 113.1923697376991, 79.68649214870194, 74.60029774305106, 72.03345511097076, 66.18630780855247, 62.79882830347423, 54.36374516532722, 52.67665822701898, 49.19502916295556, 45.979174464862325, 45.60933438117735, 34.42406825118798, 32.92946193126864, 22.489599935768016, 19.50622023509689, 19.506902601966267, 18.75781032797771, 14.279380081975638, 14.280328068163298, 11.294457804746331, 9.052713955304295, 8.304297941993894, 8.305616116024563, 8.306793084383155, 6.8075849861019755, 6.8074613357296725, 16.5510145007373, 80.82745173924697, 6.061941946881566, 28.527963588508662, 6.063092963927454, 5.3126130579830475, 5.315068510129347, 5.315357027664722, 30.75120338871764, 4.5648713971660415, 4.565236623728679, 4.565436983128245, 4.565724355752765, 4.566154842234118, 35.278394624745886, 11.326084822195527, 20.30027239507414, 9.83598029175672, 20.339232948184396, 24.889595653363205, 19.650848427353463, 9.09174167651803, 25.698470592538815, 42.49100632788887, 22.0669889145472, 15.166247875118662, 71.99652533506446, 25.292425668111065, 15.218907668241911, 26.54391551096015, 149.9638432107752, 20.58866780662458, 90.08829674899864, 71.04982144756117, 64.6635941869311, 59.829652328530464, 54.96619924794005, 33.04969894267749, 39.045474964720306, 35.85353067002484, 34.98693085210495, 31.84161648669817, 30.20954758992464, 26.17452452590747, 25.371019981914127, 24.396888609976536, 23.638743907497116, 516.5039100093556, 68.382642438746, 49.83019082254018, 29.043958930253805, 21.620026858346584, 81.15542816978926, 8.991647258541427, 22.404115900648023, 117.68560449829911, 6.019345961865503, 5.272322948384603, 252.6440843825098, 4.52727100855924, 13.492549990685868, 4.529341650365507, 32.90670421054983, 3.7836359423051777, 3.7844944827746603, 3.7848563096771164, 3.785706584111444, 11.26266978028287, 9.77907878487635, 3.039255805700575, 3.0392875547901466, 3.0393711544638706, 3.0395355358447893, 3.039542674693332, 3.0402077147944193, 3.0403591335292997, 3.0403474859343085, 20.973439553555803, 9.791908422894274, 45.7617204593126, 73.09383160231194, 70.13349088277609, 6.049274269329908, 28.54764213291455, 167.44640270717287, 8.326804039382496, 76.17022745542057, 82.62010347093073, 20.677632722423198, 28.269665891068495, 14.540581050056069, 12.199982558959306, 10.64136602265726, 12.25028438870696, 20.72515490998563, 13.044108566047475, 22.161975175571058, 16.47138107940518, 22.9790171427458, 15.807707128491774, 14.003759177543028, 15.74044715189527, 14.96171900912056, 14.490365637948669, 14.263562165372482, 376.9580557115781, 123.77453074626206, 98.7497590867993, 75.93333164104055, 72.98683623086656, 39.1243488367966, 35.44304811799157, 31.0223906347746, 55.35880629537055, 19.975515326502634, 11.871149628596513, 11.134115912072742, 9.661202358969662, 9.661454246957538, 8.186751997940554, 20.74676285737956, 7.447923033503197, 7.447778889510135, 7.4490849214472705, 6.7103360370060585, 6.710954108976308, 6.7111230049681785, 18.536412275772125, 5.971413888573186, 5.971865976551425, 5.972615816515332, 5.972607444515735, 5.972704268511075, 5.9728829925024725, 5.973525452471549, 70.40459123515981, 28.251299536157727, 355.8339195123629, 55.27038633162653, 19.30508414277303, 19.437248168411475, 14.980382878937316, 63.09844182683251, 11.18313578971323, 8.223360204178462, 148.09544874360398, 14.409523162414962, 22.762184168369686, 87.50034254027642, 26.292152622458907, 70.16727489458275, 63.86635948586972, 59.823245696480136, 24.445376871351232, 29.90084844875868, 51.342325656699, 37.82749261121921, 35.409452375608666, 33.812826148460346, 31.445987606385266, 29.835369219910444, 25.848908387793934, 25.0560669219564, 145.8992986257175, 43.0174175590372, 28.004604489262018, 15.129006481454748, 12.981009928832208, 45.2518550943578, 11.548389858614566, 9.400064085240993, 9.399897845059778, 8.683051277915116, 38.11072452408113, 16.592931859523127, 5.81560568440905, 5.816140260678054, 5.8163038931701525, 5.098265286137837, 4.379337783077731, 4.379968517882928, 4.380082930242941, 4.380349566455164, 4.380866214861489, 4.381225749998509, 4.381177833710982, 3.6621101673608325, 3.662255220067971, 3.663545700219794, 33.905479000110994, 7.999347787526466, 2.942573768891885, 2.9428374714538514, 7.281147177807751, 7.284382668079787, 25.937069488192037, 6.565451905408286, 36.76091944484423, 10.91764853419414, 23.22132034177253, 19.503848282533465, 49.6425881529161, 47.50310961679455, 5.847041376715644, 17.01239169245363, 27.4514797275674, 12.573871426979984, 20.015977563618215, 8.063311141957438, 8.934627433564689, 13.824573889010763, 12.200739798903811, 12.978968108253522, 18.097229480502392, 11.27212214663749, 14.580072276171304, 11.563142859794539, 13.119347836494159, 10.935193718496242, 92.67104604690802, 37.55976035408412, 36.853471250867635, 61.61229790365746, 75.07412707659942, 18.47220468676596, 17.05697763847757, 12.106078493035115, 57.390207417272094, 9.276784757650809, 8.567467778018196, 63.12189890032958, 7.859180414654965, 7.859540591774841, 70.22856433847723, 7.151138826603901, 16.381970515274567, 5.026266679212433, 5.02640999576275, 5.026814802159259, 5.027219922846449, 5.027205151184464, 5.0277108448894205, 4.316591093913347, 4.31769362562061, 4.318424351452818, 4.318652840777556, 4.318580553921037, 29.171050429262383, 3.608054812331145, 142.15010445691985, 10.007958768369482, 10.022934090714884, 20.730756603628308, 14.339273437793134, 13.635483574068141, 13.62233490915792, 19.465417295205192, 36.574677816968574, 12.277872293332615, 145.24601349091446, 14.45356838667092, 42.11317859019878, 142.16892166854393, 59.12595187304262, 83.99909233215106, 67.3582556692851, 21.288559703414634, 61.30932168763649, 57.42920460491097, 49.99440461034812, 36.31048004227284, 33.993453715718445, 32.45544587017824, 30.187003854181295, 28.640764107136913, 24.96694491277907, 24.81578618140177, 24.05266326584555, 21.722223013046573, 130.79049987694293, 130.18201689529292, 110.15676062709562, 29.260337648688523, 20.74548246674323, 20.137745445297146, 17.094516467433216, 14.054542146372079, 12.22941185616132, 31.72593396429275, 9.79428720406128, 8.57695150396452, 7.969443135537463, 7.969520974863091, 7.35850578265126, 32.37248361947978, 18.954060658660662, 6.142359564749243, 16.516757316269366, 103.07830533235175, 5.533132244547915, 4.923619513485955, 4.924339121834854, 4.926667004166897, 4.314678009558416, 4.314933825258785, 4.31496625831113, 4.315216803640492, 4.315771003422434, 4.315793706559075, 10.43824221506073, 9.82701620800866, 31.894209613078164, 8.605684755863027, 70.2539417244685, 12.300685921167798, 7.99917451462188, 8.002112949164314, 38.92315585341781, 30.209088755708077, 18.62543275577765, 17.027555187562278, 11.85321763870952, 16.976536374571396, 18.26109930556832, 18.4949562078474, 14.457339575009646, 19.05794534697346, 13.345648867141694, 11.404892312843034, 13.234041869065614, 11.497851927473508, 2.6013360020836648e-06, 2.583658126277628e-06, 2.5797449290891675e-06, 2.5760086700416883e-06, 2.5747428462654786e-06, 2.5729764677222905e-06, 2.572480763739855e-06, 2.572039573336103e-06, 2.5728210116271464e-06, 2.570220067152672e-06, 2.5708437394511695e-06, 2.565888316554998e-06, 2.5666341824260527e-06, 2.5679944810059974e-06, 2.5673285375850465e-06, 2.56592804679031e-06, 2.5632000579587345e-06, 2.564344381131607e-06, 2.563370990366471e-06, 2.5635818839992587e-06, 2.563347198423232e-06, 2.562610110162304e-06, 2.563641941331707e-06, 2.5631691053335496e-06, 2.5618409143274906e-06, 2.5626345950747634e-06, 2.181250437923259e-06, 2.5604214823740585e-06, 2.5613426694579132e-06, 2.560961305396869e-06, 2.5604662943836545e-06, 1.2398609913921735e-05, 1.2226683326343678e-05, 1.585483640353997e-05, 1.1881169796935117e-05, 1.9320297862970767e-05, 1.0304865319272455e-05, 1.5511149540996784e-05, 1.0403173628735889e-05, 1.5639282321753842e-05, 1.0239797357380488e-05, 1.60080953242753e-05, 1.2981087502154616e-05, 1.044176277473106e-05, 1.5285977970388347e-05, 1.5354248374038227e-05, 1.282698315897021e-05, 1.6086515417108876e-05, 1.300020421305226e-05, 1.0145851058170694e-05, 2.2627219052246664e-05, 1.6237436721673545e-05, 2.060946453836422e-05, 1.2886693082848864e-05, 1.031398756609181e-05, 1.2906447325429415e-05, 2.0590094662711332e-05, 1.2835466950147695e-05, 1.2722645093329008e-05, 1.2461324552340706e-05, 1.2664125228591783e-05, 1.8432826041593477e-05, 1.2787339775800838e-05, 2.5573803638506897e-05, 1.761065779164314e-05, 1.7673904630423497e-05, 1.785491743042144e-05, 1.8426291803823146e-05, 2.114043973016667e-05, 1.719445493402549e-05, 2.0319250876714717e-05, 2.1463319036914062e-05, 3.189977551533361e-05, 2.4652313496113198e-05, 2.412508218601965e-05, 3.0475064060400073e-05, 2.3266716919823492e-05, 0.0004064859434194935, 6.882871878733103e-05, 3.0705174191653646e-05, 3.286342405718781e-05, 5.031741167161258e-05, 3.5416123090568026e-05, 0.0002540987077427355, 5.7936890983030284e-05, 0.0002096642795200602, 7.164203338101252e-05, 7.47879362422008e-05, 0.00019327364670686066, 3.187157259201608e-05, 0.0001792393309936905, 8.428049102967504e-05, 0.0001642090318708762, 2.9537528446694222e-05, 4.292617609434776e-05, 0.00012532526123397626, 5.797083353941191e-05, 0.00011721474208495708, 0.00011234971378975022, 0.00010622291235441786, 8.295772181479751e-05, 0.00010084713432905908, 8.90062232719612e-05, 8.665872443625309e-05, 7.893747289322815e-05, 0.0001058751489849399, 7.815925552312213e-05, 7.426621727126701e-05, 6.993712213164595e-05, 6.685462503017925e-05, 6.647715453219568e-05, 6.571749764969296e-05, 6.009923953051427e-05, 6.746337354354275e-05, 5.926549222686798e-05, 5.8147960168020996e-05, 2.5525531851964738e-06, 2.5348647499740832e-06, 2.533498421327623e-06, 2.5281108061759508e-06, 2.528035833037718e-06, 2.526460488369518e-06, 2.525578986016963e-06, 2.5256664546782344e-06, 2.5252740952548162e-06, 2.5247738199506085e-06, 2.523968881075582e-06, 2.523034443143608e-06, 2.5226618493657243e-06, 2.521233270295398e-06, 2.520068005974198e-06, 2.51980264650312e-06, 2.5193493998038037e-06, 2.518700086988442e-06, 2.5182686506566116e-06, 2.518359072805147e-06, 2.51839133397372e-06, 2.518025101553019e-06, 2.518139833173648e-06, 2.517963305511809e-06, 2.5169927441586867e-06, 2.5168814204079776e-06, 2.51663060118189e-06, 2.5157611399697175e-06, 2.5157050237117067e-06, 2.515583021968583e-06, 1.2189779854785847e-05, 1.2026031250762982e-05, 1.5594627221029794e-05, 1.1669986997974147e-05, 1.8998031467958427e-05, 1.5252433460359818e-05, 1.0121856215804591e-05, 1.0220283677972508e-05, 1.5385440351411313e-05, 1.0067056758730964e-05, 1.2760808899883165e-05, 1.57326395914193e-05, 1.0269988596707554e-05, 1.5115824223611903e-05, 1.5017189562952871e-05, 1.2607457479793888e-05, 1.5805669789415203e-05, 1.278282283079893e-05, 9.96337481552957e-06, 2.2245804202630194e-05, 1.5975888802458883e-05, 2.026742938871947e-05, 1.2675705754718507e-05, 1.0133054021977974e-05, 1.2678898247259256e-05, 1.2612564740846837e-05, 2.0247985446105794e-05, 1.2493292019954274e-05, 1.2456705128496683e-05, 1.25855180676337e-05, 1.8120009686548058e-05, 1.3114423114227945e-05, 2.5126092238001464e-05, 1.7312219105972897e-05, 1.737426233134778e-05, 1.75559426925053e-05, 1.8110840244550862e-05, 2.0765285559666918e-05, 1.6911898898422383e-05, 1.9983007656458385e-05, 2.110722123098831e-05, 3.138967717900999e-05, 2.4224562515502545e-05, 2.993700492273433e-05, 2.3701202754841588e-05, 2.288325217807925e-05, 0.0004000219725855138, 6.75786748324341e-05, 3.0181742691354828e-05, 3.2288980426494723e-05, 4.951179520108169e-05, 3.4789975266102504e-05, 0.0002500117481225049, 5.7008138463005574e-05, 0.00020626496376688786, 7.378104170697096e-05, 7.050750911076773e-05, 0.00019026095231308655, 3.1355882014590596e-05, 8.355984356135519e-05, 0.00017656188957568478, 0.00016154561150433976, 2.9056856630494086e-05, 4.2275820471143185e-05, 0.00012324819108580902, 5.711314447726642e-05, 0.00011531131838634373, 0.00011057002075956459, 0.00010465229372096368, 8.154426753063602e-05, 9.924245016976184e-05, 8.76252160893789e-05, 8.529781723471387e-05, 7.768503205584402e-05, 0.00010413053883984356, 7.689437715399029e-05, 7.30061993215445e-05, 6.883709668575786e-05, 6.595942225942366e-05, 6.536613664307229e-05, 6.4698506754084e-05, 5.916533647993316e-05, 6.630441138219308e-05, 5.826359410635126e-05, 5.727566806564883e-05, 2.474441764193563e-06, 2.4572824261676293e-06, 2.456187191436772e-06, 2.4507728917188272e-06, 2.450734358128578e-06, 2.4492755864977112e-06, 2.448505575268558e-06, 2.4482041324968364e-06, 2.44814005664105e-06, 2.4475627133631436e-06, 2.4468008492359284e-06, 2.4459247054896315e-06, 2.4454702293166337e-06, 2.4441572247528815e-06, 2.4430892938231152e-06, 2.442861835544672e-06, 2.4422589500012285e-06, 2.4417258653041225e-06, 2.441354401494119e-06, 2.441486296468744e-06, 2.4413447130485707e-06, 2.4411187961137377e-06, 2.4410696933101626e-06, 2.4408825301575233e-06, 2.4400215796553815e-06, 2.439952219192933e-06, 2.4395807553829293e-06, 2.0771313833865384e-06, 2.438935592986184e-06, 2.438966199666439e-06, 2.438670261693324e-06, 1.1818648474962894e-05, 1.1662108737166323e-05, 1.5134230952838916e-05, 1.131232590676474e-05, 1.842402014636177e-05, 1.478216869543013e-05, 9.80901737247982e-06, 9.916566164209252e-06, 1.4911099005717097e-05, 1.2383949895820808e-05, 9.759380823632046e-06, 1.5244985739277091e-05, 9.95457922070228e-06, 1.4645720151397603e-05, 1.4559620697344546e-05, 1.2217379974578313e-05, 1.239742916588196e-05, 1.5310726246161856e-05, 9.658828851124113e-06, 2.1560354931611334e-05, 1.5482058478775277e-05, 1.229350649509096e-05, 1.963723900557212e-05, 9.820614441801252e-06, 1.2296892166426237e-05, 1.2229388362451663e-05, 1.9635348877922405e-05, 1.211372241488823e-05, 1.2073372681482482e-05, 1.2205057152608529e-05, 1.756010497988225e-05, 1.2714331173627835e-05, 2.4351629563280266e-05, 1.6770560082967784e-05, 1.6849455737371717e-05, 1.7009466580977948e-05, 1.755228376202136e-05, 2.0133671432400915e-05, 1.9365869168832605e-05, 1.6383540152484822e-05, 2.046444200956543e-05, 3.041864690396243e-05, 2.3485848930648787e-05, 2.9022503146656118e-05, 2.297679334003821e-05, 2.2196505312461347e-05, 0.00038866714942588604, 6.558712646098461e-05, 2.9262433096823303e-05, 3.130537924047621e-05, 4.7965482236514487e-05, 3.3721402760700155e-05, 0.00024248799572993568, 0.0002001950067621593, 5.5123739145417114e-05, 7.158241407389755e-05, 6.824269767816046e-05, 3.0419848271210433e-05, 0.00018464894817362684, 0.00017120545842265215, 8.042661200027906e-05, 0.00015687674773266923, 2.8157561004948464e-05, 4.094706306605077e-05, 0.00011970282336240868, 5.507985224861843e-05, 0.00011188386026702973, 0.00010736750153633083, 7.925447215019391e-05, 0.00010135773410116192, 9.631905894020002e-05, 3.282023640185482e-05, 8.502910277343875e-05, 8.277769122768876e-05, 7.537671938090766e-05, 0.00010070243582883717, 7.460691425141417e-05, 7.100117780241585e-05, 6.6758625112128e-05, 6.345103912490052e-05, 6.350103855007246e-05, 6.284260474446112e-05, 5.736618447519597e-05, 6.414745868320377e-05, 5.656952649771342e-05, 5.5550062457186594e-05, 2.436834617601228e-06, 2.4199757351825677e-06, 2.418814525593323e-06, 2.413515518221615e-06, 2.413465247532176e-06, 2.4120225654188726e-06, 2.4114117332053847e-06, 2.4110152014740325e-06, 2.4109735981448414e-06, 2.4103935350602344e-06, 2.4096316740944227e-06, 2.4088373105276805e-06, 2.4084080595113913e-06, 2.4070945210657854e-06, 2.4059948497343024e-06, 2.405842954245954e-06, 2.4051328807576247e-06, 2.4048163054245613e-06, 2.404379037100043e-06, 2.4044247574253517e-06, 2.404431257945538e-06, 2.40405444445875e-06, 2.4040150079696207e-06, 2.4038312599323603e-06, 2.402827362931619e-06, 2.4028403639719916e-06, 2.4024709177414144e-06, 2.4020009301319587e-06, 2.4018720031482676e-06, 2.0453141372602132e-06, 2.401611765656817e-06, 1.163488931642845e-05, 1.1475718445887476e-05, 1.4879652569612228e-05, 1.1139885105088752e-05, 1.8135007337019235e-05, 1.455034661781638e-05, 9.65982846765955e-06, 9.75784504449771e-06, 1.4676851941054158e-05, 9.610459183686134e-06, 1.21824671348253e-05, 1.5008813572030037e-05, 9.79616431089077e-06, 1.4416784329864566e-05, 1.4333656544460664e-05, 1.2031435782293356e-05, 1.2197652349980043e-05, 1.5074170668717174e-05, 9.512368934285865e-06, 2.1218985857183834e-05, 1.5237550409394645e-05, 1.2100429703340614e-05, 1.9333446705473894e-05, 9.666486733802172e-06, 1.2101091022927548e-05, 1.933033165620071e-05, 1.203822232536765e-05, 1.1925294421958588e-05, 1.1888610686444353e-05, 1.2004587767188713e-05, 1.1672269907706636e-05, 1.728969529326642e-05, 1.251265195695031e-05, 2.3970219217006126e-05, 1.650931911249268e-05, 1.658446512584407e-05, 1.6739990504664674e-05, 1.72732255753229e-05, 1.982148149243806e-05, 1.9067851051918034e-05, 1.6131316463878674e-05, 2.0149024503159433e-05, 2.994925207253453e-05, 2.3126293950893014e-05, 2.8564065760173412e-05, 2.2620267457525752e-05, 2.182331235006937e-05, 0.000380904910726153, 6.44165979596676e-05, 2.882084324141281e-05, 3.081214325634263e-05, 4.719505932044846e-05, 3.3200919744891976e-05, 0.00023807940577774578, 5.4270495912646296e-05, 0.00019646510717553542, 6.721014363874927e-05, 7.019443364828384e-05, 0.00018120368858948944, 2.9895230149579913e-05, 0.0001681445283663969, 7.901077541825882e-05, 0.00015398136833211345, 2.771934309691747e-05, 4.028240962148712e-05, 0.00011752704744281441, 5.4213922318834626e-05, 0.00010988620773913339, 0.00010538852035750309, 7.78144855551457e-05, 9.959583921425382e-05, 9.454846784568638e-05, 8.344385282965539e-05, 8.131718771584213e-05, 7.399284533898226e-05, 9.919557358410644e-05, 7.327136040415054e-05, 6.961322127170804e-05, 6.561243712004781e-05, 6.249176446353667e-05, 6.23507499792435e-05, 6.164404116016282e-05, 5.635801576063484e-05, 6.317263761518969e-05, 5.5574028757581725e-05, 5.458748901247363e-05, 2.417493842658037e-06, 2.400729380872567e-06, 2.3993020054696815e-06, 2.3943878541089798e-06, 2.3939548276957287e-06, 2.3929955076417567e-06, 2.39196054227887e-06, 2.3916757978632084e-06, 2.391069131081765e-06, 2.391327657521041e-06, 2.3903702715800815e-06, 2.389501425034784e-06, 2.389131364745147e-06, 2.3877723280020204e-06, 2.386732634807326e-06, 2.3864577758581708e-06, 2.3860180875001003e-06, 2.3855685136755237e-06, 2.385125386894321e-06, 2.3851642840560076e-06, 2.3849824774328757e-06, 2.384878894936009e-06, 2.3849414312567313e-06, 2.3846263857372146e-06, 2.3836771660511948e-06, 2.383476448100834e-06, 2.3832232941977025e-06, 2.3828467868646923e-06, 2.3827408404519217e-06, 2.382409032619634e-06, 1.154016981585013e-05, 1.1381996334513942e-05, 1.4755172809272448e-05, 1.1048664421172725e-05, 1.7988426952682157e-05, 1.4431034379781793e-05, 9.579679800354947e-06, 9.677514972955972e-06, 1.4554652568241985e-05, 9.53213758330744e-06, 1.208019565895624e-05, 1.4885004228333094e-05, 9.715653102736049e-06, 1.4217759308141265e-05, 1.429622842205418e-05, 1.1934330013222893e-05, 1.2097442789388939e-05, 1.495185233166389e-05, 9.433465154673647e-06, 2.1043924935410223e-05, 1.511245763776055e-05, 1.9176651430643312e-05, 1.1999103887799e-05, 9.588078148856115e-06, 1.200214001542501e-05, 1.9168816983535877e-05, 1.1938493084030585e-05, 1.182705293069998e-05, 1.179086180801869e-05, 1.1905276197358921e-05, 1.1577557509781536e-05, 1.7148258575521433e-05, 1.2410794025907108e-05, 2.37784959758534e-05, 1.6372803040926215e-05, 1.6448102788316733e-05, 1.6603471375982572e-05, 1.713364699641981e-05, 1.9662963087179054e-05, 1.8912118066154812e-05, 1.5999254471021316e-05, 1.9983963955561286e-05, 2.970197581656624e-05, 2.294561189809891e-05, 2.833314816356972e-05, 2.24395654119941e-05, 2.1641333762569098e-05, 0.0003777791644660688, 6.390376097188518e-05, 2.8584876840312733e-05, 3.0550592399363556e-05, 4.6824126445242485e-05, 3.292614736527141e-05, 0.0002358531057904922, 5.38274516667796e-05, 0.0001948316312778744, 6.668901436930163e-05, 6.96025828411773e-05, 0.0001797623567962351, 2.9649577686449838e-05, 0.00016663440226152146, 7.835058459069148e-05, 0.0001526350137681031, 2.7495537973219585e-05, 3.99607931831226e-05, 0.00011656955857546012, 5.3785870815838087e-05, 0.00010897275464440461, 0.00010447739462518539, 7.713019882196035e-05, 9.874384468225486e-05, 9.376614266600639e-05, 8.274160222153139e-05, 3.2027580809628044e-05, 8.057534063327661e-05, 7.340171719083229e-05, 9.839121375947662e-05, 7.263891677257629e-05, 6.899063979943728e-05, 6.505508945042288e-05, 6.201545463281667e-05, 6.180767072291877e-05, 6.113042514904602e-05, 5.589840016580105e-05, 6.269424062025279e-05, 5.5113762322230446e-05, 5.41121359100362e-05, 2.4105841782389123e-06, 2.3940325766436907e-06, 2.3929226943634893e-06, 2.3879492218754536e-06, 2.3875609773403717e-06, 2.3863853163227147e-06, 2.3852137263018386e-06, 2.385016390089471e-06, 2.384979536855456e-06, 2.3844483789070744e-06, 2.383888723981228e-06, 2.3829826058030484e-06, 2.3823884545360606e-06, 2.381310283178151e-06, 2.3800264193513237e-06, 2.37996449734766e-06, 2.379528686429141e-06, 2.378767195768169e-06, 2.3784657277434116e-06, 2.378480940415592e-06, 2.378242037183464e-06, 2.378199398848761e-06, 2.3781115510234944e-06, 2.377435765557905e-06, 2.3778310807716055e-06, 2.37706316222098e-06, 2.37662606572453e-06, 2.376199896640492e-06, 2.3760310574055887e-06, 2.3756276001983263e-06, 1.1506116173817676e-05, 1.1349897028934557e-05, 1.4713218297855254e-05, 1.1018606167340071e-05, 1.7933793278606933e-05, 1.4390284549862498e-05, 9.553294157265144e-06, 9.648235801553813e-06, 1.4514529657504335e-05, 9.504995851459392e-06, 1.2043744864450953e-05, 1.4843005103430513e-05, 9.688302123343093e-06, 1.4256970975497256e-05, 1.4177107446232197e-05, 1.1898555121161583e-05, 1.2061892939573159e-05, 1.4911747526542761e-05, 9.405981496286156e-06, 2.098592841066593e-05, 1.5067664132086182e-05, 1.9120433131792348e-05, 1.1964407565085541e-05, 9.562023231414833e-06, 1.1965066638038032e-05, 1.911145979783582e-05, 1.1904443068084349e-05, 1.1793120589802257e-05, 1.175662388940065e-05, 1.1870917766806649e-05, 1.1544602091804106e-05, 1.709655636595615e-05, 1.2379122149761268e-05, 2.370858706011668e-05, 1.6328457834420285e-05, 1.6400110805967716e-05, 1.6555074369738483e-05, 1.708489874528025e-05, 1.96044120842202e-05, 1.886041385362584e-05, 1.5952520565395287e-05, 1.9922200092282204e-05, 2.9621151943203502e-05, 2.287164840154583e-05, 2.8253393014720545e-05, 2.237118491183814e-05, 2.1584236379629885e-05, 0.0003764881134567583, 6.371257031848297e-05, 2.8500174268408296e-05, 3.0461265122211316e-05, 4.66639180144338e-05, 3.283365349455017e-05, 0.00023513622139094732, 5.368210734361504e-05, 0.00019408758779068943, 6.648224683812045e-05, 6.945996072082116e-05, 0.0001790323800517001, 2.9566328043821343e-05, 0.00016606130325910856, 7.811313434947961e-05, 0.00015214501472051578, 2.7410468705304193e-05, 3.9838147133509315e-05, 0.00011610064577089073, 5.3639326738288e-05, 0.00010858478008495563, 0.00010415357465272713, 7.687727914489786e-05, 9.838695886096075e-05, 9.345163546949346e-05, 8.24618845273347e-05, 3.193107151273209e-05, 8.033871315033637e-05, 7.312701863102094e-05, 9.814610669268956e-05, 7.239807880325526e-05, 6.878683211628845e-05, 6.483172247261653e-05, 6.185165683935451e-05, 6.16164954960567e-05, 6.0923990660951946e-05, 5.57263750895366e-05, 6.244767133729005e-05, 5.491145923797119e-05, 5.394291168137125e-05, 2.3158976075359385e-06, 2.2988413164180093e-06, 2.2994423058914103e-06, 2.293917976086269e-06, 2.2935916599942408e-06, 2.291478012318702e-06, 2.291759269631314e-06, 2.291242225281209e-06, 2.2913134140377295e-06, 2.2908297008395214e-06, 2.2898750308098805e-06, 2.289118907456663e-06, 2.2889141883447035e-06, 2.2876206516041102e-06, 2.2865639306402668e-06, 2.2863493356314486e-06, 2.2858921639060475e-06, 2.2854074219685833e-06, 2.284937082380704e-06, 2.284727013824613e-06, 2.284872271807571e-06, 2.2847074677787477e-06, 2.2845052176410024e-06, 2.284436909354399e-06, 2.2836698813650667e-06, 2.283718849353656e-06, 2.2833071479033733e-06, 2.282722824005921e-06, 2.2822993949281193e-06, 2.282287050057046e-06, 1.1049587944587158e-05, 1.0899006030230824e-05, 1.4129829149240372e-05, 1.0581043300962099e-05, 1.7220502592941628e-05, 1.3821343988990047e-05, 9.17391399470429e-06, 9.266270090157988e-06, 1.3939059741593186e-05, 9.126980440867775e-06, 1.156731043960979e-05, 1.4253585658755203e-05, 9.303359843800936e-06, 1.3690409348442002e-05, 1.3613242382356451e-05, 1.1426434885882407e-05, 1.1584504376040182e-05, 1.4319844696760703e-05, 9.033753620507732e-06, 2.0153383894588544e-05, 1.4470491627438021e-05, 1.836070615891187e-05, 1.1488713114462587e-05, 9.182017991067972e-06, 1.149181579205892e-05, 1.8352612861436452e-05, 1.1434700188561444e-05, 1.1325572351268048e-05, 1.128991295668675e-05, 1.1400799526612338e-05, 1.1086663707376226e-05, 1.6419453784915324e-05, 1.1883191823615617e-05, 2.276882588950023e-05, 1.56781278171571e-05, 1.574950256973523e-05, 1.5897194961269087e-05, 1.6406955837441076e-05, 1.882351702141925e-05, 1.811275860042044e-05, 1.5322684413328115e-05, 1.9131956094150902e-05, 2.8434165395967842e-05, 2.196404234647866e-05, 2.7130046631891083e-05, 2.148235535310935e-05, 2.0724032966857902e-05, 0.0003612029478696012, 6.120776036790858e-05, 2.73744882469978e-05, 2.9257594632257982e-05, 4.480648317116106e-05, 3.153673435743498e-05, 0.00022560525118946659, 5.15445639921595e-05, 0.00018624697111849697, 6.379770773508043e-05, 6.664852362580006e-05, 0.00017182303940679763, 2.8390734493550424e-05, 0.00015934724027723954, 7.499925939659268e-05, 0.0001459886939828944, 2.6322532403388177e-05, 3.8257008936397815e-05, 0.00011141899927701555, 5.151930144799584e-05, 0.00010419434618566854, 9.993481261527971e-05, 7.378618323368746e-05, 9.442159977803537e-05, 8.967800899903122e-05, 7.914876230811698e-05, 3.0655949204157146e-05, 7.709877630970996e-05, 7.018209318599382e-05, 9.415831495172291e-05, 6.948697489365302e-05, 6.602047584098995e-05, 6.221107906547363e-05, 5.937913272168469e-05, 5.912876556846296e-05, 5.84774370027921e-05, 5.347847857479029e-05, 5.9984512031239254e-05, 5.270588387159572e-05, 5.175967748556253e-05, 2.313199921963748e-06, 2.297173046223505e-06, 2.2961322144755083e-06, 2.2910724271813057e-06, 2.291028210855319e-06, 2.289673340364151e-06, 2.288955184967193e-06, 2.2886752853408298e-06, 2.2886146164284293e-06, 2.2880708584474567e-06, 2.287364014203658e-06, 2.28654961117618e-06, 2.2861236948453954e-06, 2.2848913961230096e-06, 2.283901978707556e-06, 2.283672876441745e-06, 2.283115339419651e-06, 2.282620527883259e-06, 2.282272350023279e-06, 2.2824017084839567e-06, 2.2822608332127893e-06, 2.2820537362813073e-06, 2.282003350235415e-06, 2.2818347112246748e-06, 2.2810291514623943e-06, 2.2809662203193616e-06, 2.2806153689140897e-06, 1.941765302801458e-06, 2.2800121759646973e-06, 2.2800374718163084e-06, 2.2797637419098504e-06, 1.104471257136986e-05, 1.0892606764716582e-05, 1.4123434886576547e-05, 1.0575960286598557e-05, 1.721414702413222e-05, 1.381161395205366e-05, 9.168740133350128e-06, 9.261904549176332e-06, 1.3931326261317007e-05, 9.121832164226035e-06, 1.1561517102650328e-05, 1.4247525229084579e-05, 9.299512693830084e-06, 1.3609555625160435e-05, 1.3683508355831364e-05, 1.1421222607783445e-05, 1.157775991858725e-05, 1.4310915399277916e-05, 9.02977253957751e-06, 2.0143049619567813e-05, 1.4464929705955182e-05, 1.83538670427683e-05, 1.1484121668272332e-05, 9.1776673067382e-06, 1.1487923860992538e-05, 1.834472927627413e-05, 1.1427073147512155e-05, 1.1320552522035311e-05, 1.1283473328034762e-05, 1.1395679967376179e-05, 1.1082221177875807e-05, 1.6410747486447664e-05, 1.1878055816327345e-05, 2.2758926951155036e-05, 1.5672789756482232e-05, 1.574074716466401e-05, 1.589177532690719e-05, 1.6398834168625506e-05, 1.881930577663588e-05, 1.8100773615449105e-05, 1.5311856206255814e-05, 1.9124744752888898e-05, 2.8422817022778462e-05, 2.1955953535458596e-05, 2.7119114075357056e-05, 2.1475282997089213e-05, 2.0716103075908753e-05, 0.00036128205549286685, 6.115873880321887e-05, 2.735284445372597e-05, 2.9239553027009958e-05, 4.479000464143722e-05, 3.1508045513282444e-05, 0.00022562555789807436, 5.151294605525172e-05, 0.0001862509122031539, 6.379198842080031e-05, 6.662965813405468e-05, 0.00017185100311870564, 2.8378250256701038e-05, 0.00015934580020979708, 7.495903666633719e-05, 0.00014600306851794738, 2.6306492862987624e-05, 3.8240147727212095e-05, 0.00011141983717290787, 5.146568764603702e-05, 0.00010419247920275309, 9.993222673368652e-05, 7.37840850791548e-05, 9.442060370406323e-05, 8.968083073241757e-05, 7.914654896035152e-05, 3.064158321187419e-05, 7.710274286569633e-05, 7.018007363385411e-05, 9.414880039547437e-05, 6.948736051652635e-05, 6.601959622983476e-05, 6.221406034406996e-05, 5.9318313000775245e-05, 5.912922013460534e-05, 5.847963253678516e-05, 5.347977707911178e-05, 5.9993217838568825e-05, 5.270407382539604e-05, 5.1761557798031825e-05], \"Total\": [1272.0, 762.0, 606.0, 557.0, 511.0, 463.0, 518.0, 515.0, 334.0, 464.0, 380.0, 339.0, 307.0, 295.0, 271.0, 328.0, 258.0, 224.0, 216.0, 291.0, 284.0, 193.0, 177.0, 190.0, 274.0, 282.0, 176.0, 158.0, 192.0, 163.0, 160.4444098500664, 85.04700307224493, 74.68260770887336, 68.60838360663315, 191.9486521649908, 58.26346582266115, 48.78782421598928, 186.9948766158194, 26.12003682312133, 24.416499434456785, 23.530987692209752, 17.35986516759167, 62.11303682195662, 13.004742745326737, 100.73617947618504, 80.5448572434116, 11.23002964478737, 11.258208859997133, 11.275597651342457, 10.373079983337785, 10.378563796254802, 9.486799890071252, 39.60323401061701, 9.497903797325847, 9.51666276053718, 9.52379813961523, 8.583713600419212, 8.588818367380108, 8.598251474816278, 35.167983997525084, 191.88582069847715, 45.49883027180314, 167.50387764861193, 21.90503628731545, 15.796328144250039, 72.57738848498242, 15.848125414634502, 156.4547663692635, 20.58545269606651, 81.09087270161066, 19.519400568511706, 46.51864560217111, 44.002388643241, 40.011880648274534, 35.310872161203186, 1272.270916645869, 762.0035424495809, 606.9457239728856, 557.3186667601126, 511.4648917421938, 463.33169822274, 334.0757574389537, 100.7101304177561, 307.2623039167526, 295.88016694442365, 271.2503694183965, 258.93393269158776, 224.36751905838298, 216.64949581280345, 193.81201844881159, 190.21798523798847, 282.5794133255561, 91.14254536874607, 77.24958519986369, 47.29508776579583, 47.30248544578811, 48.146173594640544, 50.03137140222823, 31.552524247697306, 29.199020978442224, 21.571030084822233, 21.57852565661842, 24.23781786096607, 20.792345224305247, 45.116154689385844, 17.401824313127037, 21.75778522528311, 20.915711397785984, 20.05803048486563, 17.467064526725935, 19.249110339077653, 19.268689883196547, 37.6034996336632, 17.57533745943955, 17.57637151547388, 17.59643427532026, 16.72500763077577, 15.894156581963285, 15.046628477178407, 12.39240276033378, 10.731954390157387, 31.217914677916312, 31.712641569755394, 40.52866424987095, 91.9449938816407, 37.814968365145646, 152.09813114851985, 65.57082734445181, 96.15553062516284, 64.59231438961305, 158.4837737623267, 1272.270916645869, 38.16328780117487, 762.0035424495809, 606.9457239728856, 557.3186667601126, 511.4648917421938, 463.33169822274, 94.28403762766906, 334.0757574389537, 192.39219017780766, 339.51556856742747, 307.2623039167526, 295.88016694442365, 271.2503694183965, 258.93393269158776, 464.7190854732364, 229.4483029261851, 135.29154550057456, 274.81099128877196, 88.96189725669736, 87.34625474915173, 74.24257396201578, 71.80615435684325, 50.67174244322568, 48.25906758696303, 31.935092122169564, 187.68425175354437, 291.18651750323426, 46.30422398704582, 8.140769365117327, 7.303672160807177, 328.0879481766991, 6.427425738026689, 132.89177728018785, 4.73463036756152, 4.806473235965969, 4.810887834027535, 4.828267418874762, 4.830235075038353, 4.846351974328712, 3.9077266552875107, 3.9616200695328727, 3.9628136080657046, 3.98255607648318, 3.0411201057111157, 168.45710337794208, 12.04350516739947, 22.22978208405886, 53.38006134030003, 1272.270916645869, 762.0035424495809, 24.854645419073336, 606.9457239728856, 557.3186667601126, 511.4648917421938, 463.33169822274, 334.0757574389537, 307.2623039167526, 295.88016694442365, 271.2503694183965, 258.93393269158776, 224.36751905838298, 216.64949581280345, 193.81201844881159, 190.21798523798847, 47.14714807451131, 35.82737362761178, 34.281513148699936, 23.72161795925846, 20.695843873550597, 20.701220603768423, 19.91447288291973, 15.347737716085915, 15.35660777295804, 12.310050550369025, 10.003354585464669, 9.223542231089775, 9.236002165904008, 9.246725934391506, 7.663632514041002, 7.663743906851815, 18.747623482347848, 92.02728373682905, 6.9111311927236585, 32.55908258002713, 6.92234707305818, 6.122696616706473, 6.1472103324347644, 6.1498298688130495, 35.84751357603412, 5.3494455897908715, 5.353939035889992, 5.355469977999109, 5.358263162430798, 5.362242526888081, 42.10886925395588, 13.417859610495274, 24.349321371459173, 11.840344364452696, 25.403517045181257, 32.19094902552929, 25.061548933144515, 11.091932044399375, 37.32537927365467, 67.85792322230567, 31.951388327438224, 20.398006091271288, 152.5550084765234, 48.06142934152598, 22.588493412885917, 52.29526173143515, 1272.270916645869, 44.54507031554004, 762.0035424495809, 606.9457239728856, 557.3186667601126, 511.4648917421938, 463.33169822274, 192.39219017780766, 334.0757574389537, 307.2623039167526, 295.88016694442365, 271.2503694183965, 258.93393269158776, 224.36751905838298, 216.64949581280345, 193.81201844881159, 339.51556856742747, 518.7795845354028, 69.58613477048138, 50.93605958646779, 29.990045795576428, 22.50954482173612, 86.43140776036608, 9.730027209270217, 24.356157637923673, 128.6279168774423, 6.714051716014421, 5.92233641875602, 284.3326191746235, 5.149017462438385, 15.35720021881707, 5.169970016822157, 38.07111717207026, 4.3905993764101465, 4.398984833116745, 4.402849010601797, 4.410825336959104, 13.194403835365403, 11.63022272007163, 3.62550345479316, 3.625555892896594, 3.6258429038877207, 3.6275059976635027, 3.6278608158803616, 3.6337525678933016, 3.6355627929860272, 3.636173366758404, 27.852299431459368, 12.493295076242655, 67.35292813386548, 123.51539986655224, 122.71265060633472, 7.845627398775183, 45.14732524026679, 339.51556856742747, 11.292346573368059, 152.5550084765234, 192.39219017780766, 35.623115824836304, 64.3629278939594, 27.0088763539296, 21.80825137974535, 18.016979663213124, 23.498196945475012, 61.91996197785934, 26.776810362152183, 91.9449938816407, 55.9549413314891, 158.4837737623267, 57.36742935708504, 37.63542732827451, 60.29938129530666, 50.96992976108123, 117.16750357800541, 76.13993767007425, 380.282989739463, 125.3093289869479, 100.20075059781058, 77.25937240975802, 74.31572889877303, 40.25874369850711, 36.514699965738735, 32.06205878805272, 57.667413381927354, 20.90059227350699, 12.711383122681983, 11.954156442557139, 10.463706230888297, 10.467311227101918, 8.962185813869377, 22.784015346810712, 8.197514592886487, 8.197902411817493, 8.208886219287141, 7.445005820359032, 7.4493781163533574, 7.452272859394784, 20.597151184345606, 6.675809754754195, 6.677919882935472, 6.686646332602058, 6.686669077889478, 6.689119137327929, 6.692749353160271, 6.6947754687622, 88.38387439799874, 34.543099289568495, 515.0799169191877, 79.74647828686834, 25.916780229457515, 26.383913536601572, 20.178466703091043, 129.33034383116043, 14.628667880189386, 9.905126702251657, 1272.270916645869, 26.874456020337526, 61.91996197785934, 762.0035424495809, 86.9682125364734, 606.9457239728856, 557.3186667601126, 511.4648917421938, 76.13993767007425, 125.50415385742976, 463.33169822274, 334.0757574389537, 307.2623039167526, 295.88016694442365, 271.2503694183965, 258.93393269158776, 224.36751905838298, 216.64949581280345, 148.36575170058478, 44.664553897627904, 29.43078547423701, 16.315704945557105, 14.113144076185947, 49.21721046680321, 12.634552569864983, 10.423963586591988, 10.424298008087456, 9.681501202432495, 42.97289295231286, 18.828978518033004, 6.707612398218186, 6.713682392120515, 6.71808545850283, 5.960501492554637, 5.196906435326453, 5.202760789207133, 5.203535006700504, 5.206501721301267, 5.212023103896145, 5.2152677762490365, 5.215801630144906, 4.450252674107706, 4.451969240935759, 4.464441459203056, 42.2117532373816, 9.991175193767893, 3.681761666140492, 3.6841241932493696, 9.235766417289975, 9.384188386285693, 35.738108213600334, 8.504899485131565, 58.89963769779447, 15.088636807402576, 35.8398475861265, 31.85332015318503, 122.71265060633472, 123.51539986655224, 7.86335766079116, 40.19494868810073, 95.28597183611059, 27.80285891567723, 94.28403762766906, 14.123729206704768, 18.150906824700225, 57.894898505754306, 43.940387354429525, 53.60451374530882, 152.09813114851985, 40.15859901426016, 99.87211004642454, 48.16753805924181, 192.39219017780766, 49.4668053907792, 94.26734153886576, 38.75711568632993, 38.04506843076868, 64.0959253834039, 78.56232647444456, 19.4576729217832, 18.011191488747002, 12.992339346324652, 61.69260170184802, 10.121684617868159, 9.382058628053866, 69.42653360276182, 8.653481477711294, 8.657600298939064, 77.4888016615399, 7.927089243363864, 18.433852362726256, 5.744780673676511, 5.747175670305119, 5.751512205123445, 5.753016364459389, 5.753762938985829, 5.760569470191788, 5.003682389078619, 5.014122434020603, 5.021393156429396, 5.024729742265734, 5.024723758608339, 34.1677256178876, 4.275018280966487, 172.4300500179189, 11.925329623803586, 11.951824464032669, 27.028268139127004, 19.08754522914655, 18.809676497062856, 19.375938873584875, 31.70736709907822, 73.3823826194167, 18.6558930626856, 515.0799169191877, 24.316757874664695, 125.50415385742976, 1272.270916645869, 339.51556856742747, 762.0035424495809, 606.9457239728856, 57.74762412823011, 557.3186667601126, 511.4648917421938, 463.33169822274, 334.0757574389537, 307.2623039167526, 295.88016694442365, 271.2503694183965, 258.93393269158776, 152.09813114851985, 224.36751905838298, 216.64949581280345, 193.81201844881159, 132.0534869586649, 131.4961470739595, 112.42967061742873, 30.162012953454987, 21.574320290793416, 20.97150450066042, 17.87744906678361, 14.83093835318935, 12.985970432727548, 33.72009118989045, 10.505331640369723, 9.266299539121778, 8.665591825175403, 8.665689010003796, 8.01925547040225, 35.626070423870914, 20.966056997956127, 6.79771203293706, 18.349394557903747, 114.98977561600941, 6.173729247424275, 5.545318481591948, 5.554445731579686, 5.584330028916023, 4.924507267147491, 4.927812433108852, 4.92841551380186, 4.931464534297883, 4.938024561637368, 4.938647978933936, 12.341862773459685, 11.693762847296929, 40.466747055567474, 10.335430333992706, 103.82874519253025, 15.441675480916377, 9.853630979204368, 9.890557682996526, 69.07856943474987, 57.19417199869395, 32.80267915976449, 41.4863606774326, 21.332902855860816, 47.442229065286696, 83.52094098359814, 99.87211004642454, 51.2281754555509, 152.09813114851985, 44.150902028163515, 26.379452923681768, 129.33034383116043, 33.870620593171104, 1.333659398342397, 1.3290626900258187, 1.3294577085560537, 1.3277501905177755, 1.3277582939244406, 1.3272108257240485, 1.327127777268941, 1.3269553573942086, 1.3274180505516673, 1.3267947300399916, 1.3271539693117487, 1.3254029639304916, 1.3258591074114736, 1.326611841128631, 1.326484581106708, 1.3261619776892652, 1.3250753875044967, 1.325850627219384, 1.325378953977486, 1.325496351693983, 1.3253971266084645, 1.3251072609997279, 1.3256881269515581, 1.325454924463805, 1.3248365628465293, 1.3253365740728187, 1.1281998296935989, 1.3244568824374816, 1.325021029255344, 1.3248559146144088, 1.3247982185941432, 8.019626440526759, 8.175038911572146, 11.212014716372831, 8.030969163788155, 14.438256478910644, 6.858676292231257, 11.164949546691357, 6.953783779382879, 11.323433005293731, 6.846373967413897, 11.65746685211621, 9.083539739069248, 7.024307383205528, 11.06846253973147, 11.142655084587128, 9.029053264135536, 11.93672453495633, 9.244428503537067, 6.859655489974031, 18.06992724924944, 12.134644313447824, 16.179283904044883, 9.199436593065798, 7.042080633927592, 9.250712370367465, 16.310236299247478, 9.20441799412182, 9.107574476642467, 8.910811960373486, 9.095607574871622, 14.583255724333329, 9.217848804965058, 22.553162847700417, 13.913036994141413, 14.040936093278217, 14.261820145700666, 14.907494210016015, 17.91358895344878, 13.630693342177597, 17.08575060232781, 18.41485292454904, 31.718685844919452, 22.304981245371653, 21.813754489824195, 30.27505416239888, 20.840702414089467, 1272.270916645869, 99.87211004642454, 31.308482448204757, 34.618142961670074, 65.78964252858432, 39.26206615471267, 762.0035424495809, 83.52094098359814, 606.9457239728856, 117.16750357800541, 125.50415385742976, 557.3186667601126, 34.249169295333175, 511.4648917421938, 158.4837737623267, 463.33169822274, 30.81130095008292, 56.60145832943904, 334.0757574389537, 94.28403762766906, 307.2623039167526, 295.88016694442365, 271.2503694183965, 177.13426813110365, 258.93393269158776, 224.36751905838298, 216.64949581280345, 190.21798523798847, 339.51556856742747, 193.81201844881159, 176.4061178521584, 163.49679128083244, 152.09813114851985, 153.87105422534987, 151.24318666600325, 135.77956674667837, 192.39219017780766, 136.16419779110495, 128.14525082168092, 1.333659398342397, 1.3294577085560537, 1.3290626900258187, 1.3277501905177755, 1.3277582939244406, 1.3274180505516673, 1.3271539693117487, 1.3272108257240485, 1.327127777268941, 1.3269553573942086, 1.3267947300399916, 1.326611841128631, 1.326484581106708, 1.3261619776892652, 1.3258591074114736, 1.325850627219384, 1.3256881269515581, 1.325589573986765, 1.3254029639304916, 1.325454924463805, 1.325496351693983, 1.3253365740728187, 1.3253971266084645, 1.325378953977486, 1.3251072609997279, 1.3250753875044967, 1.325021029255344, 1.3248365628465293, 1.3248559146144088, 1.3247982185941432, 8.019626440526759, 8.175038911572146, 11.212014716372831, 8.030969163788155, 14.438256478910644, 11.164949546691357, 6.858676292231257, 6.953783779382879, 11.323433005293731, 6.846373967413897, 9.083539739069248, 11.65746685211621, 7.024307383205528, 11.142655084587128, 11.06846253973147, 9.029053264135536, 11.93672453495633, 9.244428503537067, 6.859655489974031, 18.06992724924944, 12.134644313447824, 16.179283904044883, 9.199436593065798, 7.042080633927592, 9.250712370367465, 9.20441799412182, 16.310236299247478, 9.107574476642467, 9.095607574871622, 9.217848804965058, 14.583255724333329, 9.735703530421457, 22.553162847700417, 13.913036994141413, 14.040936093278217, 14.261820145700666, 14.907494210016015, 17.91358895344878, 13.630693342177597, 17.08575060232781, 18.41485292454904, 31.718685844919452, 22.304981245371653, 30.27505416239888, 21.813754489824195, 20.840702414089467, 1272.270916645869, 99.87211004642454, 31.308482448204757, 34.618142961670074, 65.78964252858432, 39.26206615471267, 762.0035424495809, 83.52094098359814, 606.9457239728856, 125.50415385742976, 117.16750357800541, 557.3186667601126, 34.249169295333175, 158.4837737623267, 511.4648917421938, 463.33169822274, 30.81130095008292, 56.60145832943904, 334.0757574389537, 94.28403762766906, 307.2623039167526, 295.88016694442365, 271.2503694183965, 177.13426813110365, 258.93393269158776, 224.36751905838298, 216.64949581280345, 190.21798523798847, 339.51556856742747, 193.81201844881159, 176.4061178521584, 163.49679128083244, 152.09813114851985, 153.87105422534987, 151.24318666600325, 135.77956674667837, 192.39219017780766, 136.16419779110495, 128.14525082168092, 1.333659398342397, 1.3294577085560537, 1.3290626900258187, 1.3277501905177755, 1.3277582939244406, 1.3274180505516673, 1.3272108257240485, 1.327127777268941, 1.3271539693117487, 1.3269553573942086, 1.3267947300399916, 1.326611841128631, 1.326484581106708, 1.3261619776892652, 1.3258591074114736, 1.325850627219384, 1.3256881269515581, 1.325589573986765, 1.3254029639304916, 1.325496351693983, 1.325454924463805, 1.3253971266084645, 1.325378953977486, 1.3253365740728187, 1.3251072609997279, 1.3250753875044967, 1.325021029255344, 1.1281998296935989, 1.3248365628465293, 1.3248559146144088, 1.3247982185941432, 8.019626440526759, 8.175038911572146, 11.212014716372831, 8.030969163788155, 14.438256478910644, 11.164949546691357, 6.858676292231257, 6.953783779382879, 11.323433005293731, 9.083539739069248, 6.846373967413897, 11.65746685211621, 7.024307383205528, 11.142655084587128, 11.06846253973147, 9.029053264135536, 9.244428503537067, 11.93672453495633, 6.859655489974031, 18.06992724924944, 12.134644313447824, 9.199436593065798, 16.179283904044883, 7.042080633927592, 9.250712370367465, 9.20441799412182, 16.310236299247478, 9.107574476642467, 9.095607574871622, 9.217848804965058, 14.583255724333329, 9.735703530421457, 22.553162847700417, 13.913036994141413, 14.040936093278217, 14.261820145700666, 14.907494210016015, 17.91358895344878, 17.08575060232781, 13.630693342177597, 18.41485292454904, 31.718685844919452, 22.304981245371653, 30.27505416239888, 21.813754489824195, 20.840702414089467, 1272.270916645869, 99.87211004642454, 31.308482448204757, 34.618142961670074, 65.78964252858432, 39.26206615471267, 762.0035424495809, 606.9457239728856, 83.52094098359814, 125.50415385742976, 117.16750357800541, 34.249169295333175, 557.3186667601126, 511.4648917421938, 158.4837737623267, 463.33169822274, 30.81130095008292, 56.60145832943904, 334.0757574389537, 94.28403762766906, 307.2623039167526, 295.88016694442365, 177.13426813110365, 271.2503694183965, 258.93393269158776, 40.46557264363941, 224.36751905838298, 216.64949581280345, 190.21798523798847, 339.51556856742747, 193.81201844881159, 176.4061178521584, 163.49679128083244, 152.09813114851985, 153.87105422534987, 151.24318666600325, 135.77956674667837, 192.39219017780766, 136.16419779110495, 128.14525082168092, 1.333659398342397, 1.3294577085560537, 1.3290626900258187, 1.3277501905177755, 1.3277582939244406, 1.3274180505516673, 1.3272108257240485, 1.327127777268941, 1.3271539693117487, 1.3269553573942086, 1.3267947300399916, 1.326611841128631, 1.326484581106708, 1.3261619776892652, 1.3258591074114736, 1.325850627219384, 1.3256881269515581, 1.325589573986765, 1.3254029639304916, 1.325454924463805, 1.325496351693983, 1.3253971266084645, 1.325378953977486, 1.3253365740728187, 1.3250753875044967, 1.3251072609997279, 1.325021029255344, 1.3248559146144088, 1.3248365628465293, 1.1281998296935989, 1.3247982185941432, 8.019626440526759, 8.175038911572146, 11.212014716372831, 8.030969163788155, 14.438256478910644, 11.164949546691357, 6.858676292231257, 6.953783779382879, 11.323433005293731, 6.846373967413897, 9.083539739069248, 11.65746685211621, 7.024307383205528, 11.142655084587128, 11.06846253973147, 9.029053264135536, 9.244428503537067, 11.93672453495633, 6.859655489974031, 18.06992724924944, 12.134644313447824, 9.199436593065798, 16.179283904044883, 7.042080633927592, 9.250712370367465, 16.310236299247478, 9.20441799412182, 9.107574476642467, 9.095607574871622, 9.217848804965058, 8.910811960373486, 14.583255724333329, 9.735703530421457, 22.553162847700417, 13.913036994141413, 14.040936093278217, 14.261820145700666, 14.907494210016015, 17.91358895344878, 17.08575060232781, 13.630693342177597, 18.41485292454904, 31.718685844919452, 22.304981245371653, 30.27505416239888, 21.813754489824195, 20.840702414089467, 1272.270916645869, 99.87211004642454, 31.308482448204757, 34.618142961670074, 65.78964252858432, 39.26206615471267, 762.0035424495809, 83.52094098359814, 606.9457239728856, 117.16750357800541, 125.50415385742976, 557.3186667601126, 34.249169295333175, 511.4648917421938, 158.4837737623267, 463.33169822274, 30.81130095008292, 56.60145832943904, 334.0757574389537, 94.28403762766906, 307.2623039167526, 295.88016694442365, 177.13426813110365, 271.2503694183965, 258.93393269158776, 224.36751905838298, 216.64949581280345, 190.21798523798847, 339.51556856742747, 193.81201844881159, 176.4061178521584, 163.49679128083244, 152.09813114851985, 153.87105422534987, 151.24318666600325, 135.77956674667837, 192.39219017780766, 136.16419779110495, 128.14525082168092, 1.333659398342397, 1.3294577085560537, 1.3290626900258187, 1.3277582939244406, 1.3277501905177755, 1.3274180505516673, 1.3272108257240485, 1.327127777268941, 1.3269553573942086, 1.3271539693117487, 1.3267947300399916, 1.326611841128631, 1.326484581106708, 1.3261619776892652, 1.3258591074114736, 1.325850627219384, 1.3256881269515581, 1.325589573986765, 1.3254029639304916, 1.325496351693983, 1.3253971266084645, 1.325378953977486, 1.325454924463805, 1.3253365740728187, 1.3250753875044967, 1.3251072609997279, 1.325021029255344, 1.3248559146144088, 1.3248365628465293, 1.3247982185941432, 8.019626440526759, 8.175038911572146, 11.212014716372831, 8.030969163788155, 14.438256478910644, 11.164949546691357, 6.858676292231257, 6.953783779382879, 11.323433005293731, 6.846373967413897, 9.083539739069248, 11.65746685211621, 7.024307383205528, 11.06846253973147, 11.142655084587128, 9.029053264135536, 9.244428503537067, 11.93672453495633, 6.859655489974031, 18.06992724924944, 12.134644313447824, 16.179283904044883, 9.199436593065798, 7.042080633927592, 9.250712370367465, 16.310236299247478, 9.20441799412182, 9.107574476642467, 9.095607574871622, 9.217848804965058, 8.910811960373486, 14.583255724333329, 9.735703530421457, 22.553162847700417, 13.913036994141413, 14.040936093278217, 14.261820145700666, 14.907494210016015, 17.91358895344878, 17.08575060232781, 13.630693342177597, 18.41485292454904, 31.718685844919452, 22.304981245371653, 30.27505416239888, 21.813754489824195, 20.840702414089467, 1272.270916645869, 99.87211004642454, 31.308482448204757, 34.618142961670074, 65.78964252858432, 39.26206615471267, 762.0035424495809, 83.52094098359814, 606.9457239728856, 117.16750357800541, 125.50415385742976, 557.3186667601126, 34.249169295333175, 511.4648917421938, 158.4837737623267, 463.33169822274, 30.81130095008292, 56.60145832943904, 334.0757574389537, 94.28403762766906, 307.2623039167526, 295.88016694442365, 177.13426813110365, 271.2503694183965, 258.93393269158776, 224.36751905838298, 40.46557264363941, 216.64949581280345, 190.21798523798847, 339.51556856742747, 193.81201844881159, 176.4061178521584, 163.49679128083244, 152.09813114851985, 153.87105422534987, 151.24318666600325, 135.77956674667837, 192.39219017780766, 136.16419779110495, 128.14525082168092, 1.333659398342397, 1.3294577085560537, 1.3290626900258187, 1.3277501905177755, 1.3277582939244406, 1.3274180505516673, 1.3272108257240485, 1.327127777268941, 1.3271539693117487, 1.3269553573942086, 1.3267947300399916, 1.326611841128631, 1.326484581106708, 1.3261619776892652, 1.3258591074114736, 1.325850627219384, 1.3256881269515581, 1.325589573986765, 1.325454924463805, 1.325496351693983, 1.325378953977486, 1.3254029639304916, 1.3253971266084645, 1.3251072609997279, 1.3253365740728187, 1.3250753875044967, 1.325021029255344, 1.3248365628465293, 1.3248559146144088, 1.3247982185941432, 8.019626440526759, 8.175038911572146, 11.212014716372831, 8.030969163788155, 14.438256478910644, 11.164949546691357, 6.858676292231257, 6.953783779382879, 11.323433005293731, 6.846373967413897, 9.083539739069248, 11.65746685211621, 7.024307383205528, 11.142655084587128, 11.06846253973147, 9.029053264135536, 9.244428503537067, 11.93672453495633, 6.859655489974031, 18.06992724924944, 12.134644313447824, 16.179283904044883, 9.199436593065798, 7.042080633927592, 9.250712370367465, 16.310236299247478, 9.20441799412182, 9.107574476642467, 9.095607574871622, 9.217848804965058, 8.910811960373486, 14.583255724333329, 9.735703530421457, 22.553162847700417, 13.913036994141413, 14.040936093278217, 14.261820145700666, 14.907494210016015, 17.91358895344878, 17.08575060232781, 13.630693342177597, 18.41485292454904, 31.718685844919452, 22.304981245371653, 30.27505416239888, 21.813754489824195, 20.840702414089467, 1272.270916645869, 99.87211004642454, 31.308482448204757, 34.618142961670074, 65.78964252858432, 39.26206615471267, 762.0035424495809, 83.52094098359814, 606.9457239728856, 117.16750357800541, 125.50415385742976, 557.3186667601126, 34.249169295333175, 511.4648917421938, 158.4837737623267, 463.33169822274, 30.81130095008292, 56.60145832943904, 334.0757574389537, 94.28403762766906, 307.2623039167526, 295.88016694442365, 177.13426813110365, 271.2503694183965, 258.93393269158776, 224.36751905838298, 40.46557264363941, 216.64949581280345, 190.21798523798847, 339.51556856742747, 193.81201844881159, 176.4061178521584, 163.49679128083244, 152.09813114851985, 153.87105422534987, 151.24318666600325, 135.77956674667837, 192.39219017780766, 136.16419779110495, 128.14525082168092, 1.333659398342397, 1.3290626900258187, 1.3294577085560537, 1.3277582939244406, 1.3277501905177755, 1.327127777268941, 1.3274180505516673, 1.3271539693117487, 1.3272108257240485, 1.3269553573942086, 1.3267947300399916, 1.326484581106708, 1.326611841128631, 1.3261619776892652, 1.3258591074114736, 1.325850627219384, 1.3256881269515581, 1.325589573986765, 1.325454924463805, 1.3253365740728187, 1.325496351693983, 1.3254029639304916, 1.325378953977486, 1.3253971266084645, 1.3250753875044967, 1.3251072609997279, 1.325021029255344, 1.3248559146144088, 1.3247982185941432, 1.3248365628465293, 8.019626440526759, 8.175038911572146, 11.212014716372831, 8.030969163788155, 14.438256478910644, 11.164949546691357, 6.858676292231257, 6.953783779382879, 11.323433005293731, 6.846373967413897, 9.083539739069248, 11.65746685211621, 7.024307383205528, 11.142655084587128, 11.06846253973147, 9.029053264135536, 9.244428503537067, 11.93672453495633, 6.859655489974031, 18.06992724924944, 12.134644313447824, 16.179283904044883, 9.199436593065798, 7.042080633927592, 9.250712370367465, 16.310236299247478, 9.20441799412182, 9.107574476642467, 9.095607574871622, 9.217848804965058, 8.910811960373486, 14.583255724333329, 9.735703530421457, 22.553162847700417, 13.913036994141413, 14.040936093278217, 14.261820145700666, 14.907494210016015, 17.91358895344878, 17.08575060232781, 13.630693342177597, 18.41485292454904, 31.718685844919452, 22.304981245371653, 30.27505416239888, 21.813754489824195, 20.840702414089467, 1272.270916645869, 99.87211004642454, 31.308482448204757, 34.618142961670074, 65.78964252858432, 39.26206615471267, 762.0035424495809, 83.52094098359814, 606.9457239728856, 117.16750357800541, 125.50415385742976, 557.3186667601126, 34.249169295333175, 511.4648917421938, 158.4837737623267, 463.33169822274, 30.81130095008292, 56.60145832943904, 334.0757574389537, 94.28403762766906, 307.2623039167526, 295.88016694442365, 177.13426813110365, 271.2503694183965, 258.93393269158776, 224.36751905838298, 40.46557264363941, 216.64949581280345, 190.21798523798847, 339.51556856742747, 193.81201844881159, 176.4061178521584, 163.49679128083244, 152.09813114851985, 153.87105422534987, 151.24318666600325, 135.77956674667837, 192.39219017780766, 136.16419779110495, 128.14525082168092, 1.333659398342397, 1.3294577085560537, 1.3290626900258187, 1.3277501905177755, 1.3277582939244406, 1.3274180505516673, 1.3272108257240485, 1.327127777268941, 1.3271539693117487, 1.3269553573942086, 1.3267947300399916, 1.326611841128631, 1.326484581106708, 1.3261619776892652, 1.3258591074114736, 1.325850627219384, 1.3256881269515581, 1.325589573986765, 1.3254029639304916, 1.325496351693983, 1.325454924463805, 1.3253971266084645, 1.325378953977486, 1.3253365740728187, 1.3251072609997279, 1.3250753875044967, 1.325021029255344, 1.1281998296935989, 1.3248365628465293, 1.3248559146144088, 1.3247982185941432, 8.019626440526759, 8.175038911572146, 11.212014716372831, 8.030969163788155, 14.438256478910644, 11.164949546691357, 6.858676292231257, 6.953783779382879, 11.323433005293731, 6.846373967413897, 9.083539739069248, 11.65746685211621, 7.024307383205528, 11.06846253973147, 11.142655084587128, 9.029053264135536, 9.244428503537067, 11.93672453495633, 6.859655489974031, 18.06992724924944, 12.134644313447824, 16.179283904044883, 9.199436593065798, 7.042080633927592, 9.250712370367465, 16.310236299247478, 9.20441799412182, 9.107574476642467, 9.095607574871622, 9.217848804965058, 8.910811960373486, 14.583255724333329, 9.735703530421457, 22.553162847700417, 13.913036994141413, 14.040936093278217, 14.261820145700666, 14.907494210016015, 17.91358895344878, 17.08575060232781, 13.630693342177597, 18.41485292454904, 31.718685844919452, 22.304981245371653, 30.27505416239888, 21.813754489824195, 20.840702414089467, 1272.270916645869, 99.87211004642454, 31.308482448204757, 34.618142961670074, 65.78964252858432, 39.26206615471267, 762.0035424495809, 83.52094098359814, 606.9457239728856, 117.16750357800541, 125.50415385742976, 557.3186667601126, 34.249169295333175, 511.4648917421938, 158.4837737623267, 463.33169822274, 30.81130095008292, 56.60145832943904, 334.0757574389537, 94.28403762766906, 307.2623039167526, 295.88016694442365, 177.13426813110365, 271.2503694183965, 258.93393269158776, 224.36751905838298, 40.46557264363941, 216.64949581280345, 190.21798523798847, 339.51556856742747, 193.81201844881159, 176.4061178521584, 163.49679128083244, 152.09813114851985, 153.87105422534987, 151.24318666600325, 135.77956674667837, 192.39219017780766, 136.16419779110495, 128.14525082168092], \"Category\": [\"Default\", \"Default\", \"Default\", \"Default\", \"Default\", \"Default\", \"Default\", \"Default\", \"Default\", \"Default\", \"Default\", \"Default\", \"Default\", \"Default\", \"Default\", \"Default\", \"Default\", \"Default\", \"Default\", \"Default\", \"Default\", \"Default\", \"Default\", \"Default\", \"Default\", \"Default\", \"Default\", \"Default\", \"Default\", \"Default\", \"Topic1\", \"Topic1\", \"Topic1\", \"Topic1\", \"Topic1\", \"Topic1\", \"Topic1\", \"Topic1\", \"Topic1\", \"Topic1\", \"Topic1\", \"Topic1\", \"Topic1\", \"Topic1\", \"Topic1\", \"Topic1\", \"Topic1\", \"Topic1\", \"Topic1\", \"Topic1\", \"Topic1\", \"Topic1\", \"Topic1\", \"Topic1\", \"Topic1\", \"Topic1\", \"Topic1\", \"Topic1\", \"Topic1\", \"Topic1\", \"Topic1\", \"Topic1\", \"Topic1\", \"Topic1\", \"Topic1\", \"Topic1\", \"Topic1\", \"Topic1\", \"Topic1\", \"Topic1\", \"Topic1\", \"Topic1\", \"Topic1\", \"Topic1\", \"Topic1\", \"Topic1\", \"Topic1\", \"Topic1\", \"Topic1\", \"Topic1\", \"Topic1\", \"Topic1\", \"Topic1\", \"Topic1\", \"Topic1\", \"Topic1\", \"Topic1\", \"Topic1\", \"Topic1\", \"Topic1\", \"Topic1\", \"Topic2\", \"Topic2\", \"Topic2\", \"Topic2\", \"Topic2\", \"Topic2\", \"Topic2\", \"Topic2\", \"Topic2\", \"Topic2\", \"Topic2\", \"Topic2\", \"Topic2\", \"Topic2\", \"Topic2\", \"Topic2\", \"Topic2\", \"Topic2\", \"Topic2\", \"Topic2\", \"Topic2\", \"Topic2\", \"Topic2\", \"Topic2\", \"Topic2\", \"Topic2\", \"Topic2\", \"Topic2\", \"Topic2\", \"Topic2\", \"Topic2\", \"Topic2\", \"Topic2\", \"Topic2\", \"Topic2\", \"Topic2\", \"Topic2\", \"Topic2\", \"Topic2\", \"Topic2\", \"Topic2\", \"Topic2\", \"Topic2\", \"Topic2\", \"Topic2\", \"Topic2\", \"Topic2\", \"Topic2\", \"Topic2\", \"Topic2\", \"Topic2\", \"Topic2\", \"Topic2\", \"Topic2\", \"Topic2\", \"Topic3\", \"Topic3\", \"Topic3\", \"Topic3\", \"Topic3\", \"Topic3\", \"Topic3\", \"Topic3\", \"Topic3\", \"Topic3\", \"Topic3\", \"Topic3\", \"Topic3\", \"Topic3\", \"Topic3\", \"Topic3\", \"Topic3\", \"Topic3\", \"Topic3\", \"Topic3\", \"Topic3\", \"Topic3\", \"Topic3\", \"Topic3\", \"Topic3\", \"Topic3\", \"Topic3\", \"Topic3\", \"Topic3\", \"Topic3\", \"Topic3\", \"Topic3\", \"Topic3\", \"Topic3\", \"Topic3\", \"Topic3\", \"Topic3\", \"Topic3\", \"Topic3\", \"Topic3\", \"Topic3\", \"Topic3\", \"Topic3\", \"Topic3\", \"Topic3\", \"Topic3\", \"Topic3\", \"Topic3\", \"Topic3\", \"Topic3\", \"Topic4\", \"Topic4\", \"Topic4\", \"Topic4\", \"Topic4\", \"Topic4\", \"Topic4\", \"Topic4\", \"Topic4\", \"Topic4\", \"Topic4\", \"Topic4\", \"Topic4\", \"Topic4\", \"Topic4\", \"Topic4\", \"Topic4\", \"Topic4\", \"Topic4\", \"Topic4\", \"Topic4\", \"Topic4\", \"Topic4\", \"Topic4\", \"Topic4\", \"Topic4\", \"Topic4\", \"Topic4\", \"Topic4\", \"Topic4\", \"Topic4\", \"Topic4\", \"Topic4\", \"Topic4\", \"Topic4\", \"Topic4\", \"Topic4\", \"Topic4\", \"Topic4\", \"Topic4\", \"Topic4\", \"Topic4\", \"Topic4\", \"Topic4\", \"Topic4\", \"Topic4\", \"Topic4\", \"Topic4\", \"Topic4\", \"Topic4\", \"Topic4\", \"Topic4\", \"Topic4\", \"Topic4\", \"Topic4\", \"Topic4\", \"Topic4\", \"Topic4\", \"Topic4\", \"Topic4\", \"Topic4\", \"Topic4\", \"Topic4\", \"Topic5\", \"Topic5\", \"Topic5\", \"Topic5\", \"Topic5\", \"Topic5\", \"Topic5\", \"Topic5\", \"Topic5\", \"Topic5\", \"Topic5\", \"Topic5\", \"Topic5\", \"Topic5\", \"Topic5\", \"Topic5\", \"Topic5\", \"Topic5\", \"Topic5\", \"Topic5\", \"Topic5\", \"Topic5\", \"Topic5\", \"Topic5\", \"Topic5\", \"Topic5\", \"Topic5\", \"Topic5\", \"Topic5\", \"Topic5\", \"Topic5\", \"Topic5\", \"Topic5\", \"Topic5\", \"Topic5\", \"Topic5\", \"Topic5\", \"Topic5\", \"Topic5\", \"Topic5\", \"Topic5\", \"Topic5\", \"Topic5\", \"Topic5\", \"Topic5\", \"Topic5\", \"Topic5\", \"Topic5\", \"Topic5\", \"Topic5\", \"Topic5\", \"Topic5\", \"Topic5\", \"Topic5\", \"Topic5\", \"Topic5\", \"Topic5\", \"Topic5\", \"Topic6\", \"Topic6\", \"Topic6\", \"Topic6\", \"Topic6\", \"Topic6\", \"Topic6\", \"Topic6\", \"Topic6\", \"Topic6\", \"Topic6\", \"Topic6\", \"Topic6\", \"Topic6\", \"Topic6\", \"Topic6\", \"Topic6\", \"Topic6\", \"Topic6\", \"Topic6\", \"Topic6\", \"Topic6\", \"Topic6\", \"Topic6\", \"Topic6\", \"Topic6\", \"Topic6\", \"Topic6\", \"Topic6\", \"Topic6\", \"Topic6\", \"Topic6\", \"Topic6\", \"Topic6\", \"Topic6\", \"Topic6\", \"Topic6\", \"Topic6\", \"Topic6\", \"Topic6\", \"Topic6\", \"Topic6\", \"Topic6\", \"Topic6\", \"Topic6\", \"Topic6\", \"Topic6\", \"Topic6\", \"Topic6\", \"Topic6\", \"Topic6\", \"Topic6\", \"Topic6\", \"Topic6\", \"Topic6\", \"Topic6\", \"Topic6\", \"Topic6\", \"Topic7\", \"Topic7\", \"Topic7\", \"Topic7\", \"Topic7\", \"Topic7\", \"Topic7\", \"Topic7\", \"Topic7\", \"Topic7\", \"Topic7\", \"Topic7\", \"Topic7\", \"Topic7\", \"Topic7\", \"Topic7\", \"Topic7\", \"Topic7\", \"Topic7\", \"Topic7\", \"Topic7\", \"Topic7\", \"Topic7\", \"Topic7\", \"Topic7\", \"Topic7\", \"Topic7\", \"Topic7\", \"Topic7\", \"Topic7\", \"Topic7\", \"Topic7\", \"Topic7\", \"Topic7\", \"Topic7\", \"Topic7\", \"Topic7\", \"Topic7\", \"Topic7\", \"Topic7\", \"Topic7\", \"Topic7\", \"Topic7\", \"Topic7\", \"Topic7\", \"Topic7\", \"Topic7\", \"Topic7\", \"Topic7\", \"Topic7\", \"Topic7\", \"Topic7\", \"Topic7\", \"Topic7\", \"Topic7\", \"Topic7\", \"Topic8\", \"Topic8\", \"Topic8\", \"Topic8\", \"Topic8\", \"Topic8\", \"Topic8\", \"Topic8\", \"Topic8\", \"Topic8\", \"Topic8\", \"Topic8\", \"Topic8\", \"Topic8\", \"Topic8\", \"Topic8\", \"Topic8\", \"Topic8\", \"Topic8\", \"Topic8\", \"Topic8\", \"Topic8\", \"Topic8\", \"Topic8\", \"Topic8\", \"Topic8\", \"Topic8\", \"Topic8\", \"Topic8\", \"Topic8\", \"Topic8\", \"Topic8\", \"Topic8\", \"Topic8\", \"Topic8\", \"Topic8\", \"Topic8\", \"Topic8\", \"Topic8\", \"Topic8\", \"Topic8\", \"Topic8\", \"Topic8\", \"Topic8\", \"Topic8\", \"Topic8\", \"Topic8\", \"Topic8\", \"Topic8\", \"Topic8\", \"Topic8\", \"Topic8\", \"Topic8\", \"Topic8\", \"Topic8\", \"Topic8\", \"Topic8\", \"Topic8\", \"Topic8\", \"Topic8\", \"Topic9\", \"Topic9\", \"Topic9\", \"Topic9\", \"Topic9\", \"Topic9\", \"Topic9\", \"Topic9\", \"Topic9\", \"Topic9\", \"Topic9\", \"Topic9\", \"Topic9\", \"Topic9\", \"Topic9\", \"Topic9\", \"Topic9\", \"Topic9\", \"Topic9\", \"Topic9\", \"Topic9\", \"Topic9\", \"Topic9\", \"Topic9\", \"Topic9\", \"Topic9\", \"Topic9\", \"Topic9\", \"Topic9\", \"Topic9\", \"Topic9\", \"Topic9\", \"Topic9\", \"Topic9\", \"Topic9\", \"Topic9\", \"Topic9\", \"Topic9\", \"Topic9\", \"Topic9\", \"Topic9\", \"Topic9\", \"Topic9\", \"Topic9\", \"Topic9\", \"Topic9\", \"Topic9\", \"Topic9\", \"Topic9\", \"Topic9\", \"Topic9\", \"Topic9\", \"Topic10\", \"Topic10\", \"Topic10\", \"Topic10\", \"Topic10\", \"Topic10\", \"Topic10\", \"Topic10\", \"Topic10\", \"Topic10\", \"Topic10\", \"Topic10\", \"Topic10\", \"Topic10\", \"Topic10\", \"Topic10\", \"Topic10\", \"Topic10\", \"Topic10\", \"Topic10\", \"Topic10\", \"Topic10\", \"Topic10\", \"Topic10\", \"Topic10\", \"Topic10\", \"Topic10\", \"Topic10\", \"Topic10\", \"Topic10\", \"Topic10\", \"Topic10\", \"Topic10\", \"Topic10\", \"Topic10\", \"Topic10\", \"Topic10\", \"Topic10\", \"Topic10\", \"Topic10\", \"Topic10\", \"Topic10\", \"Topic10\", \"Topic10\", \"Topic10\", \"Topic10\", \"Topic10\", \"Topic10\", \"Topic10\", \"Topic10\", \"Topic10\", \"Topic10\", \"Topic10\", \"Topic10\", \"Topic10\", \"Topic10\", \"Topic10\", \"Topic10\", \"Topic10\", \"Topic10\", \"Topic10\", \"Topic10\", \"Topic10\", \"Topic10\", \"Topic10\", \"Topic10\", \"Topic10\", \"Topic10\", \"Topic10\", \"Topic10\", \"Topic10\", \"Topic10\", \"Topic10\", \"Topic10\", \"Topic10\", \"Topic10\", \"Topic10\", \"Topic10\", \"Topic10\", \"Topic10\", \"Topic10\", \"Topic10\", \"Topic10\", \"Topic10\", \"Topic10\", \"Topic10\", \"Topic10\", \"Topic10\", \"Topic10\", \"Topic10\", \"Topic10\", \"Topic10\", \"Topic10\", \"Topic10\", \"Topic10\", \"Topic10\", \"Topic10\", \"Topic10\", \"Topic10\", \"Topic10\", \"Topic10\", \"Topic10\", \"Topic10\", \"Topic10\", \"Topic10\", \"Topic10\", \"Topic10\", \"Topic10\", \"Topic10\", \"Topic10\", \"Topic10\", \"Topic10\", \"Topic10\", \"Topic10\", \"Topic10\", \"Topic10\", \"Topic11\", \"Topic11\", \"Topic11\", \"Topic11\", \"Topic11\", \"Topic11\", \"Topic11\", \"Topic11\", \"Topic11\", \"Topic11\", \"Topic11\", \"Topic11\", \"Topic11\", \"Topic11\", \"Topic11\", \"Topic11\", \"Topic11\", \"Topic11\", \"Topic11\", \"Topic11\", \"Topic11\", \"Topic11\", \"Topic11\", \"Topic11\", \"Topic11\", \"Topic11\", \"Topic11\", \"Topic11\", \"Topic11\", \"Topic11\", \"Topic11\", \"Topic11\", \"Topic11\", \"Topic11\", \"Topic11\", \"Topic11\", \"Topic11\", \"Topic11\", \"Topic11\", \"Topic11\", \"Topic11\", \"Topic11\", \"Topic11\", \"Topic11\", \"Topic11\", \"Topic11\", \"Topic11\", \"Topic11\", \"Topic11\", \"Topic11\", \"Topic11\", \"Topic11\", \"Topic11\", \"Topic11\", \"Topic11\", \"Topic11\", \"Topic11\", \"Topic11\", \"Topic11\", \"Topic11\", \"Topic11\", \"Topic11\", \"Topic11\", \"Topic11\", \"Topic11\", \"Topic11\", \"Topic11\", \"Topic11\", \"Topic11\", \"Topic11\", \"Topic11\", \"Topic11\", \"Topic11\", \"Topic11\", \"Topic11\", \"Topic11\", \"Topic11\", \"Topic11\", \"Topic11\", \"Topic11\", \"Topic11\", \"Topic11\", \"Topic11\", \"Topic11\", \"Topic11\", \"Topic11\", \"Topic11\", \"Topic11\", \"Topic11\", \"Topic11\", \"Topic11\", \"Topic11\", \"Topic11\", \"Topic11\", \"Topic11\", \"Topic11\", \"Topic11\", \"Topic11\", \"Topic11\", \"Topic11\", \"Topic11\", \"Topic11\", \"Topic11\", \"Topic11\", \"Topic11\", \"Topic11\", \"Topic11\", \"Topic11\", \"Topic11\", \"Topic11\", \"Topic11\", \"Topic11\", \"Topic11\", \"Topic11\", \"Topic11\", \"Topic12\", \"Topic12\", \"Topic12\", \"Topic12\", \"Topic12\", \"Topic12\", \"Topic12\", \"Topic12\", \"Topic12\", \"Topic12\", \"Topic12\", \"Topic12\", \"Topic12\", \"Topic12\", \"Topic12\", \"Topic12\", \"Topic12\", \"Topic12\", \"Topic12\", \"Topic12\", \"Topic12\", \"Topic12\", \"Topic12\", \"Topic12\", \"Topic12\", \"Topic12\", \"Topic12\", \"Topic12\", \"Topic12\", \"Topic12\", \"Topic12\", \"Topic12\", \"Topic12\", \"Topic12\", \"Topic12\", \"Topic12\", \"Topic12\", \"Topic12\", \"Topic12\", \"Topic12\", \"Topic12\", \"Topic12\", \"Topic12\", \"Topic12\", \"Topic12\", \"Topic12\", \"Topic12\", \"Topic12\", \"Topic12\", \"Topic12\", \"Topic12\", \"Topic12\", \"Topic12\", \"Topic12\", \"Topic12\", \"Topic12\", \"Topic12\", \"Topic12\", \"Topic12\", \"Topic12\", \"Topic12\", \"Topic12\", \"Topic12\", \"Topic12\", \"Topic12\", \"Topic12\", \"Topic12\", \"Topic12\", \"Topic12\", \"Topic12\", \"Topic12\", \"Topic12\", \"Topic12\", \"Topic12\", \"Topic12\", \"Topic12\", \"Topic12\", \"Topic12\", \"Topic12\", \"Topic12\", \"Topic12\", \"Topic12\", \"Topic12\", \"Topic12\", \"Topic12\", \"Topic12\", \"Topic12\", \"Topic12\", \"Topic12\", \"Topic12\", \"Topic12\", \"Topic12\", \"Topic12\", \"Topic12\", \"Topic12\", \"Topic12\", \"Topic12\", \"Topic12\", \"Topic12\", \"Topic12\", \"Topic12\", \"Topic12\", \"Topic12\", \"Topic12\", \"Topic12\", \"Topic12\", \"Topic12\", \"Topic12\", \"Topic12\", \"Topic12\", \"Topic12\", \"Topic12\", \"Topic12\", \"Topic12\", \"Topic12\", \"Topic12\", \"Topic12\", \"Topic13\", \"Topic13\", \"Topic13\", \"Topic13\", \"Topic13\", \"Topic13\", \"Topic13\", \"Topic13\", \"Topic13\", \"Topic13\", \"Topic13\", \"Topic13\", \"Topic13\", \"Topic13\", \"Topic13\", \"Topic13\", \"Topic13\", \"Topic13\", \"Topic13\", \"Topic13\", \"Topic13\", \"Topic13\", \"Topic13\", \"Topic13\", \"Topic13\", \"Topic13\", \"Topic13\", \"Topic13\", \"Topic13\", \"Topic13\", \"Topic13\", \"Topic13\", \"Topic13\", \"Topic13\", \"Topic13\", \"Topic13\", \"Topic13\", \"Topic13\", \"Topic13\", \"Topic13\", \"Topic13\", \"Topic13\", \"Topic13\", \"Topic13\", \"Topic13\", \"Topic13\", \"Topic13\", \"Topic13\", \"Topic13\", \"Topic13\", \"Topic13\", \"Topic13\", \"Topic13\", \"Topic13\", \"Topic13\", \"Topic13\", \"Topic13\", \"Topic13\", \"Topic13\", \"Topic13\", \"Topic13\", \"Topic13\", \"Topic13\", \"Topic13\", \"Topic13\", \"Topic13\", \"Topic13\", \"Topic13\", \"Topic13\", \"Topic13\", \"Topic13\", \"Topic13\", \"Topic13\", \"Topic13\", \"Topic13\", \"Topic13\", \"Topic13\", \"Topic13\", \"Topic13\", \"Topic13\", \"Topic13\", \"Topic13\", \"Topic13\", \"Topic13\", \"Topic13\", \"Topic13\", \"Topic13\", \"Topic13\", \"Topic13\", \"Topic13\", \"Topic13\", \"Topic13\", \"Topic13\", \"Topic13\", \"Topic13\", \"Topic13\", \"Topic13\", \"Topic13\", \"Topic13\", \"Topic13\", \"Topic13\", \"Topic13\", \"Topic13\", \"Topic13\", \"Topic13\", \"Topic13\", \"Topic13\", \"Topic13\", \"Topic13\", \"Topic13\", \"Topic13\", \"Topic13\", \"Topic13\", \"Topic13\", \"Topic13\", \"Topic13\", \"Topic13\", \"Topic14\", \"Topic14\", \"Topic14\", \"Topic14\", \"Topic14\", \"Topic14\", \"Topic14\", \"Topic14\", \"Topic14\", \"Topic14\", \"Topic14\", \"Topic14\", \"Topic14\", \"Topic14\", \"Topic14\", \"Topic14\", \"Topic14\", \"Topic14\", \"Topic14\", \"Topic14\", \"Topic14\", \"Topic14\", \"Topic14\", \"Topic14\", \"Topic14\", \"Topic14\", \"Topic14\", \"Topic14\", \"Topic14\", \"Topic14\", \"Topic14\", \"Topic14\", \"Topic14\", \"Topic14\", \"Topic14\", \"Topic14\", \"Topic14\", \"Topic14\", \"Topic14\", \"Topic14\", \"Topic14\", \"Topic14\", \"Topic14\", \"Topic14\", \"Topic14\", \"Topic14\", \"Topic14\", \"Topic14\", \"Topic14\", \"Topic14\", \"Topic14\", \"Topic14\", \"Topic14\", \"Topic14\", \"Topic14\", \"Topic14\", \"Topic14\", \"Topic14\", \"Topic14\", \"Topic14\", \"Topic14\", \"Topic14\", \"Topic14\", \"Topic14\", \"Topic14\", \"Topic14\", \"Topic14\", \"Topic14\", \"Topic14\", \"Topic14\", \"Topic14\", \"Topic14\", \"Topic14\", \"Topic14\", \"Topic14\", \"Topic14\", \"Topic14\", \"Topic14\", \"Topic14\", \"Topic14\", \"Topic14\", \"Topic14\", \"Topic14\", \"Topic14\", \"Topic14\", \"Topic14\", \"Topic14\", \"Topic14\", \"Topic14\", \"Topic14\", \"Topic14\", \"Topic14\", \"Topic14\", \"Topic14\", \"Topic14\", \"Topic14\", \"Topic14\", \"Topic14\", \"Topic14\", \"Topic14\", \"Topic14\", \"Topic14\", \"Topic14\", \"Topic14\", \"Topic14\", \"Topic14\", \"Topic14\", \"Topic14\", \"Topic14\", \"Topic14\", \"Topic14\", \"Topic14\", \"Topic14\", \"Topic14\", \"Topic14\", \"Topic14\", \"Topic14\", \"Topic15\", \"Topic15\", \"Topic15\", \"Topic15\", \"Topic15\", \"Topic15\", \"Topic15\", \"Topic15\", \"Topic15\", \"Topic15\", \"Topic15\", \"Topic15\", \"Topic15\", \"Topic15\", \"Topic15\", \"Topic15\", \"Topic15\", \"Topic15\", \"Topic15\", \"Topic15\", \"Topic15\", \"Topic15\", \"Topic15\", \"Topic15\", \"Topic15\", \"Topic15\", \"Topic15\", \"Topic15\", \"Topic15\", \"Topic15\", \"Topic15\", \"Topic15\", \"Topic15\", \"Topic15\", \"Topic15\", \"Topic15\", \"Topic15\", \"Topic15\", \"Topic15\", \"Topic15\", \"Topic15\", \"Topic15\", \"Topic15\", \"Topic15\", \"Topic15\", \"Topic15\", \"Topic15\", \"Topic15\", \"Topic15\", \"Topic15\", \"Topic15\", \"Topic15\", \"Topic15\", \"Topic15\", \"Topic15\", \"Topic15\", \"Topic15\", \"Topic15\", \"Topic15\", \"Topic15\", \"Topic15\", \"Topic15\", \"Topic15\", \"Topic15\", \"Topic15\", \"Topic15\", \"Topic15\", \"Topic15\", \"Topic15\", \"Topic15\", \"Topic15\", \"Topic15\", \"Topic15\", \"Topic15\", \"Topic15\", \"Topic15\", \"Topic15\", \"Topic15\", \"Topic15\", \"Topic15\", \"Topic15\", \"Topic15\", \"Topic15\", \"Topic15\", \"Topic15\", \"Topic15\", \"Topic15\", \"Topic15\", \"Topic15\", \"Topic15\", \"Topic15\", \"Topic15\", \"Topic15\", \"Topic15\", \"Topic15\", \"Topic15\", \"Topic15\", \"Topic15\", \"Topic15\", \"Topic15\", \"Topic15\", \"Topic15\", \"Topic15\", \"Topic15\", \"Topic15\", \"Topic15\", \"Topic15\", \"Topic15\", \"Topic15\", \"Topic15\", \"Topic15\", \"Topic15\", \"Topic15\", \"Topic15\", \"Topic15\", \"Topic15\", \"Topic15\", \"Topic16\", \"Topic16\", \"Topic16\", \"Topic16\", \"Topic16\", \"Topic16\", \"Topic16\", \"Topic16\", \"Topic16\", \"Topic16\", \"Topic16\", \"Topic16\", \"Topic16\", \"Topic16\", \"Topic16\", \"Topic16\", \"Topic16\", \"Topic16\", \"Topic16\", \"Topic16\", \"Topic16\", \"Topic16\", \"Topic16\", \"Topic16\", \"Topic16\", \"Topic16\", \"Topic16\", \"Topic16\", \"Topic16\", \"Topic16\", \"Topic16\", \"Topic16\", \"Topic16\", \"Topic16\", \"Topic16\", \"Topic16\", \"Topic16\", \"Topic16\", \"Topic16\", \"Topic16\", \"Topic16\", \"Topic16\", \"Topic16\", \"Topic16\", \"Topic16\", \"Topic16\", \"Topic16\", \"Topic16\", \"Topic16\", \"Topic16\", \"Topic16\", \"Topic16\", \"Topic16\", \"Topic16\", \"Topic16\", \"Topic16\", \"Topic16\", \"Topic16\", \"Topic16\", \"Topic16\", \"Topic16\", \"Topic16\", \"Topic16\", \"Topic16\", \"Topic16\", \"Topic16\", \"Topic16\", \"Topic16\", \"Topic16\", \"Topic16\", \"Topic16\", \"Topic16\", \"Topic16\", \"Topic16\", \"Topic16\", \"Topic16\", \"Topic16\", \"Topic16\", \"Topic16\", \"Topic16\", \"Topic16\", \"Topic16\", \"Topic16\", \"Topic16\", \"Topic16\", \"Topic16\", \"Topic16\", \"Topic16\", \"Topic16\", \"Topic16\", \"Topic16\", \"Topic16\", \"Topic16\", \"Topic16\", \"Topic16\", \"Topic16\", \"Topic16\", \"Topic16\", \"Topic16\", \"Topic16\", \"Topic16\", \"Topic16\", \"Topic16\", \"Topic16\", \"Topic16\", \"Topic16\", \"Topic16\", \"Topic16\", \"Topic16\", \"Topic16\", \"Topic16\", \"Topic16\", \"Topic16\", \"Topic16\", \"Topic16\", \"Topic16\", \"Topic16\", \"Topic17\", \"Topic17\", \"Topic17\", \"Topic17\", \"Topic17\", \"Topic17\", \"Topic17\", \"Topic17\", \"Topic17\", \"Topic17\", \"Topic17\", \"Topic17\", \"Topic17\", \"Topic17\", \"Topic17\", \"Topic17\", \"Topic17\", \"Topic17\", \"Topic17\", \"Topic17\", \"Topic17\", \"Topic17\", \"Topic17\", \"Topic17\", \"Topic17\", \"Topic17\", \"Topic17\", \"Topic17\", \"Topic17\", \"Topic17\", \"Topic17\", \"Topic17\", \"Topic17\", \"Topic17\", \"Topic17\", \"Topic17\", \"Topic17\", \"Topic17\", \"Topic17\", \"Topic17\", \"Topic17\", \"Topic17\", \"Topic17\", \"Topic17\", \"Topic17\", \"Topic17\", \"Topic17\", \"Topic17\", \"Topic17\", \"Topic17\", \"Topic17\", \"Topic17\", \"Topic17\", \"Topic17\", \"Topic17\", \"Topic17\", \"Topic17\", \"Topic17\", \"Topic17\", \"Topic17\", \"Topic17\", \"Topic17\", \"Topic17\", \"Topic17\", \"Topic17\", \"Topic17\", \"Topic17\", \"Topic17\", \"Topic17\", \"Topic17\", \"Topic17\", \"Topic17\", \"Topic17\", \"Topic17\", \"Topic17\", \"Topic17\", \"Topic17\", \"Topic17\", \"Topic17\", \"Topic17\", \"Topic17\", \"Topic17\", \"Topic17\", \"Topic17\", \"Topic17\", \"Topic17\", \"Topic17\", \"Topic17\", \"Topic17\", \"Topic17\", \"Topic17\", \"Topic17\", \"Topic17\", \"Topic17\", \"Topic17\", \"Topic17\", \"Topic17\", \"Topic17\", \"Topic17\", \"Topic17\", \"Topic17\", \"Topic17\", \"Topic17\", \"Topic17\", \"Topic17\", \"Topic17\", \"Topic17\", \"Topic17\", \"Topic17\", \"Topic17\", \"Topic17\", \"Topic17\", \"Topic17\", \"Topic17\", \"Topic17\", \"Topic17\", \"Topic17\", \"Topic17\"], \"logprob\": [30.0, 29.0, 28.0, 27.0, 26.0, 25.0, 24.0, 23.0, 22.0, 21.0, 20.0, 19.0, 18.0, 17.0, 16.0, 15.0, 14.0, 13.0, 12.0, 11.0, 10.0, 9.0, 8.0, 7.0, 6.0, 5.0, 4.0, 3.0, 2.0, 1.0, -5.1623, -5.8018, -5.9336, -6.0195, -4.9925, -6.186, -6.3677, -5.025, -7.0057, -7.0766, -7.1142, -7.4266, -6.1552, -7.7298, -5.6831, -5.908, -7.8829, -7.8826, -7.8824, -7.9689, -7.9689, -8.0635, -6.6346, -8.0633, -8.0629, -8.0629, -8.168, -8.1679, -8.1678, -6.76, -5.1255, -6.5627, -5.3264, -7.2779, -7.5945, -6.2083, -7.5948, -5.5311, -7.3703, -6.2188, -7.4221, -6.7535, -6.8044, -6.8958, -6.9918, -4.4272, -4.9365, -5.1671, -5.244, -5.3397, -5.4244, -5.7496, -6.3971, -5.8555, -5.8793, -5.9752, -6.0277, -6.1719, -6.2035, -6.2719, -6.3395, -4.3058, -5.4453, -5.6143, -6.1099, -6.1099, -6.0923, -6.0572, -6.5231, -6.6069, -6.9138, -6.9137, -6.8, -6.954, -6.1827, -7.1358, -6.9126, -6.9533, -6.9957, -7.1353, -7.0397, -7.0397, -6.3722, -7.1345, -7.1345, -7.1344, -7.1856, -7.2392, -7.2961, -7.4902, -7.6431, -6.5759, -6.6627, -6.467, -5.9063, -6.6017, -5.7154, -6.3091, -6.0832, -6.4017, -5.9493, -4.8841, -6.7157, -5.3678, -5.6013, -5.6859, -5.8031, -5.8505, -6.4486, -6.1599, -6.3016, -6.1729, -6.2642, -6.3322, -6.4306, -6.4353, -3.7229, -4.4299, -4.9618, -4.2541, -5.3853, -5.4039, -5.5672, -5.601, -5.9555, -6.0057, -6.4273, -4.664, -4.2466, -6.1122, -7.8583, -7.9748, -4.1731, -8.1074, -5.0821, -8.4397, -8.4378, -8.4377, -8.4371, -8.437, -8.4365, -8.6585, -8.6567, -8.6567, -8.6558, -8.9408, -4.9399, -7.6488, -7.1096, -6.4377, -4.1099, -4.6314, -7.2165, -4.8576, -4.9404, -5.0237, -5.129, -5.48, -5.546, -5.581, -5.6656, -5.7182, -5.8624, -5.8939, -5.9623, -6.0299, -5.6612, -5.9426, -5.987, -6.3683, -6.5106, -6.5106, -6.5497, -6.8225, -6.8225, -7.057, -7.2783, -7.3646, -7.3644, -7.3643, -7.5633, -7.5633, -6.6749, -5.089, -7.6793, -6.1305, -7.6791, -7.8113, -7.8108, -7.8108, -6.0554, -7.963, -7.9629, -7.9628, -7.9628, -7.9627, -5.9181, -7.0542, -6.4707, -7.1953, -6.4688, -6.2669, -6.5032, -7.274, -6.2349, -5.7321, -6.3873, -6.7623, -5.2047, -6.2509, -6.7588, -6.2026, -4.471, -6.4566, -4.9806, -5.218, -5.3122, -5.3899, -5.4746, -5.9833, -5.8166, -5.9019, -5.9264, -6.0206, -6.0732, -6.2166, -6.2477, -6.2869, -6.3185, -3.2187, -5.2406, -5.5571, -6.0969, -6.3921, -5.0694, -7.2695, -6.3565, -4.6977, -7.6708, -7.8033, -3.9338, -7.9556, -6.8636, -7.9552, -5.9721, -8.1351, -8.1348, -8.1347, -8.1345, -7.0443, -7.1855, -8.3541, -8.3541, -8.3541, -8.354, -8.354, -8.3538, -8.3538, -8.3538, -6.4225, -7.1842, -5.6423, -5.174, -5.2154, -7.6658, -6.1142, -4.3451, -7.3463, -5.1328, -5.0515, -6.4367, -6.124, -6.7888, -6.9643, -7.101, -6.9602, -6.4344, -6.8974, -6.3674, -6.6641, -6.3312, -6.7053, -6.8264, -6.7095, -6.7603, -6.7923, -6.808, -3.5019, -4.6156, -4.8415, -5.1042, -5.1438, -5.7673, -5.8661, -5.9993, -5.4202, -6.4395, -6.9599, -7.024, -7.1659, -7.1659, -7.3315, -6.4016, -7.4261, -7.4261, -7.4259, -7.5304, -7.5303, -7.5303, -6.5143, -7.6471, -7.647, -7.6469, -7.6469, -7.6468, -7.6468, -7.6467, -5.1798, -6.0929, -3.5596, -5.4218, -6.4737, -6.4668, -6.7273, -5.2893, -7.0196, -7.3271, -4.4362, -6.7661, -6.3089, -4.9624, -6.1648, -5.1832, -5.2772, -5.3426, -6.2376, -6.0362, -5.4955, -5.801, -5.8671, -5.9132, -5.9858, -6.0383, -6.1818, -6.2129, -4.3407, -5.5621, -5.9913, -6.607, -6.7602, -5.5114, -6.8771, -7.0829, -7.083, -7.1623, -5.6832, -6.5147, -7.5631, -7.563, -7.563, -7.6948, -7.8468, -7.8466, -7.8466, -7.8465, -7.8464, -7.8463, -7.8463, -8.0256, -8.0256, -8.0252, -5.8001, -7.2443, -8.2444, -8.2443, -7.3384, -7.3379, -6.068, -7.4418, -5.7192, -6.9333, -6.1786, -6.3531, -5.4188, -5.4629, -7.5577, -6.4897, -6.0112, -6.792, -6.3271, -7.2363, -7.1337, -6.6972, -6.8222, -6.7603, -6.4279, -6.9013, -6.644, -6.8758, -6.7496, -6.9317, -4.7581, -5.6613, -5.6803, -5.1663, -4.9687, -6.3709, -6.4506, -6.7935, -5.2373, -7.0597, -7.1392, -5.1421, -7.2255, -7.2255, -5.0354, -7.3199, -6.491, -7.6725, -7.6725, -7.6724, -7.6723, -7.6723, -7.6722, -7.8247, -7.8245, -7.8243, -7.8243, -7.8243, -5.914, -8.004, -4.3303, -6.9838, -6.9823, -6.2556, -6.6242, -6.6745, -6.6755, -6.3186, -5.6878, -6.7794, -4.3088, -6.6163, -5.5468, -4.3302, -5.2075, -4.8564, -5.0772, -6.229, -5.1713, -5.2367, -5.3753, -5.6951, -5.761, -5.8073, -5.8798, -5.9324, -6.0697, -6.0757, -6.107, -6.2089, -3.975, -3.9797, -4.1467, -5.4724, -5.8163, -5.846, -6.0099, -6.2057, -6.3448, -5.3915, -6.5668, -6.6996, -6.773, -6.773, -6.8528, -5.3713, -5.9066, -7.0334, -6.0443, -4.2132, -7.1379, -7.2546, -7.2545, -7.254, -7.3866, -7.3866, -7.3866, -7.3865, -7.3864, -7.3864, -6.5032, -6.5635, -5.3862, -6.6962, -4.5965, -6.339, -6.7693, -6.7689, -5.1871, -5.4405, -5.9241, -6.0138, -6.376, -6.0168, -5.9439, -5.9311, -6.1774, -5.9012, -6.2575, -6.4146, -6.2659, -6.4065, -10.7958, -10.8026, -10.8042, -10.8056, -10.8061, -10.8068, -10.807, -10.8071, -10.8068, -10.8079, -10.8076, -10.8095, -10.8093, -10.8087, -10.809, -10.8095, -10.8106, -10.8101, -10.8105, -10.8104, -10.8105, -10.8108, -10.8104, -10.8106, -10.8111, -10.8108, -10.9719, -10.8117, -10.8113, -10.8115, -10.8117, -9.2343, -9.2482, -8.9884, -9.2769, -8.7907, -9.4192, -9.0103, -9.4097, -9.0021, -9.4256, -8.9788, -9.1884, -9.406, -9.0249, -9.0205, -9.2003, -8.9739, -9.1869, -9.4348, -8.6327, -8.9645, -8.7261, -9.1957, -9.4183, -9.1941, -8.727, -9.1996, -9.2085, -9.2292, -9.2131, -8.8377, -9.2034, -8.5103, -8.8833, -8.8798, -8.8696, -8.8381, -8.7007, -8.9073, -8.7403, -8.6855, -8.2892, -8.547, -8.5686, -8.3349, -8.6048, -5.7443, -7.5202, -8.3274, -8.2595, -7.8335, -8.1847, -6.2141, -7.6925, -6.4063, -7.4802, -7.4372, -6.4877, -8.2901, -6.5631, -7.3177, -6.6507, -8.3662, -7.9924, -6.9209, -7.6919, -6.9878, -7.0302, -7.0863, -7.3335, -7.1382, -7.2631, -7.2899, -7.3832, -7.0896, -7.3931, -7.4442, -7.5043, -7.5493, -7.555, -7.5665, -7.6559, -7.5403, -7.6698, -7.6889, -10.7982, -10.8051, -10.8057, -10.8078, -10.8078, -10.8084, -10.8088, -10.8088, -10.8089, -10.8091, -10.8094, -10.8098, -10.81, -10.8105, -10.811, -10.8111, -10.8113, -10.8115, -10.8117, -10.8117, -10.8116, -10.8118, -10.8117, -10.8118, -10.8122, -10.8122, -10.8123, -10.8127, -10.8127, -10.8128, -9.2347, -9.2482, -8.9883, -9.2782, -8.7909, -9.0105, -9.4206, -9.4109, -9.0018, -9.426, -9.1889, -8.9795, -9.406, -9.0195, -9.0261, -9.201, -8.9749, -9.1872, -9.4364, -8.6331, -8.9642, -8.7263, -9.1956, -9.4195, -9.1953, -9.2006, -8.7272, -9.2101, -9.213, -9.2027, -8.8382, -9.1616, -8.5114, -8.8839, -8.8803, -8.8699, -8.8388, -8.702, -8.9072, -8.7404, -8.6857, -8.2888, -8.5479, -8.3362, -8.5697, -8.6049, -5.7437, -7.522, -8.328, -8.2605, -7.8331, -8.1859, -6.2138, -7.6921, -6.4061, -7.4342, -7.4795, -6.4869, -8.2899, -7.3097, -6.5616, -6.6505, -8.366, -7.9911, -6.9211, -7.6902, -6.9876, -7.0296, -7.0846, -7.3341, -7.1377, -7.2622, -7.2891, -7.3826, -7.0896, -7.3928, -7.4447, -7.5035, -7.5462, -7.5553, -7.5655, -7.6549, -7.541, -7.6703, -7.6874, -10.798, -10.8049, -10.8054, -10.8076, -10.8076, -10.8082, -10.8085, -10.8086, -10.8086, -10.8089, -10.8092, -10.8096, -10.8097, -10.8103, -10.8107, -10.8108, -10.8111, -10.8113, -10.8114, -10.8114, -10.8114, -10.8115, -10.8115, -10.8116, -10.812, -10.812, -10.8121, -10.973, -10.8124, -10.8124, -10.8125, -9.2343, -9.2476, -8.987, -9.2781, -8.7903, -9.0106, -9.4207, -9.4098, -9.0019, -9.1876, -9.4257, -8.9797, -9.4059, -9.0198, -9.0257, -9.2011, -9.1865, -8.9754, -9.4361, -8.6331, -8.9643, -9.1949, -8.7265, -9.4195, -9.1946, -9.2001, -8.7266, -9.2096, -9.213, -9.2021, -8.8383, -9.1612, -8.5114, -8.8843, -8.8797, -8.8702, -8.8388, -8.7016, -8.7405, -8.9077, -8.6853, -8.2889, -8.5476, -8.3359, -8.5695, -8.604, -5.7413, -7.5206, -8.3277, -8.2602, -7.8335, -8.1858, -6.213, -6.4047, -7.6944, -7.4331, -7.4809, -8.2889, -6.4855, -6.5611, -7.3166, -6.6485, -8.3662, -7.9917, -6.919, -7.6952, -6.9865, -7.0277, -7.3313, -7.0853, -7.1363, -8.2129, -7.261, -7.2878, -7.3815, -7.0918, -7.3917, -7.4413, -7.5029, -7.5537, -7.5529, -7.5633, -7.6545, -7.5428, -7.6685, -7.6867, -10.7972, -10.8042, -10.8046, -10.8068, -10.8069, -10.8074, -10.8077, -10.8079, -10.8079, -10.8081, -10.8084, -10.8088, -10.8089, -10.8095, -10.81, -10.81, -10.8103, -10.8104, -10.8106, -10.8106, -10.8106, -10.8108, -10.8108, -10.8109, -10.8113, -10.8113, -10.8114, -10.8116, -10.8117, -10.9724, -10.8118, -9.2339, -9.2477, -8.9879, -9.2774, -8.7901, -9.0103, -9.4199, -9.4098, -9.0016, -9.4251, -9.1879, -8.9793, -9.4059, -9.0195, -9.0253, -9.2004, -9.1867, -8.9749, -9.4353, -8.633, -8.9642, -9.1947, -8.7261, -9.4192, -9.1946, -8.7262, -9.1998, -9.2093, -9.2123, -9.2026, -9.2307, -8.8378, -9.1612, -8.5111, -8.884, -8.8794, -8.8701, -8.8388, -8.7011, -8.7399, -8.9072, -8.6848, -8.2884, -8.5469, -8.3358, -8.5691, -8.6049, -5.7454, -7.5225, -8.3268, -8.26, -7.8336, -8.1853, -6.2153, -7.6939, -6.4074, -7.4801, -7.4366, -6.4883, -8.2902, -6.5631, -7.3183, -6.6511, -8.3658, -7.992, -6.9212, -7.695, -6.9885, -7.0303, -7.3336, -7.0868, -7.1388, -7.2637, -7.2896, -7.3839, -7.0908, -7.3937, -7.445, -7.5041, -7.5529, -7.5551, -7.5665, -7.6562, -7.542, -7.6702, -7.6881, -10.7969, -10.8039, -10.8045, -10.8065, -10.8067, -10.8071, -10.8075, -10.8077, -10.8079, -10.8078, -10.8082, -10.8086, -10.8087, -10.8093, -10.8097, -10.8098, -10.81, -10.8102, -10.8104, -10.8104, -10.8105, -10.8105, -10.8105, -10.8106, -10.811, -10.8111, -10.8112, -10.8114, -10.8114, -10.8115, -9.2338, -9.2476, -8.9881, -9.2773, -8.7899, -9.0103, -9.42, -9.4098, -9.0017, -9.425, -9.1881, -8.9793, -9.4059, -9.0252, -9.0197, -9.2002, -9.1867, -8.9748, -9.4354, -8.633, -8.9641, -8.726, -9.1948, -9.4191, -9.1946, -8.7264, -9.1999, -9.2093, -9.2123, -9.2027, -9.2306, -8.8378, -9.1611, -8.5109, -8.884, -8.8794, -8.87, -8.8386, -8.7009, -8.7399, -8.9071, -8.6847, -8.2884, -8.5465, -8.3356, -8.5688, -8.605, -5.7453, -7.5223, -8.3268, -8.2603, -7.8333, -8.1854, -6.2164, -7.6939, -6.4075, -7.4796, -7.4369, -6.488, -8.2902, -6.5639, -7.3185, -6.6516, -8.3656, -7.9918, -6.9212, -7.6946, -6.9886, -7.0307, -7.3342, -7.0871, -7.1388, -7.2639, -8.2131, -7.2905, -7.3837, -7.0907, -7.3942, -7.4457, -7.5044, -7.5523, -7.5556, -7.5666, -7.6561, -7.5414, -7.6703, -7.6886, -10.7968, -10.8037, -10.8042, -10.8062, -10.8064, -10.8069, -10.8074, -10.8075, -10.8075, -10.8077, -10.8079, -10.8083, -10.8086, -10.809, -10.8096, -10.8096, -10.8098, -10.8101, -10.8102, -10.8102, -10.8103, -10.8103, -10.8104, -10.8107, -10.8105, -10.8108, -10.811, -10.8112, -10.8112, -10.8114, -9.2338, -9.2475, -8.9879, -9.2771, -8.79, -9.0101, -9.4198, -9.4099, -9.0015, -9.4249, -9.1881, -8.9791, -9.4058, -9.0194, -9.025, -9.2003, -9.1866, -8.9745, -9.4353, -8.6328, -8.9641, -8.7259, -9.1947, -9.4189, -9.1947, -8.7264, -9.1998, -9.2092, -9.2123, -9.2026, -9.2305, -8.8378, -9.1607, -8.5108, -8.8838, -8.8794, -8.87, -8.8385, -8.7009, -8.7396, -8.9071, -8.6848, -8.2882, -8.5468, -8.3355, -8.5689, -8.6047, -5.7458, -7.5223, -8.3268, -8.2602, -7.8337, -8.1852, -6.2165, -7.6936, -6.4084, -7.4797, -7.4359, -6.4891, -8.29, -6.5643, -7.3185, -6.6518, -8.3658, -7.9919, -6.9222, -7.6944, -6.9891, -7.0308, -7.3345, -7.0878, -7.1392, -7.2643, -8.2131, -7.2904, -7.3845, -7.0902, -7.3945, -7.4457, -7.5049, -7.5519, -7.5557, -7.5671, -7.6562, -7.5423, -7.671, -7.6888, -10.7963, -10.8037, -10.8035, -10.8059, -10.806, -10.8069, -10.8068, -10.807, -10.807, -10.8072, -10.8076, -10.808, -10.808, -10.8086, -10.8091, -10.8092, -10.8094, -10.8096, -10.8098, -10.8099, -10.8098, -10.8099, -10.81, -10.81, -10.8103, -10.8103, -10.8105, -10.8108, -10.8109, -10.8109, -9.2337, -9.2475, -8.9878, -9.2771, -8.79, -9.0099, -9.4198, -9.4097, -9.0014, -9.4249, -9.1879, -8.9791, -9.4057, -9.0194, -9.0251, -9.2002, -9.1865, -8.9745, -9.4352, -8.6328, -8.964, -8.7259, -9.1948, -9.4189, -9.1945, -8.7264, -9.1995, -9.2091, -9.2122, -9.2024, -9.2304, -8.8377, -9.161, -8.5107, -8.8839, -8.8793, -8.87, -8.8384, -8.701, -8.7395, -8.9068, -8.6848, -8.2885, -8.5467, -8.3355, -8.5689, -8.6048, -5.7467, -7.5219, -8.3265, -8.26, -7.8338, -8.185, -6.2173, -7.6937, -6.4091, -7.4804, -7.4367, -6.4897, -8.2901, -6.565, -7.3186, -6.6526, -8.3657, -7.9918, -6.9228, -7.6942, -6.9899, -7.0316, -7.335, -7.0884, -7.1399, -7.2648, -8.2133, -7.291, -7.385, -7.0911, -7.395, -7.4462, -7.5056, -7.5522, -7.5564, -7.5675, -7.6568, -7.542, -7.6714, -7.6895, -10.7971, -10.804, -10.8045, -10.8067, -10.8067, -10.8073, -10.8076, -10.8077, -10.8077, -10.808, -10.8083, -10.8086, -10.8088, -10.8094, -10.8098, -10.8099, -10.8101, -10.8104, -10.8105, -10.8105, -10.8105, -10.8106, -10.8106, -10.8107, -10.8111, -10.8111, -10.8112, -10.9721, -10.8115, -10.8115, -10.8116, -9.2337, -9.2476, -8.9879, -9.2771, -8.79, -9.0102, -9.4199, -9.4098, -9.0015, -9.425, -9.188, -8.9791, -9.4057, -9.0249, -9.0195, -9.2002, -9.1866, -8.9747, -9.4352, -8.6328, -8.964, -8.7258, -9.1947, -9.4189, -9.1944, -8.7263, -9.1997, -9.2091, -9.2123, -9.2025, -9.2303, -8.8377, -9.161, -8.5107, -8.8838, -8.8794, -8.8699, -8.8385, -8.7008, -8.7397, -8.9071, -8.6847, -8.2885, -8.5466, -8.3354, -8.5688, -8.6048, -5.746, -7.5222, -8.3269, -8.2602, -7.8337, -8.1854, -6.2168, -7.6939, -6.4086, -7.4801, -7.4365, -6.4891, -8.2901, -6.5646, -7.3187, -6.6521, -8.3659, -7.9918, -6.9224, -7.6948, -6.9894, -7.0312, -7.3345, -7.0879, -7.1394, -7.2644, -8.2133, -7.2905, -7.3846, -7.0908, -7.3945, -7.4457, -7.5051, -7.5528, -7.556, -7.567, -7.6564, -7.5415, -7.671, -7.689], \"loglift\": [30.0, 29.0, 28.0, 27.0, 26.0, 25.0, 24.0, 23.0, 22.0, 21.0, 20.0, 19.0, 18.0, 17.0, 16.0, 15.0, 14.0, 13.0, 12.0, 11.0, 10.0, 9.0, 8.0, 7.0, 6.0, 5.0, 4.0, 3.0, 2.0, 1.0, 1.5734, 1.5686, 1.5668, 1.5658, 1.5639, 1.5627, 1.5585, 1.5576, 1.5452, 1.5418, 1.5411, 1.5329, 1.5295, 1.5186, 1.518, 1.5168, 1.5121, 1.5099, 1.5086, 1.5055, 1.505, 1.5003, 1.5002, 1.4993, 1.4977, 1.497, 1.4958, 1.4953, 1.4943, 1.4935, 1.4312, 1.4332, 1.3662, 1.4491, 1.4594, 1.3207, 1.4558, 1.2298, 1.4187, 1.1993, 1.4201, 1.2203, 1.225, 1.2286, 1.2577, 0.2379, 0.2412, 0.2381, 0.2465, 0.2367, 0.2508, 0.2527, 0.8043, 0.2304, 0.2444, 0.2354, 0.2294, 0.2285, 0.2319, 0.2748, 0.2259, 1.8639, 1.856, 1.8524, 1.8473, 1.8472, 1.8471, 1.8438, 1.8389, 1.8326, 1.8286, 1.8283, 1.8258, 1.8251, 1.8217, 1.8213, 1.8211, 1.8199, 1.8193, 1.818, 1.8164, 1.8155, 1.8143, 1.8126, 1.8126, 1.8116, 1.8112, 1.8085, 1.8064, 1.8064, 1.7974, 1.7967, 1.6942, 1.6446, 1.3862, 1.5793, 1.0737, 1.3214, 1.1645, 1.2438, 0.7987, -0.219, 1.456, -0.1901, -0.196, -0.1954, -0.2268, -0.1753, 0.8188, -0.1576, 0.2525, -0.1868, -0.1782, -0.2085, -0.22, -0.1782, 1.9493, 1.9481, 1.9444, 1.9435, 1.9402, 1.9399, 1.9392, 1.9387, 1.9328, 1.9314, 1.9226, 1.9149, 1.8931, 1.8662, 1.8585, 1.8505, 1.8473, 1.8457, 1.842, 1.8191, 1.8059, 1.8051, 1.8021, 1.8017, 1.7989, 1.7922, 1.7803, 1.78, 1.7759, 1.7606, 1.7471, 1.6763, 1.6026, 1.3985, 0.5552, 0.5463, 1.3841, 0.5476, 0.5501, 0.5527, 0.5462, 0.5223, 0.54, 0.5427, 0.545, 0.5389, 0.538, 0.5414, 0.5844, 0.5356, 2.2991, 2.2923, 2.2921, 2.279, 2.2731, 2.2729, 2.2725, 2.2601, 2.2596, 2.2462, 2.2324, 2.2273, 2.2261, 2.2251, 2.2138, 2.2138, 2.2077, 2.2025, 2.2012, 2.2001, 2.1998, 2.1904, 2.1868, 2.1865, 2.179, 2.1737, 2.1729, 2.1727, 2.1722, 2.1716, 2.1553, 2.1628, 2.1504, 2.1468, 2.11, 2.0751, 2.0891, 2.1334, 1.9591, 1.8642, 1.9622, 2.0359, 1.5814, 1.6903, 1.9374, 1.6542, 0.1941, 1.5605, 0.1971, 0.1872, 0.1784, 0.1865, 0.2006, 0.5708, 0.1857, 0.184, 0.1973, 0.19, 0.1839, 0.1838, 0.1876, 0.2599, -0.3323, 2.3435, 2.3305, 2.3259, 2.3158, 2.3076, 2.2849, 2.269, 2.2644, 2.259, 2.2387, 2.2316, 2.2297, 2.2192, 2.2185, 2.2156, 2.2021, 2.1991, 2.1974, 2.1967, 2.1951, 2.1896, 2.1745, 2.1715, 2.1715, 2.1715, 2.1711, 2.171, 2.1696, 2.1691, 2.1689, 2.0642, 2.1043, 1.9614, 1.8233, 1.7885, 2.0879, 1.8895, 1.641, 2.0433, 1.6533, 1.5026, 1.804, 1.5252, 1.7287, 1.767, 1.8213, 1.6965, 1.2534, 1.6287, 0.9251, 1.125, 0.4168, 1.0589, 1.3593, 1.0048, 1.1222, 0.2578, 0.673, 2.3708, 2.3673, 2.365, 2.3623, 2.3616, 2.351, 2.3498, 2.3466, 2.3388, 2.3343, 2.3112, 2.3085, 2.2998, 2.2995, 2.2891, 2.2859, 2.2837, 2.2837, 2.2825, 2.2757, 2.2752, 2.2749, 2.2742, 2.2681, 2.2679, 2.2667, 2.2667, 2.2663, 2.2658, 2.2656, 2.1522, 2.1785, 2.0098, 2.013, 2.0851, 2.074, 2.0817, 1.6619, 2.111, 2.1935, 0.2289, 1.7563, 1.3789, 0.2153, 1.1833, 0.2221, 0.2133, 0.2337, 1.2435, 0.9452, 0.1797, 0.2013, 0.2189, 0.2105, 0.2248, 0.2187, 0.2186, 0.2224, 2.4732, 2.4524, 2.4403, 2.4145, 2.4064, 2.406, 2.4001, 2.3866, 2.3865, 2.3811, 2.3699, 2.3636, 2.3473, 2.3465, 2.3459, 2.3337, 2.3188, 2.3178, 2.3177, 2.3172, 2.3163, 2.3157, 2.3156, 2.2951, 2.2947, 2.2923, 2.2709, 2.2676, 2.2659, 2.2653, 2.2522, 2.2367, 2.1694, 2.2312, 2.0186, 2.1664, 2.056, 1.9995, 1.585, 1.5344, 2.1937, 1.6302, 1.2455, 1.6965, 0.9402, 1.9295, 1.7812, 1.0578, 1.2087, 1.0717, 0.3612, 1.2195, 0.5658, 1.0631, -0.1955, 0.9807, 2.5094, 2.4951, 2.4946, 2.4869, 2.481, 2.4745, 2.472, 2.4558, 2.4542, 2.4393, 2.4356, 2.4312, 2.4302, 2.4297, 2.4281, 2.4234, 2.4084, 2.3928, 2.3924, 2.3918, 2.3916, 2.3915, 2.3904, 2.3787, 2.3769, 2.3756, 2.375, 2.375, 2.3683, 2.3568, 2.3333, 2.3512, 2.3504, 2.2612, 2.2404, 2.2048, 2.1741, 2.0385, 1.8301, 2.1081, 1.2606, 2.0062, 1.4345, 0.3349, 0.7786, 0.3213, 0.328, 1.5285, 0.3192, 0.3397, 0.2999, 0.3072, 0.3249, 0.3164, 0.3308, 0.3247, 0.7195, 0.3246, 0.3284, 0.3379, 2.9554, 2.955, 2.9446, 2.9347, 2.9258, 2.9244, 2.9202, 2.9112, 2.905, 2.904, 2.8949, 2.8877, 2.8813, 2.8813, 2.879, 2.8692, 2.8641, 2.8636, 2.8598, 2.8557, 2.8555, 2.8461, 2.8446, 2.8397, 2.8328, 2.8322, 2.8321, 2.8315, 2.8303, 2.8302, 2.7975, 2.7911, 2.727, 2.7819, 2.5744, 2.7376, 2.7565, 2.7531, 2.3914, 2.3267, 2.399, 2.0745, 2.3774, 1.9373, 1.4447, 1.2786, 1.6999, 0.888, 1.7686, 2.1265, 0.6854, 1.8846, 0.7299, 0.7265, 0.7247, 0.7246, 0.7241, 0.7238, 0.7237, 0.7236, 0.7236, 0.723, 0.723, 0.7224, 0.7223, 0.7223, 0.7221, 0.7218, 0.7216, 0.7215, 0.7214, 0.7214, 0.7214, 0.7213, 0.7213, 0.7213, 0.7212, 0.7212, 0.7211, 0.721, 0.7209, 0.7209, 0.7207, 0.4975, 0.4643, 0.4083, 0.4535, 0.3531, 0.4689, 0.3906, 0.4646, 0.3847, 0.4644, 0.379, 0.4188, 0.4582, 0.3846, 0.3824, 0.4129, 0.3602, 0.4027, 0.4532, 0.2867, 0.3531, 0.3038, 0.3989, 0.4434, 0.3948, 0.2948, 0.3943, 0.3961, 0.3972, 0.3928, 0.2961, 0.3891, 0.1875, 0.2975, 0.2919, 0.2865, 0.2737, 0.2274, 0.2941, 0.2351, 0.215, 0.0675, 0.1619, 0.1625, 0.0684, 0.1719, -1.0792, -0.3105, 0.0423, 0.0098, -0.2063, -0.0413, -1.0364, -0.3039, -1.0011, -0.4301, -0.4559, -0.9972, -0.0101, -0.9868, -0.5697, -0.9755, 0.0196, -0.2147, -0.9187, -0.4246, -0.9019, -0.9065, -0.8757, -0.6968, -0.8812, -0.8628, -0.8545, -0.8177, -1.1035, -0.8463, -0.8033, -0.7874, -0.7602, -0.7775, -0.7717, -0.7532, -0.9861, -0.77, -0.7284, 0.7276, 0.7238, 0.7235, 0.7224, 0.7223, 0.722, 0.7218, 0.7218, 0.7217, 0.7216, 0.7215, 0.7212, 0.7212, 0.7208, 0.7206, 0.7205, 0.7205, 0.7203, 0.7202, 0.7202, 0.7202, 0.7202, 0.7202, 0.7201, 0.72, 0.7199, 0.7199, 0.7197, 0.7196, 0.7196, 0.4971, 0.4644, 0.4083, 0.4521, 0.3528, 0.3903, 0.4676, 0.4635, 0.3849, 0.4639, 0.4183, 0.3782, 0.4582, 0.3833, 0.3835, 0.4122, 0.3591, 0.4025, 0.4516, 0.2863, 0.3534, 0.3037, 0.3989, 0.4423, 0.3936, 0.3934, 0.2946, 0.3945, 0.3929, 0.3898, 0.2955, 0.3763, 0.1864, 0.297, 0.2914, 0.2862, 0.273, 0.2261, 0.2941, 0.235, 0.2148, 0.068, 0.1609, 0.0672, 0.1614, 0.1719, -1.0787, -0.3122, 0.0417, 0.0087, -0.2059, -0.0425, -1.0361, -0.3035, -1.0009, -0.4529, -0.4295, -0.9964, -0.0099, -0.5617, -0.9852, -0.9753, 0.0198, -0.2134, -0.9188, -0.4229, -0.9017, -0.9059, -0.874, -0.6974, -0.8806, -0.8618, -0.8537, -0.8171, -1.1035, -0.8461, -0.8039, -0.7867, -0.7571, -0.7777, -0.7708, -0.7523, -0.9869, -0.7705, -0.7269, 0.7278, 0.724, 0.7238, 0.7226, 0.7226, 0.7222, 0.7221, 0.722, 0.722, 0.7219, 0.7217, 0.7215, 0.7214, 0.7211, 0.7209, 0.7208, 0.7207, 0.7205, 0.7205, 0.7205, 0.7205, 0.7204, 0.7204, 0.7204, 0.7202, 0.7202, 0.7201, 0.72, 0.72, 0.7199, 0.7199, 0.4975, 0.4649, 0.4097, 0.4523, 0.3535, 0.3903, 0.4675, 0.4646, 0.3849, 0.4196, 0.4642, 0.378, 0.4583, 0.383, 0.3838, 0.4121, 0.4031, 0.3586, 0.4519, 0.2863, 0.3533, 0.3996, 0.3034, 0.4423, 0.3943, 0.3938, 0.2952, 0.3949, 0.3929, 0.3904, 0.2954, 0.3766, 0.1864, 0.2965, 0.292, 0.2859, 0.273, 0.2265, 0.2349, 0.2936, 0.2152, 0.0678, 0.1613, 0.0674, 0.1616, 0.1727, -1.0762, -0.3108, 0.0421, 0.0091, -0.2063, -0.0424, -1.0353, -0.9995, -0.3058, -0.4518, -0.4309, -0.0089, -0.995, -0.9847, -0.5686, -0.9733, 0.0196, -0.2141, -0.9167, -0.4278, -0.9006, -0.904, -0.6946, -0.8747, -0.8792, -0.0997, -0.8606, -0.8524, -0.816, -1.1057, -0.845, -0.8004, -0.786, -0.7646, -0.7754, -0.7686, -0.7519, -0.9887, -0.7687, -0.7262, 0.7285, 0.7247, 0.7245, 0.7233, 0.7233, 0.723, 0.7229, 0.7228, 0.7227, 0.7226, 0.7224, 0.7223, 0.7222, 0.7219, 0.7216, 0.7216, 0.7214, 0.7214, 0.7213, 0.7213, 0.7213, 0.7212, 0.7212, 0.7211, 0.7209, 0.7209, 0.7208, 0.7207, 0.7207, 0.7207, 0.7206, 0.4979, 0.4649, 0.4087, 0.453, 0.3537, 0.3906, 0.4682, 0.4645, 0.3851, 0.4649, 0.4193, 0.3784, 0.4584, 0.3834, 0.3842, 0.4128, 0.403, 0.3591, 0.4527, 0.2864, 0.3534, 0.3998, 0.3038, 0.4425, 0.3943, 0.2956, 0.3941, 0.3953, 0.3935, 0.3899, 0.3957, 0.296, 0.3767, 0.1867, 0.2968, 0.2922, 0.286, 0.273, 0.2269, 0.2355, 0.2942, 0.2157, 0.0683, 0.1619, 0.0676, 0.162, 0.1718, -1.0803, -0.3128, 0.0429, 0.0093, -0.2064, -0.0419, -1.0376, -0.3054, -1.0022, -0.43, -0.4553, -0.9978, -0.0102, -0.9867, -0.5703, -0.9759, 0.02, -0.2144, -0.919, -0.4276, -0.9025, -0.9066, -0.6968, -0.8762, -0.8817, -0.8634, -0.8542, -0.8185, -1.1047, -0.847, -0.8041, -0.7873, -0.7638, -0.7776, -0.7718, -0.7536, -0.9879, -0.7704, -0.7276, 0.7288, 0.725, 0.7247, 0.7236, 0.7235, 0.7233, 0.723, 0.723, 0.7229, 0.7228, 0.7227, 0.7225, 0.7224, 0.7221, 0.7219, 0.7218, 0.7217, 0.7216, 0.7215, 0.7215, 0.7215, 0.7214, 0.7214, 0.7214, 0.7212, 0.7211, 0.721, 0.721, 0.721, 0.7209, 0.4979, 0.4649, 0.4086, 0.453, 0.3538, 0.3906, 0.4681, 0.4645, 0.385, 0.4649, 0.4191, 0.3784, 0.4584, 0.3844, 0.3832, 0.413, 0.403, 0.3592, 0.4526, 0.2864, 0.3535, 0.304, 0.3997, 0.4426, 0.3944, 0.2955, 0.3941, 0.3953, 0.3935, 0.3898, 0.3958, 0.296, 0.3768, 0.1869, 0.2968, 0.2922, 0.286, 0.2732, 0.2272, 0.2356, 0.2942, 0.2158, 0.0683, 0.1623, 0.0677, 0.1623, 0.1717, -1.0803, -0.3125, 0.043, 0.009, -0.2061, -0.042, -1.0387, -0.3053, -1.0023, -0.4296, -0.4555, -0.9975, -0.0102, -0.9875, -0.5705, -0.9764, 0.0201, -0.2141, -0.9189, -0.4273, -0.9026, -0.907, -0.6974, -0.8765, -0.8818, -0.8636, -0.0999, -0.8551, -0.8182, -1.1046, -0.8474, -0.8048, -0.7876, -0.7631, -0.7781, -0.7719, -0.7535, -0.9873, -0.7705, -0.7281, 0.7289, 0.7252, 0.725, 0.7239, 0.7238, 0.7235, 0.7232, 0.7232, 0.7231, 0.7231, 0.7229, 0.7227, 0.7225, 0.7223, 0.722, 0.722, 0.7219, 0.7217, 0.7217, 0.7216, 0.7216, 0.7216, 0.7216, 0.7215, 0.7215, 0.7214, 0.7212, 0.7212, 0.7211, 0.721, 0.498, 0.4651, 0.4087, 0.4533, 0.3538, 0.3907, 0.4683, 0.4645, 0.3852, 0.4651, 0.4191, 0.3786, 0.4585, 0.3834, 0.3845, 0.4129, 0.403, 0.3595, 0.4527, 0.2866, 0.3535, 0.304, 0.3998, 0.4429, 0.3943, 0.2955, 0.3942, 0.3954, 0.3936, 0.3899, 0.3959, 0.296, 0.3772, 0.1869, 0.2971, 0.2923, 0.2861, 0.2733, 0.2272, 0.2358, 0.2943, 0.2157, 0.0686, 0.1621, 0.0679, 0.1622, 0.172, -1.0807, -0.3125, 0.043, 0.0091, -0.2065, -0.0418, -1.0388, -0.305, -1.0032, -0.4297, -0.4546, -0.9986, -0.0101, -0.9879, -0.5705, -0.9766, 0.02, -0.2142, -0.9199, -0.4271, -0.9032, -0.9071, -0.6977, -0.8772, -0.8822, -0.864, -0.0999, -0.8551, -0.819, -1.1041, -0.8477, -0.8048, -0.788, -0.7628, -0.7782, -0.7723, -0.7536, -0.9882, -0.7712, -0.7283, 0.7294, 0.7255, 0.7254, 0.7243, 0.7242, 0.7237, 0.7236, 0.7236, 0.7236, 0.7236, 0.7233, 0.7232, 0.723, 0.7227, 0.7225, 0.7224, 0.7224, 0.7222, 0.7221, 0.7221, 0.722, 0.722, 0.722, 0.7219, 0.7218, 0.7218, 0.7217, 0.7216, 0.7214, 0.7214, 0.498, 0.4651, 0.4088, 0.4533, 0.3537, 0.391, 0.4684, 0.4646, 0.3853, 0.465, 0.4192, 0.3786, 0.4585, 0.3834, 0.3845, 0.413, 0.4032, 0.3596, 0.4528, 0.2866, 0.3536, 0.304, 0.3997, 0.4429, 0.3945, 0.2955, 0.3945, 0.3955, 0.3936, 0.3901, 0.396, 0.2961, 0.3769, 0.187, 0.297, 0.2924, 0.2861, 0.2734, 0.2271, 0.2359, 0.2945, 0.2157, 0.0682, 0.1621, 0.0678, 0.1622, 0.1719, -1.0816, -0.3121, 0.0432, 0.0093, -0.2066, -0.0416, -1.0396, -0.3051, -1.0038, -0.4304, -0.4554, -0.9991, -0.0101, -0.9887, -0.5706, -0.9774, 0.0201, -0.2142, -0.9205, -0.4268, -0.9039, -0.9079, -0.6982, -0.8777, -0.8828, -0.8644, -0.1001, -0.8557, -0.8196, -1.105, -0.8482, -0.8053, -0.7887, -0.7631, -0.7789, -0.7727, -0.7542, -0.9879, -0.7716, -0.729, 0.7287, 0.7249, 0.7247, 0.7235, 0.7235, 0.7231, 0.723, 0.7229, 0.7229, 0.7228, 0.7226, 0.7224, 0.7223, 0.722, 0.7218, 0.7217, 0.7216, 0.7214, 0.7214, 0.7214, 0.7214, 0.7213, 0.7213, 0.7213, 0.7211, 0.7211, 0.721, 0.7209, 0.7209, 0.7209, 0.7208, 0.498, 0.465, 0.4088, 0.4532, 0.3538, 0.3907, 0.4683, 0.4646, 0.3852, 0.4649, 0.4192, 0.3786, 0.4586, 0.3846, 0.3834, 0.413, 0.403, 0.3594, 0.4528, 0.2866, 0.3536, 0.3041, 0.3998, 0.4428, 0.3946, 0.2955, 0.3943, 0.3955, 0.3935, 0.3901, 0.396, 0.296, 0.3769, 0.187, 0.2971, 0.2922, 0.2862, 0.2733, 0.2273, 0.2357, 0.2943, 0.2158, 0.0683, 0.1622, 0.0679, 0.1623, 0.172, -1.0809, -0.3125, 0.0429, 0.0091, -0.2065, -0.042, -1.0391, -0.3053, -1.0034, -0.43, -0.4552, -0.9985, -0.0101, -0.9882, -0.5707, -0.9768, 0.0199, -0.2142, -0.9201, -0.4274, -0.9035, -0.9075, -0.6978, -0.8773, -0.8823, -0.864, -0.1001, -0.8552, -0.8191, -1.1047, -0.8478, -0.8049, -0.7882, -0.7636, -0.7784, -0.7722, -0.7538, -0.9873, -0.7712, -0.7286]}, \"token.table\": {\"Topic\": [7, 1, 2, 3, 4, 5, 6, 7, 8, 9, 1, 2, 3, 4, 5, 6, 7, 8, 9, 5, 9, 8, 9, 1, 2, 3, 4, 5, 6, 7, 8, 9, 3, 3, 2, 1, 2, 3, 4, 5, 6, 7, 8, 9, 1, 2, 3, 4, 5, 6, 7, 8, 9, 5, 9, 2, 5, 4, 4, 8, 7, 2, 3, 4, 7, 6, 4, 5, 7, 1, 2, 3, 4, 5, 6, 7, 8, 9, 5, 7, 6, 4, 3, 4, 5, 3, 2, 3, 5, 7, 8, 9, 1, 2, 3, 4, 5, 6, 7, 8, 9, 2, 7, 9, 1, 6, 5, 4, 7, 1, 2, 5, 7, 8, 9, 3, 1, 2, 3, 4, 5, 6, 7, 8, 9, 1, 9, 9, 1, 2, 3, 4, 5, 6, 7, 8, 9, 1, 2, 3, 4, 5, 6, 7, 8, 9, 9, 7, 1, 2, 3, 4, 5, 6, 7, 8, 9, 7, 3, 6, 8, 1, 9, 1, 5, 9, 1, 2, 3, 4, 5, 6, 7, 8, 9, 2, 3, 4, 5, 6, 7, 9, 1, 9, 4, 1, 2, 8, 9, 5, 7, 1, 2, 3, 4, 5, 6, 7, 8, 9, 1, 2, 3, 4, 5, 6, 7, 8, 9, 1, 7, 1, 2, 3, 4, 5, 6, 7, 8, 9, 5, 7, 1, 2, 3, 4, 5, 6, 8, 4, 8, 2, 2, 7, 7, 1, 2, 3, 4, 5, 6, 7, 8, 9, 1, 2, 3, 4, 5, 6, 7, 8, 9, 7, 5, 1, 9, 2, 4, 5, 7, 1, 2, 3, 4, 5, 6, 7, 8, 9, 6, 7, 8, 2, 4, 5, 7, 7, 2, 4, 5, 7, 1, 2, 4, 5, 7, 8, 9, 1, 2, 3, 4, 5, 6, 7, 8, 9, 1, 1, 2, 8, 8, 2, 5, 7, 9, 2, 7, 1, 5, 1, 2, 3, 4, 5, 6, 7, 8, 9, 6, 2, 8, 5, 9, 1, 3, 7, 8, 4, 5, 6, 1, 2, 3, 4, 5, 6, 7, 8, 9, 2, 5, 6, 8, 9, 1, 8, 1, 2, 4, 8, 9, 1, 2, 3, 4, 6, 7, 8, 1, 5, 9, 9, 9, 9, 4, 6, 8, 3, 1, 2, 3, 4, 5, 6, 7, 8, 9, 4, 9, 4, 7, 1, 2, 3, 4, 5, 6, 7, 8, 9, 7, 1, 2, 4, 6, 8, 4, 5, 4, 4, 1, 2, 3, 5, 6, 7, 8, 9, 7, 6, 1, 1, 5, 1, 1, 8, 1, 2, 3, 4, 5, 6, 7, 8, 9, 3, 6, 8, 1, 2, 3, 4, 5, 6, 7, 8, 9, 7, 1, 2, 3, 4, 5, 6, 7, 8, 9, 7, 1, 2, 3, 4, 5, 7, 1, 1, 2, 3, 4, 5, 6, 7, 8, 9, 1, 2, 3, 4, 5, 6, 7, 8, 7, 7, 7, 1, 2, 3, 4, 5, 6, 7, 8, 9, 1, 2, 3, 4, 5, 6, 7, 8, 9, 1, 6, 8, 8, 1, 2, 3, 4, 5, 6, 7, 8, 9, 2, 1, 3, 4, 5, 6, 7, 8, 7, 2, 3, 4, 5, 7, 8, 9, 1, 2, 7, 1, 2, 3, 4, 5, 6, 8, 1, 2, 3, 4, 5, 6, 7, 8, 9, 4, 2, 4, 5, 7, 6, 1, 2, 3, 4, 5, 6, 7, 8, 9, 7, 1, 2, 3, 4, 5, 6, 7, 9, 1, 2, 3, 4, 5, 6, 7, 8, 9, 1, 2, 3, 4, 5, 6, 7, 2, 3, 4, 6, 7, 8, 9, 1, 2, 3, 4, 5, 6, 7, 8, 9, 1, 2, 3, 4, 5, 6, 7, 8, 9, 1, 2, 3, 4, 5, 6, 7, 8, 9, 1, 2, 3, 4, 5, 6, 7, 8, 9, 7, 1, 2, 3, 4, 5, 6, 6, 6, 3, 4, 7, 7, 1, 2, 3, 4, 5, 6, 7, 9, 6, 7, 1, 2, 3, 4, 5, 6, 7, 1, 2, 3, 4, 5, 6, 7, 8, 9, 1, 3, 7, 7, 5, 1, 8, 3, 3, 1, 3, 4, 5, 6, 7, 9, 3, 2, 1, 2, 3, 4, 5, 6, 7, 8, 9, 7, 1, 2, 3, 4, 5, 6, 7, 8, 9, 7, 1, 6, 3, 7, 3, 9, 1, 2, 3, 4, 5, 6, 7, 1, 2, 3, 4, 7, 7, 4, 1, 2, 3, 4, 5, 6, 7, 8, 9, 1, 2, 3, 4, 5, 6, 7, 8, 9, 9, 1, 2, 3, 4, 5, 6, 7, 8, 2, 7, 1, 2, 4, 5, 7, 8, 9, 2, 4, 5, 5, 1, 2, 3, 4, 5, 6, 7, 8, 9, 8, 8, 7, 5, 1, 3, 9, 1, 4, 5, 9, 1, 2, 3, 4, 5, 6, 7, 8, 9, 1, 2, 3, 4, 5, 6, 7, 9, 1, 2, 8, 2, 1, 2, 3, 4, 5, 6, 7, 8, 9, 1, 2, 3, 4, 5, 6, 7, 8, 9, 8, 1, 2, 1, 2, 3, 4, 5, 6, 7, 8, 9, 4, 5, 1, 2, 3, 4, 5, 6, 7, 4, 3, 6, 5, 7, 1, 2, 3, 4, 5, 7, 1, 2, 2, 9, 1, 2, 3, 4, 5, 6, 7, 8, 9, 7, 8, 1, 2, 4, 8, 1, 2, 4, 5, 8, 3, 1, 2, 3, 4, 5, 6, 7, 8, 9, 5, 1, 2, 1, 2, 3, 4, 5, 6, 7, 8, 9, 1, 8, 3, 1, 2, 3, 4, 5, 6, 7, 8, 9, 7, 5, 7, 5, 7, 7, 1, 2, 3, 4, 5, 6, 7, 8, 9, 1, 2, 3, 4, 5, 6, 7, 8, 9, 1, 2, 3, 4, 5, 6, 7, 8, 1, 2, 3, 4, 5, 6, 7, 8, 9, 7, 7, 1, 3, 5, 1, 6, 3, 6, 8, 1, 2, 3, 4, 5, 6, 7, 8, 9, 2, 4, 1, 2, 3, 4, 5, 6, 7, 8, 9, 4, 2, 3, 1, 2, 3, 4, 5, 6, 7, 8, 9, 1, 4, 5, 7, 8, 6, 2, 9, 2, 2, 8, 2, 1, 3, 3, 4, 5, 6, 7, 4, 1, 2, 3, 4, 5, 6, 7, 8, 9, 9, 2, 7, 8, 6, 8, 2, 9, 1, 2, 3, 6, 7, 8, 9, 1, 2, 3, 4, 6, 7, 8, 9, 1, 4, 7, 1, 4, 5, 4, 5, 1, 2, 3, 4, 5, 6, 7, 8, 9, 1, 3, 1, 8, 1, 2, 4, 5, 7, 9, 1, 2, 3, 4, 5, 6, 8, 1, 2, 3, 4, 5, 6, 7, 8, 9, 1, 2, 5, 7, 9, 2, 8, 7, 7, 4, 1, 2, 3, 4, 5, 6, 7, 8, 9, 2, 2, 1, 2, 4, 5, 6, 7, 8, 2, 4, 3, 1, 2, 3, 4, 5, 6, 7, 8, 9, 4, 6, 4, 5, 6, 8, 1, 3, 4, 6, 7, 9, 9, 1, 2, 3, 4, 5, 6, 7, 8, 9, 9, 1, 2, 4, 5, 6, 7, 8, 9, 1, 2, 3, 4, 5, 6, 7, 8, 9, 5, 7, 1, 2, 3, 4, 5, 6, 7, 2, 8, 1, 2, 4, 6, 7, 8, 7, 3, 1, 2, 4, 7, 8, 9, 9, 1, 1, 2, 6, 1, 1, 2, 5, 7, 8, 9, 4, 7, 8, 2, 5, 7, 4, 1, 9, 1, 2, 3, 4, 5, 6, 7, 8, 9, 7, 6, 9, 4, 6, 7, 9, 1, 1, 2, 3, 4, 5, 6, 7, 8, 9, 9, 2, 1, 2, 3, 4, 5, 6, 7, 8, 9, 5, 5, 9, 3, 7, 1, 2, 3, 4, 5, 6, 7, 8, 9, 2, 4, 1, 2, 4, 5, 6, 7, 1, 2, 3, 5, 6, 8, 9, 1, 2, 3, 4, 5, 8, 5, 5, 9, 4, 6, 1, 2, 3, 4, 5, 6, 7, 8, 9, 5, 3, 4, 5, 6, 7, 8, 9, 1, 8, 1, 8, 9, 6, 1, 2, 3, 4, 5, 6, 7, 8, 9, 1, 2, 3, 4, 5, 6, 7, 8, 9, 3, 5, 7, 1, 2, 3, 8, 5, 7, 2, 3, 4, 5, 7, 9, 7, 4, 6, 3, 3, 4, 4, 9, 1, 4, 8, 2, 3, 4, 5, 6, 7, 8, 9, 1, 2, 3, 4, 5, 6, 7, 8, 9, 1, 2, 3, 4, 5, 6, 7, 8, 9, 3, 1, 2, 3, 4, 5, 6, 7, 8, 9, 2, 1, 2, 3, 4, 5, 6, 7, 9, 7, 1, 2, 4, 5, 6, 7, 8, 9, 1, 2, 3, 4, 5, 6, 7, 8, 9, 6, 6, 1, 2, 3, 4, 5, 6, 7, 8, 9, 5, 7, 8, 1, 2, 5, 8, 2, 3, 5, 2, 3, 5, 1, 2, 3, 4, 5, 6, 7, 8, 9, 1, 2, 3, 4, 5, 6, 7, 8, 9, 1, 2, 3, 4, 5, 6, 7, 8, 9, 1, 2, 3, 4, 5, 6, 7, 8, 9, 6, 1, 2, 3, 4, 5, 6, 7, 8, 9, 1, 2, 8, 9, 2, 5, 1, 7, 2, 4, 5, 7, 1, 2, 3, 4, 5, 6, 7, 8, 9, 1, 2, 3, 4, 5, 6, 7, 8, 9, 2, 4, 6, 7, 2, 5, 7, 1, 2, 5, 7, 1, 2, 3, 4, 5, 6, 7, 8, 9, 2, 2, 1, 4, 5, 8, 5, 9, 1, 2, 3, 5, 7, 8, 9, 6, 1, 4, 8, 1, 2, 3, 4, 5, 6, 7, 8, 9, 5, 2, 4, 1, 2, 3, 4, 5, 6, 7, 8, 1, 2, 3, 4, 5, 6, 7, 8, 9, 1, 2, 3, 4, 5, 6, 7, 8, 9, 1, 2, 4, 5, 9, 1, 2, 3, 5, 8, 2, 9, 1, 2, 3, 4, 5, 6, 7, 8, 9, 1, 2, 3, 4, 5, 6, 7, 8, 9, 1, 2, 3, 4, 7, 8, 1, 6, 6, 1, 2, 4, 5, 8, 1, 5, 7, 1, 2, 3, 4, 5, 6, 7, 8, 9, 7, 4, 7, 1, 2, 3, 4, 5, 6, 7, 8, 9, 1, 2, 3, 4, 5, 6, 7, 8, 9, 2, 4, 5, 8, 1, 2, 3, 4, 5, 6, 7, 8, 9, 6, 2, 1, 2, 3, 4, 5, 6, 7, 8, 9, 1, 2, 3, 4, 5, 8, 1, 2, 3, 4, 5, 6, 7, 8, 9, 4, 1, 2, 3, 4, 5, 6, 7, 8, 9, 2, 3, 5, 7, 8, 9, 5, 7, 7, 1, 2, 3, 4, 5, 6, 7, 8, 9, 1, 2, 3, 4, 5, 6, 7, 8, 6, 3, 5, 2, 4, 8, 7, 8, 7, 7, 1, 2, 3, 4, 5, 7, 8, 7, 7, 7, 1, 7, 7, 4, 5, 1, 2, 5, 6, 7, 2, 3, 4, 6, 7, 8, 1, 2, 4, 1, 2, 3, 4, 5, 6, 7, 8, 9, 1, 2, 3, 4, 5, 6, 7, 8, 9, 1, 2, 3, 4, 5, 6, 7, 8, 9, 1, 2, 4, 7, 1, 2, 3, 4, 5, 6, 7, 8, 9, 1, 2, 3, 4, 5, 6, 7, 8, 9, 2, 4, 8, 6, 3, 6, 6, 6, 1, 2, 5, 6, 9], \"Freq\": [0.7544343662070446, 0.09809705493880858, 0.1177164659265703, 0.17657469888985544, 0.03923882197552343, 0.29429116481642575, 0.13733587691433202, 0.019619410987761716, 0.07847764395104687, 0.019619410987761716, 0.0300384161164261, 0.1201536644657044, 0.0300384161164261, 0.16020488595427254, 0.09011524834927831, 0.20025610744284067, 0.15019208058213052, 0.040051221488568135, 0.18023049669855662, 0.9085026514350685, 0.9231810639367147, 0.980465117877774, 0.9509186649892958, 0.2120086717581739, 0.2120086717581739, 0.07066955725272464, 0.10600433587908695, 0.12367172519226811, 0.10600433587908695, 0.0883369465659058, 0.053002167939543474, 0.01766738931318116, 0.8284545268481025, 0.9334997002769082, 0.9731897505035995, 0.15163316735841245, 0.07581658367920623, 0.03790829183960311, 0.07581658367920623, 0.03790829183960311, 0.07581658367920623, 0.03790829183960311, 0.03790829183960311, 0.41699121023563424, 0.25752027319311876, 0.12485831427545153, 0.24191298390868735, 0.11705466963323581, 0.015607289284431442, 0.11705466963323581, 0.007803644642215721, 0.10925102499102009, 0.007803644642215721, 0.0088944492544389, 0.9783894179882789, 0.07578970694527831, 0.8336867763980613, 0.8133770815711813, 0.9116596716530759, 0.9592777402912993, 0.754381310493005, 0.0399017635608897, 0.0399017635608897, 0.798035271217794, 0.0798035271217794, 0.8973077522020557, 0.8801737562051289, 0.010866342669199123, 0.08693074135359298, 0.16227812022934215, 0.09736687213760528, 0.16227812022934215, 0.09736687213760528, 0.09736687213760528, 0.09736687213760528, 0.12982249618347372, 0.12982249618347372, 0.03245562404586843, 0.8270144837616581, 0.8931115921435658, 0.8538769612467348, 0.9134049665318474, 0.8954654865447502, 0.07524920054997901, 0.015049840109995802, 0.8281170456218923, 0.1458007285068532, 0.1458007285068532, 0.1458007285068532, 0.1458007285068532, 0.1458007285068532, 0.1458007285068532, 0.2633102817440957, 0.12949685987414544, 0.24388575276297392, 0.11870545488463331, 0.008633123991609695, 0.11007233089302362, 0.008633123991609695, 0.1079140498951212, 0.008633123991609695, 0.9289537850045675, 0.032032889138088536, 0.8826499226398686, 0.1929251996479448, 0.7331157586621903, 0.8273938169751712, 0.9663776032616921, 0.8988253685622505, 0.12615364711617086, 0.12615364711617086, 0.031538411779042715, 0.031538411779042715, 0.5992298238018117, 0.031538411779042715, 0.9739102380149766, 0.25875326305649815, 0.12744563702782746, 0.24330530705312514, 0.11585967002529769, 0.011585967002529769, 0.11585967002529769, 0.011585967002529769, 0.11199768102445444, 0.007723978001686513, 0.10148543233559829, 0.8118834586847863, 0.8117192069091163, 0.10860798118749991, 0.054303990593749955, 0.16291197178124986, 0.10860798118749991, 0.21721596237499982, 0.054303990593749955, 0.054303990593749955, 0.054303990593749955, 0.10860798118749991, 0.06857179349405634, 0.1371435869881127, 0.1371435869881127, 0.06857179349405634, 0.1371435869881127, 0.06857179349405634, 0.1371435869881127, 0.06857179349405634, 0.1371435869881127, 0.9001798274079092, 0.7687081944964852, 0.26300210336324265, 0.1100939037334504, 0.24465311940766757, 0.12232655970383378, 0.012232655970383378, 0.11621023171864209, 0.012232655970383378, 0.1100939037334504, 0.012232655970383378, 0.7544908464973683, 0.747290749238193, 0.08303230547091034, 0.08303230547091034, 0.0476961404854277, 0.9062266692231263, 0.1274595324468397, 0.7647571946810382, 0.9712615010989579, 0.14827418983635984, 0.049424729945453286, 0.22241128475453978, 0.09884945989090657, 0.12356182486363321, 0.12356182486363321, 0.09884945989090657, 0.12356182486363321, 0.024712364972726643, 0.11008924149898261, 0.22017848299796522, 0.11008924149898261, 0.11008924149898261, 0.11008924149898261, 0.11008924149898261, 0.11008924149898261, 0.9732886980316505, 0.01604322029722501, 0.975668770617931, 0.9311581467373554, 0.012415441956498073, 0.012415441956498073, 0.012415441956498073, 0.903262342404328, 0.041057379200196725, 0.05894669052714473, 0.10315670842250327, 0.014736672631786182, 0.6189402505350197, 0.10315670842250327, 0.014736672631786182, 0.029473345263572363, 0.014736672631786182, 0.029473345263572363, 0.09497966947765442, 0.005936229342353401, 0.8132634199024159, 0.005936229342353401, 0.023744917369413605, 0.005936229342353401, 0.04748983473882721, 0.005936229342353401, 0.005936229342353401, 0.12717213729018992, 0.7630328237411395, 0.034796719013747784, 0.005799453168957964, 0.011598906337915929, 0.023197812675831857, 0.011598906337915929, 0.005799453168957964, 0.011598906337915929, 0.823522349992031, 0.06379398485853761, 0.8465084660465122, 0.0651160358497317, 0.006555012581929681, 0.006555012581929681, 0.006555012581929681, 0.471960905898937, 0.49818095622665576, 0.006555012581929681, 0.006555012581929681, 0.08366923418339678, 0.8366923418339678, 0.9304409968807394, 0.9761938798233359, 0.7669003316540762, 0.7534597975076481, 0.1793321391305815, 0.08966606956529075, 0.08966606956529075, 0.1793321391305815, 0.1344991043479361, 0.04483303478264537, 0.08966606956529075, 0.08966606956529075, 0.08966606956529075, 0.030501368992856354, 0.5795260108642707, 0.030501368992856354, 0.12200547597142541, 0.10675479147499724, 0.015250684496428177, 0.015250684496428177, 0.07625342248214088, 0.015250684496428177, 0.7682701771968828, 0.9671235971835224, 0.10110653332715124, 0.8088522666172099, 0.07452753486985458, 0.8198028835684005, 0.5704383342232723, 0.4074559530166231, 0.3150944436220749, 0.01658391808537236, 0.11608742659760653, 0.03316783617074472, 0.2653426893659578, 0.03316783617074472, 0.03316783617074472, 0.03316783617074472, 0.16583918085372362, 0.05239018365090797, 0.10478036730181595, 0.7334625711127116, 0.12425852983792952, 0.7766158114870595, 0.03106463245948238, 0.03106463245948238, 0.8388555906320273, 0.1395095218523051, 0.05580380874092204, 0.08370571311138307, 0.6417438005206035, 0.11222321876468888, 0.11222321876468888, 0.22444643752937776, 0.11222321876468888, 0.11222321876468888, 0.11222321876468888, 0.11222321876468888, 0.26830121483789154, 0.09287349744388554, 0.252822298597244, 0.12383132992518073, 0.01031927749376506, 0.11867169117829819, 0.01031927749376506, 0.11351205243141566, 0.01031927749376506, 0.9774345344464421, 0.9633551148320454, 0.9589362609339722, 0.8699925470930574, 0.79659167792476, 0.052533262708330516, 0.8667988346874534, 0.026266631354165258, 0.026266631354165258, 0.9351081521652546, 0.7521863941697827, 0.9314436116595025, 0.981622850411529, 0.08322682148247981, 0.10403352685309977, 0.041613410741239906, 0.5201676342654988, 0.08322682148247981, 0.020806705370619953, 0.10403352685309977, 0.020806705370619953, 0.020806705370619953, 0.9822954182342043, 0.7895646351113557, 0.17271726393060904, 0.02965591031081814, 0.9489891299461805, 0.1109949029866661, 0.036998300995555365, 0.036998300995555365, 0.7769643209066627, 0.8651710948029143, 0.13671784856832142, 0.7519481671257678, 0.14150903711491397, 0.06064673019210599, 0.14150903711491397, 0.14150903711491397, 0.020215576730701994, 0.04043115346140399, 0.22237134403772194, 0.20215576730701995, 0.020215576730701994, 0.9944107275651518, 0.9371593278287814, 0.02313973648959954, 0.01156986824479977, 0.01156986824479977, 0.015601615766030051, 0.9673001774938632, 0.026089276058925765, 0.043482126764876276, 0.008696425352975256, 0.008696425352975256, 0.8957318113564513, 0.7045072087185832, 0.09090415596368816, 0.06817811697276611, 0.02272603899092204, 0.04545207798184408, 0.04545207798184408, 0.9865558790756473, 0.028069332039773867, 0.028069332039773867, 0.8982186252727637, 0.9439726379139955, 0.9536750212351324, 0.9614742903516365, 0.038715271570511245, 0.025810181047007497, 0.9033563366452624, 0.7532850617508864, 0.01892938266663822, 0.3407288879994879, 0.20191341511080765, 0.01892938266663822, 0.14512526711089302, 0.11357629599982931, 0.06309794222212739, 0.05047835377770191, 0.04416855955548918, 0.05449771091053595, 0.9264610854791112, 0.8667580427095369, 0.7674563063640064, 0.030963436113099173, 0.5418601319792355, 0.015481718056549586, 0.07740859028274792, 0.2167440527916942, 0.015481718056549586, 0.061926872226198346, 0.046445154169648756, 0.015481718056549586, 0.7535069472043393, 0.10720473114204757, 0.05360236557102378, 0.05360236557102378, 0.05360236557102378, 0.6432283868522853, 0.9540799855313241, 0.977363166346923, 0.8661756305702393, 0.9338918442071584, 0.08974521713260528, 0.08974521713260528, 0.08974521713260528, 0.17949043426521055, 0.17949043426521055, 0.08974521713260528, 0.08974521713260528, 0.08974521713260528, 0.753799995595726, 0.9569106816820423, 0.9783146126853007, 0.8862819176807293, 0.06330585126290923, 0.9774698854192065, 0.9319975447001511, 0.9356685134678977, 0.23305341274581426, 0.12429515346443427, 0.015536894183054284, 0.03107378836610857, 0.43503303712551994, 0.015536894183054284, 0.04661068254916285, 0.06214757673221714, 0.04661068254916285, 0.1548312068681165, 0.051610402289372165, 0.7225456320512104, 0.3216874072544216, 0.07148609050098256, 0.05361456787573692, 0.08935761312622821, 0.28594436200393025, 0.03574304525049128, 0.03574304525049128, 0.08935761312622821, 0.01787152262524564, 0.7696886695534153, 0.08665976113512681, 0.05777317409008454, 0.2022061093152959, 0.08665976113512681, 0.11554634818016908, 0.08665976113512681, 0.11554634818016908, 0.05777317409008454, 0.2022061093152959, 0.7547050031062493, 0.02244917322874085, 0.2469409055161493, 0.02244917322874085, 0.47143263780355776, 0.06734751968622255, 0.1795933858299268, 0.922740282910418, 0.27835694960339447, 0.007732137488983179, 0.030928549955932715, 0.030928549955932715, 0.023196412466949538, 0.4871246618059403, 0.023196412466949538, 0.015464274977966357, 0.10051778735678132, 0.14023455488624398, 0.14023455488624398, 0.07011727744312199, 0.14023455488624398, 0.07011727744312199, 0.14023455488624398, 0.07011727744312199, 0.14023455488624398, 0.7544875235788617, 0.7548100860466977, 0.7543252290412501, 0.13301903685344463, 0.08867935790229642, 0.08867935790229642, 0.17735871580459284, 0.04433967895114821, 0.08867935790229642, 0.13301903685344463, 0.08867935790229642, 0.08867935790229642, 0.2643866786130453, 0.09547296727693302, 0.24969852980120946, 0.1175051904946868, 0.01468814881183585, 0.1175051904946868, 0.007344074405917925, 0.1175051904946868, 0.007344074405917925, 0.02926738557852609, 0.05853477115705218, 0.8487541817772567, 0.9438576015707361, 0.945001129598029, 0.08578192952943867, 0.08578192952943867, 0.08578192952943867, 0.17156385905887733, 0.08578192952943867, 0.08578192952943867, 0.08578192952943867, 0.17156385905887733, 0.9724647566927356, 0.10870230909072887, 0.21740461818145773, 0.10870230909072887, 0.10870230909072887, 0.10870230909072887, 0.10870230909072887, 0.10870230909072887, 0.9513847336664023, 0.22150716597765968, 0.11075358298882984, 0.11075358298882984, 0.11075358298882984, 0.11075358298882984, 0.11075358298882984, 0.11075358298882984, 0.2832113205697213, 0.07080283014243033, 0.5664226411394426, 0.05240638622174554, 0.6550798277718192, 0.02620319311087277, 0.0786095793326183, 0.0786095793326183, 0.02620319311087277, 0.05240638622174554, 0.2391363839580622, 0.05314141865734715, 0.026570709328673576, 0.026570709328673576, 0.3719899306014301, 0.026570709328673576, 0.1062828373146943, 0.07971212798602073, 0.05314141865734715, 0.9661266059045439, 0.02369008447425554, 0.04738016894851108, 0.07107025342276663, 0.8054628721246885, 0.8969790904930408, 0.703078612129839, 0.09587435619952352, 0.0063916237466349005, 0.09587435619952352, 0.025566494986539602, 0.0063916237466349005, 0.0319581187331745, 0.0319581187331745, 0.0063916237466349005, 0.9211271372150003, 0.07336383960056453, 0.07336383960056453, 0.07336383960056453, 0.07336383960056453, 0.14672767920112906, 0.07336383960056453, 0.22009151880169356, 0.14672767920112906, 0.1795956777228564, 0.1795956777228564, 0.08381131627066632, 0.02394609036304752, 0.1197304518152376, 0.04789218072609504, 0.07183827108914256, 0.08381131627066632, 0.2155148132674277, 0.1084851814298977, 0.1084851814298977, 0.1084851814298977, 0.1084851814298977, 0.1084851814298977, 0.2169703628597954, 0.1084851814298977, 0.10271471361830901, 0.10271471361830901, 0.10271471361830901, 0.10271471361830901, 0.10271471361830901, 0.20542942723661803, 0.10271471361830901, 0.1321219766790024, 0.0660609883395012, 0.0660609883395012, 0.1321219766790024, 0.19818296501850363, 0.09909148250925182, 0.09909148250925182, 0.0660609883395012, 0.19818296501850363, 0.014476269676438197, 0.014476269676438197, 0.15923896644082017, 0.14476269676438197, 0.028952539352876394, 0.028952539352876394, 0.028952539352876394, 0.014476269676438197, 0.5645745173810897, 0.11068113182819111, 0.11068113182819111, 0.05534056591409556, 0.05534056591409556, 0.16602169774228667, 0.11068113182819111, 0.11068113182819111, 0.11068113182819111, 0.11068113182819111, 0.10380435042892254, 0.2491304410294141, 0.06228261025735352, 0.02076087008578451, 0.02076087008578451, 0.08304348034313803, 0.2491304410294141, 0.14532609060049156, 0.06228261025735352, 0.7542279525856551, 0.21278228332165022, 0.04255645666433005, 0.04255645666433005, 0.04255645666433005, 0.5106774799719606, 0.0851129133286601, 0.8539173575945022, 0.852734440825016, 0.8598695880016635, 0.890688486959691, 0.06142679220411663, 0.8633674894000107, 0.08240867834022812, 0.08240867834022812, 0.08240867834022812, 0.16481735668045625, 0.16481735668045625, 0.16481735668045625, 0.08240867834022812, 0.08240867834022812, 0.8964925598426663, 0.7538723135143293, 0.10809978301814578, 0.10809978301814578, 0.10809978301814578, 0.21619956603629156, 0.10809978301814578, 0.10809978301814578, 0.10809978301814578, 0.2575991956738179, 0.13142816105807037, 0.24182781634684947, 0.11565678173110192, 0.01051425288464563, 0.11565678173110192, 0.01051425288464563, 0.11039965528877911, 0.01051425288464563, 0.9216661446120941, 0.8253630815896438, 0.9497764114434514, 0.7534920763704546, 0.8274712843077828, 0.964033827567409, 0.8693365886533287, 0.9707189784018059, 0.9584219890869778, 0.21959743564318407, 0.10979871782159203, 0.10979871782159203, 0.10979871782159203, 0.10979871782159203, 0.10979871782159203, 0.10979871782159203, 0.7572659536616644, 0.9874641928846343, 0.16873015337322178, 0.12052153812372984, 0.04820861524949194, 0.0723129228742379, 0.02410430762474597, 0.0723129228742379, 0.02410430762474597, 0.0723129228742379, 0.40977322962068147, 0.7669788343786461, 0.23991513820665294, 0.09596605528266118, 0.04798302764133059, 0.09596605528266118, 0.09596605528266118, 0.19193211056532236, 0.04798302764133059, 0.14394908292399175, 0.04798302764133059, 0.7542327766569238, 0.002629620642998293, 0.9913669824103565, 0.989771183184525, 0.0036388646440607534, 0.9904536126348776, 0.9718599179747386, 0.011314281104004679, 0.011314281104004679, 0.011314281104004679, 0.011314281104004679, 0.045257124416018715, 0.7919996772803275, 0.11314281104004678, 0.019122191320803564, 0.24858848717044635, 0.17209972188723208, 0.5162991656616963, 0.03824438264160713, 0.9193596016876131, 0.962617952622417, 0.17316729737304412, 0.05195018921191323, 0.05195018921191323, 0.20780075684765292, 0.06926691894921765, 0.01731672973730441, 0.01731672973730441, 0.3636513244833926, 0.05195018921191323, 0.22329417127939108, 0.05582354281984777, 0.05582354281984777, 0.22329417127939108, 0.05582354281984777, 0.05582354281984777, 0.05582354281984777, 0.11164708563969554, 0.11164708563969554, 0.8953625545248357, 0.07122032273038602, 0.07122032273038602, 0.14244064546077204, 0.14244064546077204, 0.07122032273038602, 0.07122032273038602, 0.21366096819115804, 0.14244064546077204, 0.9530954110793557, 0.022165009559985016, 0.12451797281317248, 0.12451797281317248, 0.12451797281317248, 0.12451797281317248, 0.12451797281317248, 0.12451797281317248, 0.12451797281317248, 0.7404475320362246, 0.02644455471557945, 0.18511188300905615, 0.8274593162052141, 0.07796574271615232, 0.19751321488091922, 0.010395432362153643, 0.1715246339755351, 0.4314104430293762, 0.02598858090538411, 0.06757031035399867, 0.010395432362153643, 0.005197716181076822, 0.8689965250604001, 0.9240435829522358, 0.7545011915263797, 0.9772061664911696, 0.06475981192817139, 0.06475981192817139, 0.7771177431380566, 0.08855555340095621, 0.08855555340095621, 0.7084444272076497, 0.9886221223415923, 0.03181874764259783, 0.3500062240685761, 0.021212498428398553, 0.06363749528519566, 0.08484999371359421, 0.07424374449939493, 0.21212498428398552, 0.11666874135619204, 0.05303124607099638, 0.05245289677536561, 0.1573586903260968, 0.01748429892512187, 0.01748429892512187, 0.20981158710146244, 0.01748429892512187, 0.01748429892512187, 0.5245289677536561, 0.9794286017617009, 0.00520972660511543, 0.00520972660511543, 0.9683352157024945, 0.805951491363094, 0.05970011047134029, 0.029850055235670143, 0.017910033141402087, 0.005970011047134029, 0.029850055235670143, 0.041790077329938204, 0.011940022094268058, 0.005970011047134029, 0.12734938554424102, 0.12734938554424102, 0.0764096313265446, 0.050939754217696406, 0.20375901687078563, 0.050939754217696406, 0.2292288939796338, 0.10187950843539281, 0.050939754217696406, 0.9250849303694837, 0.9571196307759461, 0.9317967293237208, 0.25509319375030626, 0.13038096569460098, 0.24375571847251487, 0.11904349041680959, 0.01133747527779139, 0.1133747527779139, 0.01133747527779139, 0.1133747527779139, 0.01133747527779139, 0.17951839173294484, 0.7539772452783684, 0.10864347975489877, 0.10864347975489877, 0.10864347975489877, 0.10864347975489877, 0.10864347975489877, 0.10864347975489877, 0.21728695950979754, 0.8166336359631037, 0.043890419874562596, 0.9216988173658145, 0.10827471752944431, 0.7579230227061102, 0.005328097539654737, 0.005328097539654737, 0.9590575571378527, 0.010656195079309474, 0.005328097539654737, 0.005328097539654737, 0.9498811041733484, 0.03219935946350334, 0.9489303093180049, 0.901661467523972, 0.09539074298396828, 0.3406812249427439, 0.013627248997709755, 0.013627248997709755, 0.013627248997709755, 0.013627248997709755, 0.013627248997709755, 0.504208212915261, 0.013627248997709755, 0.7536960898012147, 0.7960636628326512, 0.10632825079752442, 0.05316412539876221, 0.05316412539876221, 0.744297755582671, 0.8571648934053884, 0.04395717402078915, 0.021978587010394575, 0.021978587010394575, 0.021978587010394575, 0.9936878900052225, 0.258482023186368, 0.12462526117914172, 0.24463477194424116, 0.11539376035105714, 0.009231500828084572, 0.11539376035105714, 0.009231500828084572, 0.11077800993701487, 0.009231500828084572, 0.9068597585316461, 0.8833852353964903, 0.0630989453854636, 0.005824338906365628, 0.003882892604243752, 0.001941446302121876, 0.003882892604243752, 0.003882892604243752, 0.6911548835553879, 0.003882892604243752, 0.28150971380767204, 0.001941446302121876, 0.08385512447420718, 0.8385512447420718, 0.8448389186630683, 0.11679115383814707, 0.11679115383814707, 0.0875933653786103, 0.11679115383814707, 0.1751867307572206, 0.1751867307572206, 0.11679115383814707, 0.0875933653786103, 0.02919778845953677, 0.7548319328668676, 0.3453329181102681, 0.6278780329277602, 0.05310962562532396, 0.9028636356305073, 0.7531491270480496, 0.02098944851441457, 0.19939976088693842, 0.010494724257207285, 0.22038920940135298, 0.05247362128603642, 0.010494724257207285, 0.2833575549445967, 0.17841031237252383, 0.010494724257207285, 0.07463624405342546, 0.04975749603561698, 0.02487874801780849, 0.2239087321602764, 0.04975749603561698, 0.02487874801780849, 0.4229387163027443, 0.12439374008904244, 0.02487874801780849, 0.02490126708964384, 0.17430886962750686, 0.02490126708964384, 0.24901267089643836, 0.07470380126893152, 0.02490126708964384, 0.2739139379860822, 0.17430886962750686, 0.25995792516907384, 0.11698106632608322, 0.24696002891062013, 0.11698106632608322, 0.01299789625845369, 0.11698106632608322, 0.01299789625845369, 0.11048211819685637, 0.006498948129226845, 0.7536048552256778, 0.7533421739928923, 0.9090166724856097, 0.02525046312460027, 0.02525046312460027, 0.8868709499233873, 0.9440357421520399, 0.9070446793741759, 0.04319260377972266, 0.02159630188986133, 0.25777074443976467, 0.1325678114261647, 0.23567610920207055, 0.11783805460103527, 0.01472975682512941, 0.11783805460103527, 0.01472975682512941, 0.11047317618847058, 0.007364878412564705, 0.11158375019555619, 0.8647740640155605, 0.07523843220281748, 0.03761921610140874, 0.05015895480187832, 0.01253973870046958, 0.05015895480187832, 0.6896856285258269, 0.02507947740093916, 0.01253973870046958, 0.03761921610140874, 0.9274240921418044, 0.9672075937307962, 0.9941489696501974, 0.12776090334679768, 0.09582067751009828, 0.12776090334679768, 0.15970112918349713, 0.15970112918349713, 0.06388045167339884, 0.22358158085689597, 0.03194022583669942, 0.06388045167339884, 0.12337170997313174, 0.12337170997313174, 0.041123903324377244, 0.041123903324377244, 0.5757346465412814, 0.8926393813013392, 0.08102504608546048, 0.8102504608546047, 0.9726168651550227, 0.9562189695406241, 0.7994112513477425, 0.9566512825117233, 0.8882407605291617, 0.7677097874644652, 0.9864786314641458, 0.03790188285042443, 0.11370564855127328, 0.7201357741580641, 0.07580376570084886, 0.899698188553409, 0.07187503349707804, 0.21562510049123412, 0.07187503349707804, 0.14375006699415607, 0.07187503349707804, 0.14375006699415607, 0.07187503349707804, 0.14375006699415607, 0.07187503349707804, 0.8122640059209396, 0.043211144850830614, 0.02880742990055374, 0.9074340418674429, 0.02545749457471295, 0.9546560465517356, 0.0855156730180444, 0.8551567301804439, 0.1223235767825464, 0.1223235767825464, 0.1223235767825464, 0.1223235767825464, 0.1223235767825464, 0.1223235767825464, 0.1223235767825464, 0.030485314785707877, 0.030485314785707877, 0.030485314785707877, 0.09145594435712363, 0.030485314785707877, 0.1524265739285394, 0.06097062957141575, 0.5792209809284496, 0.046540967167823806, 0.023270483583911903, 0.8842783761886523, 0.945709670129362, 0.844570030414165, 0.0844570030414165, 0.8681646799466146, 0.8255928118240794, 0.021335742562021795, 0.009143889669437912, 0.8961011876049153, 0.0030479632231459708, 0.021335742562021795, 0.0060959264462919415, 0.024383705785167766, 0.009143889669437912, 0.0030479632231459708, 0.9765570397948036, 0.9867432535208687, 0.04862819717830338, 0.9239357463877642, 0.09375189178487903, 0.14062783767731854, 0.04687594589243951, 0.04687594589243951, 0.04687594589243951, 0.5625113507092742, 0.014847164447141441, 0.014847164447141441, 0.07423582223570721, 0.17816597336569728, 0.6829695645685063, 0.014847164447141441, 0.014847164447141441, 0.1975965384047073, 0.4887914371063813, 0.05199908905387035, 0.062398906864644416, 0.031199453432322208, 0.04159927124309628, 0.031199453432322208, 0.08319854248619256, 0.01039981781077407, 0.049423295558046025, 0.07413494333706903, 0.024711647779023013, 0.024711647779023013, 0.7907727289287364, 0.9769090696528915, 0.8703552466172968, 0.7546558904564069, 0.9627321051623375, 0.9336248770958626, 0.07657969886242912, 0.12665104042632508, 0.029453730331703506, 0.07068895279608842, 0.49187729653944856, 0.008836119099511052, 0.011781492132681403, 0.1737770089570507, 0.005890746066340702, 0.9793855060670534, 0.9651717664533913, 0.03702486497016034, 0.03702486497016034, 0.14809945988064135, 0.5553729745524051, 0.03702486497016034, 0.11107459491048102, 0.03702486497016034, 0.961892455335965, 0.813030621441407, 0.7570378767989381, 0.1792305832138776, 0.20483495224443155, 0.1194870554759184, 0.14509142450647233, 0.1194870554759184, 0.017069579353702628, 0.025604369030553943, 0.14509142450647233, 0.042673948384256574, 0.8935787838556233, 0.9880165508676657, 0.08598287617262768, 0.8598287617262768, 0.9836994222127676, 0.889180046581573, 0.1438065996479324, 0.1438065996479324, 0.1438065996479324, 0.1438065996479324, 0.1438065996479324, 0.1438065996479324, 0.8116198783966442, 0.05614332024841037, 0.05614332024841037, 0.05614332024841037, 0.08421498037261556, 0.5895048626083089, 0.028071660124205186, 0.05614332024841037, 0.028071660124205186, 0.05614332024841037, 0.8728989899169376, 0.09034678451595146, 0.09034678451595146, 0.2710403535478544, 0.09034678451595146, 0.09034678451595146, 0.09034678451595146, 0.09034678451595146, 0.09034678451595146, 0.06827431847155933, 0.3413715923577967, 0.022758106157186445, 0.11379053078593222, 0.04551621231437289, 0.04551621231437289, 0.27309727388623734, 0.04551621231437289, 0.022758106157186445, 0.11757928494607373, 0.8230549946225161, 0.10817326345456443, 0.10817326345456443, 0.10817326345456443, 0.10817326345456443, 0.10817326345456443, 0.10817326345456443, 0.21634652690912887, 0.05424802045295897, 0.8679683272473435, 0.14200348618306977, 0.14200348618306977, 0.14200348618306977, 0.14200348618306977, 0.14200348618306977, 0.14200348618306977, 0.7498166332745064, 0.9887731857517805, 0.7079972390902323, 0.056639779127218584, 0.028319889563609292, 0.08495966869082788, 0.028319889563609292, 0.056639779127218584, 0.8863677991084116, 0.9876891244321033, 0.9635244525459862, 0.967264499997948, 0.9687336567694786, 0.9909974435917326, 0.05509366609932535, 0.16528099829797607, 0.05509366609932535, 0.4958429948939282, 0.1101873321986507, 0.05509366609932535, 0.01697803312697534, 0.6281872256980876, 0.32258262941253146, 0.13255007894542123, 0.06627503947271061, 0.7290254341998168, 0.9489950436611564, 0.9419859739411371, 0.9733794491296905, 0.2709808808111224, 0.09597239528727253, 0.2427537057266305, 0.11855413535486606, 0.011290870033796767, 0.11855413535486606, 0.011290870033796767, 0.11290870033796768, 0.022581740067593534, 0.7544579461308627, 0.8076625610635976, 0.1009578201329497, 0.8114005715121876, 0.09015561905690973, 0.7547990607650673, 0.9518976023157762, 0.9486866071054445, 0.2611536415700681, 0.12729599614219397, 0.24409335342729982, 0.11810968714224185, 0.009186308999952143, 0.1154850274279698, 0.007873979142816123, 0.11023570799942572, 0.006561649285680102, 0.9231914174353659, 0.9341579582790981, 0.26341330683379627, 0.13170665341689813, 0.23946664257617842, 0.11673998825588697, 0.00897999909660669, 0.11374665522368474, 0.00897999909660669, 0.10775998915928028, 0.00897999909660669, 0.9710590489301204, 0.8250431696755033, 0.9240741816073536, 0.9832633232429211, 0.7545253179929647, 0.0632348028139995, 0.252939211255998, 0.0210782676046665, 0.0210782676046665, 0.084313070418666, 0.0210782676046665, 0.084313070418666, 0.126469605627999, 0.3583305492793305, 0.9573577020946284, 0.026593269502628566, 0.03721005549817416, 0.07442011099634832, 0.07442011099634832, 0.11163016649452248, 0.5209407769744382, 0.14884022199269664, 0.02332308625396168, 0.007774362084653894, 0.007774362084653894, 0.9173747259891595, 0.02332308625396168, 0.007774362084653894, 0.007774362084653894, 0.6997921503898984, 0.04998515359927846, 0.12496288399819615, 0.02499257679963923, 0.02499257679963923, 0.02499257679963923, 0.8269335986838292, 0.9110373452634366, 0.811118070946342, 0.9346762979592185, 0.958518077180972, 0.8546749280537201, 0.06253718985758928, 0.00521143248813244, 0.01042286497626488, 0.01042286497626488, 0.00521143248813244, 0.01042286497626488, 0.02084572995252976, 0.01563429746439732, 0.9093007027182546, 0.12469408736378952, 0.12469408736378952, 0.12469408736378952, 0.12469408736378952, 0.12469408736378952, 0.12469408736378952, 0.12469408736378952, 0.8904695994851348, 0.8830479618808412, 0.9099185214100408, 0.028434953794063775, 0.028434953794063775, 0.8984833758386642, 0.4880126957028116, 0.11712304696867477, 0.019520507828112463, 0.019520507828112463, 0.019520507828112463, 0.019520507828112463, 0.019520507828112463, 0.019520507828112463, 0.2732871095935745, 0.2238617452443578, 0.14924116349623853, 0.05596543631108945, 0.16789630893326835, 0.1119308726221789, 0.018655145437029817, 0.24251689068138763, 0.03731029087405963, 0.018655145437029817, 0.020318095855401955, 0.020318095855401955, 0.914314313493088, 0.8258259000176555, 0.048577994118685616, 0.048577994118685616, 0.7960627148468952, 0.8251817313643439, 0.7524099559070263, 0.14577991583711236, 0.14577991583711236, 0.14577991583711236, 0.14577991583711236, 0.14577991583711236, 0.14577991583711236, 0.7531537236006989, 0.9133916901557225, 0.9201820348309719, 0.832211021184665, 0.8314473623159317, 0.9121865553726948, 0.09675455860904511, 0.870791027481406, 0.9304217285841757, 0.9324457025075469, 0.9244834025017028, 0.08919003634018662, 0.17838007268037323, 0.08919003634018662, 0.08919003634018662, 0.17838007268037323, 0.08919003634018662, 0.08919003634018662, 0.08919003634018662, 0.010876067937829043, 0.6199358724562555, 0.010876067937829043, 0.03262820381348713, 0.23927349463223896, 0.010876067937829043, 0.010876067937829043, 0.06525640762697427, 0.010876067937829043, 0.01743149398895799, 0.24404091584541188, 0.01743149398895799, 0.08715746994478996, 0.27890390382332786, 0.052294481966873974, 0.06972597595583196, 0.1743149398895799, 0.052294481966873974, 0.9845871496949925, 0.260319817340139, 0.1268647211088019, 0.24384387953380107, 0.11697915842499916, 0.008237968903168955, 0.11533156464436538, 0.008237968903168955, 0.110388783302464, 0.008237968903168955, 0.9735279176480301, 0.0895660115451522, 0.0895660115451522, 0.0895660115451522, 0.0895660115451522, 0.0895660115451522, 0.0895660115451522, 0.2686980346354566, 0.0895660115451522, 0.8936973257838164, 0.08377507557215808, 0.08377507557215808, 0.08377507557215808, 0.16755015114431615, 0.08377507557215808, 0.2513252267164742, 0.08377507557215808, 0.08377507557215808, 0.12262238040611809, 0.12262238040611809, 0.18393357060917714, 0.06131119020305904, 0.12262238040611809, 0.06131119020305904, 0.06131119020305904, 0.06131119020305904, 0.12262238040611809, 0.9553551798582278, 0.9402276061165561, 0.18916294418171967, 0.09458147209085983, 0.15763578681809973, 0.0630543147272399, 0.0630543147272399, 0.0630543147272399, 0.0630543147272399, 0.18916294418171967, 0.09458147209085983, 0.5910194200793603, 0.38861550909327797, 0.9725307779989827, 0.06306633257279382, 0.8513954897327166, 0.06306633257279382, 0.8679697425528199, 0.2816374919848277, 0.5632749839696554, 0.0804678548528079, 0.17993878594376456, 0.7197551437750582, 0.04498469648594114, 0.12361486527225055, 0.12361486527225055, 0.06180743263612527, 0.12361486527225055, 0.1854222979083758, 0.06180743263612527, 0.06180743263612527, 0.06180743263612527, 0.12361486527225055, 0.0692604402381034, 0.1385208804762068, 0.1385208804762068, 0.1385208804762068, 0.0692604402381034, 0.0692604402381034, 0.0692604402381034, 0.1385208804762068, 0.0692604402381034, 0.4567564336297373, 0.2383077045024716, 0.009929487687602984, 0.06950641381322088, 0.0595769261256179, 0.009929487687602984, 0.04964743843801492, 0.06950641381322088, 0.02978846306280895, 0.2292131784252192, 0.09168527137008768, 0.09168527137008768, 0.18337054274017536, 0.09168527137008768, 0.09168527137008768, 0.09168527137008768, 0.09168527137008768, 0.04584263568504384, 0.9393107488241496, 0.23411321475423086, 0.058528303688557715, 0.058528303688557715, 0.058528303688557715, 0.17558491106567314, 0.058528303688557715, 0.17558491106567314, 0.058528303688557715, 0.058528303688557715, 0.2696748376191915, 0.019262488401370816, 0.009631244200685408, 0.6741870940479786, 0.9437430619641701, 0.996569671227528, 0.22385068488195903, 0.7275147258663668, 0.04902439951853529, 0.7353659927780293, 0.09804879903707057, 0.04902439951853529, 0.026267423657033967, 0.27580794839885664, 0.013133711828516983, 0.13133711828516983, 0.18387196559923777, 0.3152090838844076, 0.026267423657033967, 0.026267423657033967, 0.013133711828516983, 0.016149880717910795, 0.14534892646119715, 0.03229976143582159, 0.06459952287164318, 0.3391474950761267, 0.37144725651194826, 0.016149880717910795, 0.016149880717910795, 0.016149880717910795, 0.04955777932556267, 0.09911555865112534, 0.74336668988344, 0.04955777932556267, 0.9824887465940977, 0.10008832600831194, 0.8007066080664955, 0.9331304848842561, 0.009926920051960171, 0.019853840103920342, 0.019853840103920342, 0.6782514254394942, 0.012331844098899895, 0.09865475279119916, 0.02466368819779979, 0.07399106459339937, 0.04932737639559958, 0.03699553229669968, 0.012331844098899895, 0.012331844098899895, 0.983824052949531, 0.9732602735845345, 0.055503198576717566, 0.22201279430687026, 0.6105351843438932, 0.055503198576717566, 0.8936481656357729, 0.8100405233046604, 0.10994317771170051, 0.10994317771170051, 0.21988635542340101, 0.10994317771170051, 0.10994317771170051, 0.10994317771170051, 0.10994317771170051, 0.9668749036026199, 0.047495932221265046, 0.8311788138721382, 0.07124389833189756, 0.12159968792236794, 0.22799941485443992, 0.13679964891266394, 0.10639972693207196, 0.13679964891266394, 0.09119976594177596, 0.09119976594177596, 0.06079984396118397, 0.015199960990295993, 0.8442613938926227, 0.12320671916205524, 0.8213781277470349, 0.018733586565683392, 0.018733586565683392, 0.5807411835361851, 0.018733586565683392, 0.07493434626273357, 0.16860227909115053, 0.11240151939410034, 0.018733586565683392, 0.022649593871538747, 0.24914553258692623, 0.022649593871538747, 0.022649593871538747, 0.04529918774307749, 0.09059837548615499, 0.09059837548615499, 0.18119675097230997, 0.29444472033000374, 0.0229969081997773, 0.08048917869922054, 0.24146753609766164, 0.0459938163995546, 0.0459938163995546, 0.29895980659710486, 0.0229969081997773, 0.21847062789788432, 0.0229969081997773, 0.04585420364920962, 0.13756261094762887, 0.13756261094762887, 0.5502504437905155, 0.04585420364920962, 0.0035170076613188295, 0.09847621451692723, 0.0035170076613188295, 0.8898029383136639, 0.7977467747616559, 0.9472515267307055, 0.8099382699601614, 0.13818143232783908, 0.1036360742458793, 0.017272679040979885, 0.18999946945077872, 0.13818143232783908, 0.017272679040979885, 0.24181750657371837, 0.03454535808195977, 0.1036360742458793, 0.08857233636294373, 0.059048224241962495, 0.14762056060490622, 0.11809644848392499, 0.029524112120981248, 0.029524112120981248, 0.029524112120981248, 0.17714467272588746, 0.3247652333307937, 0.071935048336783, 0.0359675241683915, 0.0359675241683915, 0.287740193347132, 0.46757781418908956, 0.0359675241683915, 0.04855040345385371, 0.9224576656232205, 0.8962212441621052, 0.08854065490082984, 0.04427032745041492, 0.6640549117562238, 0.08854065490082984, 0.04427032745041492, 0.8673804394016151, 0.09130320414753844, 0.8148273223630015, 0.06708035474721984, 0.2012410642416595, 0.06708035474721984, 0.13416070949443967, 0.13416070949443967, 0.13416070949443967, 0.13416070949443967, 0.06708035474721984, 0.06708035474721984, 0.8984788042154667, 0.933138192065156, 0.7540557012065922, 0.2512509874836016, 0.1256254937418008, 0.24463911939192784, 0.11240175755845333, 0.013223736183347452, 0.11901362565012706, 0.013223736183347452, 0.11240175755845333, 0.006611868091673726, 0.26016471466048013, 0.12340139033744828, 0.24680278067489655, 0.11789941751985504, 0.00864595728478937, 0.11632742528625697, 0.007859961167990336, 0.11161144858546278, 0.007073965051191303, 0.2657964771143791, 0.022149706426198255, 0.6423414863597494, 0.04429941285239651, 0.2580641646685718, 0.12534545141044917, 0.24331764097322484, 0.11797218956277568, 0.01105989277151022, 0.11428555863893894, 0.01105989277151022, 0.1105989277151022, 0.00737326184767348, 0.9556843224899165, 0.966104821807178, 0.039839318829876354, 0.05577504636182689, 0.11951795648962905, 0.07171077389377743, 0.07967863765975271, 0.2390359129792581, 0.03187145506390108, 0.3346502781709613, 0.02390359129792581, 0.11203724265233492, 0.037345747550778303, 0.14938299020311321, 0.037345747550778303, 0.48549471816011797, 0.11203724265233492, 0.03287351371278606, 0.45365448923644763, 0.013149405485114424, 0.052597621940457695, 0.03287351371278606, 0.013149405485114424, 0.11834464936602981, 0.1643675685639303, 0.12491935210858703, 0.8673457332947874, 0.26196861635507174, 0.12739569699458966, 0.24581986603181388, 0.11662986344575112, 0.00897152795736547, 0.11483555785427801, 0.00897152795736547, 0.10945264107985873, 0.007177222365892376, 0.14606271944238144, 0.14606271944238144, 0.14606271944238144, 0.14606271944238144, 0.14606271944238144, 0.14606271944238144, 0.9669875197148762, 0.8143047961024416, 0.7688225851739715, 0.7715901766235005, 0.09644877207793756, 0.013778396011133938, 0.05511358404453575, 0.013778396011133938, 0.013778396011133938, 0.027556792022267875, 0.013778396011133938, 0.992022270801568, 0.08831244018775028, 0.08831244018775028, 0.08831244018775028, 0.08831244018775028, 0.17662488037550056, 0.08831244018775028, 0.17662488037550056, 0.08831244018775028, 0.98955122497636, 0.9891875366155712, 0.9249717196500038, 0.11809388419187665, 0.7872925612791777, 0.039364628063958886, 0.8959687424625873, 0.8691092955842566, 0.7550264665163254, 0.8633951879471656, 0.03129754456213256, 0.03129754456213256, 0.03129754456213256, 0.6885459803669164, 0.03129754456213256, 0.03129754456213256, 0.09389263368639769, 0.9296078998305277, 0.9840545970113165, 0.7546740430242928, 0.10656222561147931, 0.7459355792803551, 0.8945060691929432, 0.16008586908374678, 0.800429345418734, 0.9475775067898632, 0.057898684285227715, 0.057898684285227715, 0.810581579993188, 0.028949342142613858, 0.1423627904426432, 0.1423627904426432, 0.1423627904426432, 0.1423627904426432, 0.1423627904426432, 0.1423627904426432, 0.870928384318525, 0.05123108143050147, 0.05123108143050147, 0.26024049126098814, 0.12505062567086445, 0.2433417580622227, 0.11829113239135826, 0.01013923991925928, 0.11491138575160516, 0.01013923991925928, 0.10815189247209897, 0.006759493279506186, 0.2571093134203787, 0.13018193084576135, 0.24409112033580255, 0.11716373776118523, 0.009763644813432103, 0.1139091894900412, 0.009763644813432103, 0.11065464121889716, 0.009763644813432103, 0.25850444058664185, 0.12925222029332092, 0.2406765481323907, 0.11588130095263256, 0.008913946227125581, 0.11588130095263256, 0.008913946227125581, 0.11142432783906978, 0.008913946227125581, 0.026791422336753825, 0.13395711168376914, 0.6965769807555995, 0.1071656893470153, 0.0034342249379348162, 0.013736899751739265, 0.9409776329941397, 0.0034342249379348162, 0.0034342249379348162, 0.0034342249379348162, 0.02747379950347853, 0.0034342249379348162, 0.0034342249379348162, 0.2600373987488456, 0.12317560993366371, 0.24635121986732741, 0.11731010469872734, 0.009775842058227279, 0.11731010469872734, 0.009775842058227279, 0.11144459946379097, 0.007820673646581823, 0.05334009406267239, 0.9067815990654307, 0.923621195546638, 0.897310804482932, 0.017340815919331565, 0.9537448755632361, 0.9396757542261341, 0.8987673736099332, 0.6878962099125796, 0.042993513119536225, 0.1719740524781449, 0.021496756559768113, 0.042993513119536225], \"Term\": [\"abanei\", \"accordar\", \"accordar\", \"accordar\", \"accordar\", \"accordar\", \"accordar\", \"accordar\", \"accordar\", \"accordar\", \"aceitar\", \"aceitar\", \"aceitar\", \"aceitar\", \"aceitar\", \"aceitar\", \"aceitar\", \"aceitar\", \"aceitar\", \"achava\", \"acordo\", \"adelaide\", \"afei\\u00e7\\u00e3o\", \"affirmar\", \"affirmar\", \"affirmar\", \"affirmar\", \"affirmar\", \"affirmar\", \"affirmar\", \"affirmar\", \"affirmar\", \"affoutamente\", \"afilhada\", \"aggregado\", \"agosto\", \"agosto\", \"agosto\", \"agosto\", \"agosto\", \"agosto\", \"agosto\", \"agosto\", \"agosto\", \"agreement\", \"agreement\", \"agreement\", \"agreement\", \"agreement\", \"agreement\", \"agreement\", \"agreement\", \"agreement\", \"aguiar\", \"aguiar\", \"alagoas\", \"alagoas\", \"albardeiro\", \"alcibiades\", \"alcmena\", \"aleijadinha\", \"alfer\", \"alfer\", \"alfer\", \"alfer\", \"alia\", \"alienista\", \"alienista\", \"alienista\", \"allus\\u00e3o\", \"allus\\u00e3o\", \"allus\\u00e3o\", \"allus\\u00e3o\", \"allus\\u00e3o\", \"allus\\u00e3o\", \"allus\\u00e3o\", \"allus\\u00e3o\", \"allus\\u00e3o\", \"almeida\", \"almocreve\", \"alm\\u00f4\\u00e7o\", \"alparca\", \"alves\", \"alves\", \"alves\", \"amarar\", \"amparar\", \"amparar\", \"amparar\", \"amparar\", \"amparar\", \"amparar\", \"and\", \"and\", \"and\", \"and\", \"and\", \"and\", \"and\", \"and\", \"and\", \"andrade\", \"andrade\", \"anedota\", \"angela\", \"angela\", \"angelica\", \"anjos\", \"antanho\", \"antonio\", \"antonio\", \"antonio\", \"antonio\", \"antonio\", \"antonio\", \"antunes\", \"any\", \"any\", \"any\", \"any\", \"any\", \"any\", \"any\", \"any\", \"any\", \"aparecer\", \"aparecer\", \"apozentar\", \"apreciar\", \"apreciar\", \"apreciar\", \"apreciar\", \"apreciar\", \"apreciar\", \"apreciar\", \"apreciar\", \"apreciar\", \"apre\\u00e7o\", \"apre\\u00e7o\", \"apre\\u00e7o\", \"apre\\u00e7o\", \"apre\\u00e7o\", \"apre\\u00e7o\", \"apre\\u00e7o\", \"apre\\u00e7o\", \"apre\\u00e7o\", \"aprovar\", \"arcebispo\", \"are\", \"are\", \"are\", \"are\", \"are\", \"are\", \"are\", \"are\", \"are\", \"arruar\", \"aspira\\u00e7\\u00e3o\", \"aspira\\u00e7\\u00e3o\", \"aspira\\u00e7\\u00e3o\", \"assunto\", \"assunto\", \"atalaia\", \"atalaia\", \"aten\\u00e7\\u00e3o\", \"attribuir\", \"attribuir\", \"attribuir\", \"attribuir\", \"attribuir\", \"attribuir\", \"attribuir\", \"attribuir\", \"attribuir\", \"aturar\", \"aturar\", \"aturar\", \"aturar\", \"aturar\", \"aturar\", \"aturar\", \"ayres\", \"ayres\", \"bacamarte\", \"baptista\", \"baptista\", \"baptista\", \"baptista\", \"barbacena\", \"barbacena\", \"barbeiro\", \"barbeiro\", \"barbeiro\", \"barbeiro\", \"barbeiro\", \"barbeiro\", \"barbeiro\", \"barbeiro\", \"barbeiro\", \"baroneza\", \"baroneza\", \"baroneza\", \"baroneza\", \"baroneza\", \"baroneza\", \"baroneza\", \"baroneza\", \"baroneza\", \"barretina\", \"barretina\", \"bar\\u00e3o\", \"bar\\u00e3o\", \"bar\\u00e3o\", \"bar\\u00e3o\", \"bar\\u00e3o\", \"bar\\u00e3o\", \"bar\\u00e3o\", \"bar\\u00e3o\", \"bar\\u00e3o\", \"batata\", \"batata\", \"benedicta\", \"benedicta\", \"benedicta\", \"benedicta\", \"benedicta\", \"benedicta\", \"benedicta\", \"benedicto\", \"benedicto\", \"benjamim\", \"bentinho\", \"bexiga\", \"biographar\", \"boato\", \"boato\", \"boato\", \"boato\", \"boato\", \"boato\", \"boato\", \"boato\", \"boato\", \"bocca\", \"bocca\", \"bocca\", \"bocca\", \"bocca\", \"bocca\", \"bocca\", \"bocca\", \"bocca\", \"boleeiro\", \"bolha\", \"bonde\", \"bonde\", \"bonzo\", \"bonzo\", \"borba\", \"borba\", \"botafogo\", \"botafogo\", \"botafogo\", \"botafogo\", \"botafogo\", \"botafogo\", \"botafogo\", \"botafogo\", \"botafogo\", \"botanica\", \"botanica\", \"botanica\", \"boticario\", \"boticario\", \"boticario\", \"boticario\", \"bradei\", \"braz\", \"braz\", \"braz\", \"braz\", \"brazileira\", \"brazileira\", \"brazileira\", \"brazileira\", \"brazileira\", \"brazileira\", \"brazileira\", \"by\", \"by\", \"by\", \"by\", \"by\", \"by\", \"by\", \"by\", \"by\", \"b\\u00f4ca\", \"cabocla\", \"cabral\", \"cabriolet\", \"cabrioletr\", \"cachorro\", \"cachorro\", \"cachorro\", \"cachorro\", \"caetaninha\", \"cahem\", \"calmo\", \"camacho\", \"camar\", \"camar\", \"camar\", \"camar\", \"camar\", \"camar\", \"camar\", \"camar\", \"camar\", \"camargo\", \"camilla\", \"camilla\", \"campos\", \"campos\", \"candido\", \"candido\", \"candido\", \"candido\", \"cangicas\", \"capell\\u00e3o\", \"capell\\u00e3o\", \"capit\\u00e3o\", \"capit\\u00e3o\", \"capit\\u00e3o\", \"capit\\u00e3o\", \"capit\\u00e3o\", \"capit\\u00e3o\", \"capit\\u00e3o\", \"capit\\u00e3o\", \"capit\\u00e3o\", \"capit\\u00fa\", \"carlos\", \"carlos\", \"carlos\", \"carlos\", \"carlota\", \"carlota\", \"carmo\", \"carmo\", \"carmo\", \"carmo\", \"carmo\", \"castello\", \"castello\", \"castello\", \"castello\", \"castello\", \"castello\", \"cavalcante\", \"caza\", \"caza\", \"caza\", \"cazal\", \"cazamento\", \"cazar\", \"cecilia\", \"cecilia\", \"cecilia\", \"cega\", \"cer\", \"cer\", \"cer\", \"cer\", \"cer\", \"cer\", \"cer\", \"cer\", \"cer\", \"cesaria\", \"cesaria\", \"cham\", \"chapeleiro\", \"chap\\u00e9o\", \"chap\\u00e9o\", \"chap\\u00e9o\", \"chap\\u00e9o\", \"chap\\u00e9o\", \"chap\\u00e9o\", \"chap\\u00e9o\", \"chap\\u00e9o\", \"chap\\u00e9o\", \"chicaro\", \"china\", \"china\", \"china\", \"china\", \"china\", \"chinela\", \"christiano\", \"chronista\", \"chucro\", \"chumbo\", \"chumbo\", \"chumbo\", \"chumbo\", \"chumbo\", \"chumbo\", \"chumbo\", \"chumbo\", \"circumflex\\u00e3o\", \"circumst\\u00e2ncia\", \"claudia\", \"clemente\", \"clemente\", \"cleon\", \"clodia\", \"coadjuctor\", \"cocheiro\", \"cocheiro\", \"cocheiro\", \"cocheiro\", \"cocheiro\", \"cocheiro\", \"cocheiro\", \"cocheiro\", \"cocheiro\", \"commendador\", \"commendador\", \"commendador\", \"commiss\\u00e3o\", \"commiss\\u00e3o\", \"commiss\\u00e3o\", \"commiss\\u00e3o\", \"commiss\\u00e3o\", \"commiss\\u00e3o\", \"commiss\\u00e3o\", \"commiss\\u00e3o\", \"commiss\\u00e3o\", \"compota\", \"comprimento\", \"comprimento\", \"comprimento\", \"comprimento\", \"comprimento\", \"comprimento\", \"comprimento\", \"comprimento\", \"comprimento\", \"condigna\", \"conego\", \"conego\", \"conego\", \"conego\", \"conego\", \"conego\", \"confeitaria\", \"conselheiro\", \"conselheiro\", \"conselheiro\", \"conselheiro\", \"conselheiro\", \"conselheiro\", \"conselheiro\", \"conselheiro\", \"conselheiro\", \"constancia\", \"constancia\", \"constancia\", \"constancia\", \"constancia\", \"constancia\", \"constancia\", \"constancia\", \"consterno\", \"constrange\", \"contemos\", \"contentar\", \"contentar\", \"contentar\", \"contentar\", \"contentar\", \"contentar\", \"contentar\", \"contentar\", \"contentar\", \"copyright\", \"copyright\", \"copyright\", \"copyright\", \"copyright\", \"copyright\", \"copyright\", \"copyright\", \"copyright\", \"cora\", \"cora\", \"cora\", \"cordovil\", \"corinna\", \"cortezer\", \"cortezer\", \"cortezer\", \"cortezer\", \"cortezer\", \"cortezer\", \"cortezer\", \"cortezer\", \"cosme\", \"cotovello\", \"cotovello\", \"cotovello\", \"cotovello\", \"cotovello\", \"cotovello\", \"cotovello\", \"cotrim\", \"couber\", \"couber\", \"couber\", \"couber\", \"couber\", \"couber\", \"couber\", \"coxa\", \"coxa\", \"coxa\", \"credor\", \"credor\", \"credor\", \"credor\", \"credor\", \"credor\", \"credor\", \"criado\", \"criado\", \"criado\", \"criado\", \"criado\", \"criado\", \"criado\", \"criado\", \"criado\", \"crispim\", \"cubas\", \"cubas\", \"cubas\", \"cubas\", \"c\\u00e1lculo\", \"c\\u00e9u\", \"c\\u00e9u\", \"c\\u00e9u\", \"c\\u00e9u\", \"c\\u00e9u\", \"c\\u00e9u\", \"c\\u00e9u\", \"c\\u00e9u\", \"c\\u00e9u\", \"damasceno\", \"daqui\", \"daqui\", \"daqui\", \"daqui\", \"daqui\", \"daqui\", \"daqui\", \"daqui\", \"de aqui\", \"de aqui\", \"de aqui\", \"de aqui\", \"de aqui\", \"de aqui\", \"de aqui\", \"de aqui\", \"de aqui\", \"deduzir\", \"deduzir\", \"deduzir\", \"deduzir\", \"deduzir\", \"deduzir\", \"deduzir\", \"desandar\", \"desandar\", \"desandar\", \"desandar\", \"desandar\", \"desandar\", \"desandar\", \"desculpa\", \"desculpa\", \"desculpa\", \"desculpa\", \"desculpa\", \"desculpa\", \"desculpa\", \"desculpa\", \"desculpa\", \"desembargador\", \"desembargador\", \"desembargador\", \"desembargador\", \"desembargador\", \"desembargador\", \"desembargador\", \"desembargador\", \"desembargador\", \"desfiar\", \"desfiar\", \"desfiar\", \"desfiar\", \"desfiar\", \"desfiar\", \"desfiar\", \"desfiar\", \"desfiar\", \"dev\\u00e9ra\", \"dev\\u00e9ra\", \"dev\\u00e9ra\", \"dev\\u00e9ra\", \"dev\\u00e9ra\", \"dev\\u00e9ra\", \"dev\\u00e9ra\", \"dev\\u00e9ra\", \"dev\\u00e9ra\", \"dezesei\", \"director\", \"director\", \"director\", \"director\", \"director\", \"director\", \"dist\\u00e2ncia\", \"dom\\u00e9stico\", \"dores\", \"duarte\", \"duarte\", \"dutra\", \"duzer\", \"duzer\", \"duzer\", \"duzer\", \"duzer\", \"duzer\", \"duzer\", \"duzer\", \"d\\u00favida\", \"echoor\", \"edificio\", \"edificio\", \"edificio\", \"edificio\", \"edificio\", \"edificio\", \"edificio\", \"electronic\", \"electronic\", \"electronic\", \"electronic\", \"electronic\", \"electronic\", \"electronic\", \"electronic\", \"electronic\", \"elvira\", \"emboscar\", \"emplasto\", \"empregarr\", \"empurr\\u00e3o\", \"emtanto\", \"encruzilhada\", \"enteada\", \"entear\", \"entreter\", \"entreter\", \"entreter\", \"entreter\", \"entreter\", \"entreter\", \"entreter\", \"entrever\", \"escobar\", \"escrevi\", \"escrevi\", \"escrevi\", \"escrevi\", \"escrevi\", \"escrevi\", \"escrevi\", \"escrevi\", \"escrevi\", \"espadim\", \"espinho\", \"espinho\", \"espinho\", \"espinho\", \"espinho\", \"espinho\", \"espinho\", \"espinho\", \"espinho\", \"esqualer\", \"estacio\", \"estacio\", \"estella\", \"estella\", \"estev\\u00e3o\", \"estilo\", \"eugenia\", \"eugenia\", \"eugenia\", \"eugenia\", \"eugenia\", \"eugenia\", \"eugenia\", \"eulalia\", \"eulalia\", \"eulalia\", \"eulalia\", \"eulalia\", \"eusebia\", \"evarista\", \"ex\", \"ex\", \"ex\", \"ex\", \"ex\", \"ex\", \"ex\", \"ex\", \"ex\", \"exame\", \"exame\", \"exame\", \"exame\", \"exame\", \"exame\", \"exame\", \"exame\", \"exame\", \"excelente\", \"extremamente\", \"extremamente\", \"extremamente\", \"extremamente\", \"extremamente\", \"extremamente\", \"extremamente\", \"extremamente\", \"ezequiel\", \"ezequiel\", \"fabula\", \"fabula\", \"fabula\", \"fabula\", \"fabula\", \"fabula\", \"fabula\", \"falc\\u00e3o\", \"falc\\u00e3o\", \"falc\\u00e3o\", \"fallado\", \"fallar\", \"fallar\", \"fallar\", \"fallar\", \"fallar\", \"fallar\", \"fallar\", \"fallar\", \"fallar\", \"federalista\", \"felicia\", \"fer\", \"fernanda\", \"fevereiro\", \"fevereiro\", \"fevereiro\", \"fia\", \"fia\", \"fia\", \"fidelia\", \"fiquei\", \"fiquei\", \"fiquei\", \"fiquei\", \"fiquei\", \"fiquei\", \"fiquei\", \"fiquei\", \"fiquei\", \"flamengo\", \"flamengo\", \"flamengo\", \"flamengo\", \"flamengo\", \"flamengo\", \"flamengo\", \"flamengo\", \"flora\", \"flora\", \"flora\", \"fl\\u00f2r\", \"fl\\u00f4r\", \"fl\\u00f4r\", \"fl\\u00f4r\", \"fl\\u00f4r\", \"fl\\u00f4r\", \"fl\\u00f4r\", \"fl\\u00f4r\", \"fl\\u00f4r\", \"fl\\u00f4r\", \"fome\", \"fome\", \"fome\", \"fome\", \"fome\", \"fome\", \"fome\", \"fome\", \"fome\", \"fonseca\", \"footnote\", \"fortunata\", \"foundation\", \"foundation\", \"foundation\", \"foundation\", \"foundation\", \"foundation\", \"foundation\", \"foundation\", \"foundation\", \"freitas\", \"freitas\", \"fresta\", \"fresta\", \"fresta\", \"fresta\", \"fresta\", \"fresta\", \"fresta\", \"fucheo\", \"f\\u00f4r\\u00e7a\", \"f\\u00f4r\\u00e7a\", \"gamboa\", \"gamboa\", \"garcia\", \"garcia\", \"garcia\", \"garcia\", \"garcia\", \"garcia\", \"gemeo\", \"gemeo\", \"genoveva\", \"gerente\", \"gon\\u00e7alves\", \"gon\\u00e7alves\", \"gon\\u00e7alves\", \"gon\\u00e7alves\", \"gon\\u00e7alves\", \"gon\\u00e7alves\", \"gon\\u00e7alves\", \"gon\\u00e7alves\", \"gon\\u00e7alves\", \"gorgor\\u00e3o\", \"graminea\", \"grecia\", \"grecia\", \"grecia\", \"grecia\", \"guerreiro\", \"guerreiro\", \"guerreiro\", \"guerreiro\", \"guerreiro\", \"guiomar\", \"gutenberg\", \"gutenberg\", \"gutenberg\", \"gutenberg\", \"gutenberg\", \"gutenberg\", \"gutenberg\", \"gutenberg\", \"gutenberg\", \"hasde\", \"heitor\", \"heitor\", \"helena\", \"helena\", \"helena\", \"helena\", \"helena\", \"helena\", \"helena\", \"helena\", \"helena\", \"henrique\", \"henrique\", \"henriqueta\", \"heran\\u00e7a\", \"heran\\u00e7a\", \"heran\\u00e7a\", \"heran\\u00e7a\", \"heran\\u00e7a\", \"heran\\u00e7a\", \"heran\\u00e7a\", \"heran\\u00e7a\", \"heran\\u00e7a\", \"homemzarr\\u00e3o\", \"humanitas\", \"humanitas\", \"humanitismo\", \"humanitismo\", \"idum\\u00e9a\", \"id\\u00e9a\", \"id\\u00e9a\", \"id\\u00e9a\", \"id\\u00e9a\", \"id\\u00e9a\", \"id\\u00e9a\", \"id\\u00e9a\", \"id\\u00e9a\", \"id\\u00e9a\", \"id\\u00e9ar\", \"id\\u00e9ar\", \"id\\u00e9ar\", \"id\\u00e9ar\", \"id\\u00e9ar\", \"id\\u00e9ar\", \"id\\u00e9ar\", \"id\\u00e9ar\", \"id\\u00e9ar\", \"id\\u00e9as\", \"id\\u00e9as\", \"id\\u00e9as\", \"id\\u00e9as\", \"id\\u00e9as\", \"id\\u00e9as\", \"id\\u00e9as\", \"id\\u00e9as\", \"if\", \"if\", \"if\", \"if\", \"if\", \"if\", \"if\", \"if\", \"if\", \"immodestia\", \"imponente\", \"inda\", \"inda\", \"inda\", \"indio\", \"influ\\u00eancia\", \"ingleza\", \"ingleza\", \"ingleza\", \"is\", \"is\", \"is\", \"is\", \"is\", \"is\", \"is\", \"is\", \"is\", \"itaguahy\", \"itaguahy\", \"ja\", \"ja\", \"ja\", \"ja\", \"ja\", \"ja\", \"ja\", \"ja\", \"ja\", \"japhet\", \"jeremias\", \"jorge\", \"jornal\", \"jornal\", \"jornal\", \"jornal\", \"jornal\", \"jornal\", \"jornal\", \"jornal\", \"jornal\", \"judeu\", \"judeu\", \"judeu\", \"judeu\", \"judeu\", \"juncto\", \"junho\", \"junho\", \"justina\", \"kalaphangko\", \"kernoberg\", \"kinnara\", \"lagrimas\", \"lagrua\", \"lagruista\", \"lagryma\", \"lagryma\", \"lagryma\", \"lagryma\", \"leandrinho\", \"legitimo\", \"legitimo\", \"legitimo\", \"legitimo\", \"legitimo\", \"legitimo\", \"legitimo\", \"legitimo\", \"legitimo\", \"leiloeiro\", \"leocadia\", \"leocadia\", \"leocadia\", \"leonor\", \"leonor\", \"liberto\", \"liberto\", \"liga\\u00e7\\u00e3o\", \"liga\\u00e7\\u00e3o\", \"liga\\u00e7\\u00e3o\", \"liga\\u00e7\\u00e3o\", \"liga\\u00e7\\u00e3o\", \"liga\\u00e7\\u00e3o\", \"liga\\u00e7\\u00e3o\", \"lisboa\", \"lisboa\", \"lisboa\", \"lisboa\", \"lisboa\", \"lisboa\", \"lisboa\", \"lisboa\", \"lobo\", \"lobo\", \"lobo\", \"logista\", \"lopo\", \"lopo\", \"ltaguahy\", \"lucien\", \"luiz\", \"luiz\", \"luiz\", \"luiz\", \"luiz\", \"luiz\", \"luiz\", \"luiz\", \"luiz\", \"lysias\", \"madrasta\", \"magalh\\u00e3es\", \"magalh\\u00e3es\", \"maio\", \"maio\", \"maio\", \"maio\", \"maio\", \"maio\", \"major\", \"major\", \"major\", \"major\", \"major\", \"major\", \"major\", \"mam\\u00e3e\", \"mam\\u00e3e\", \"mam\\u00e3e\", \"mam\\u00e3e\", \"mam\\u00e3e\", \"mam\\u00e3e\", \"mam\\u00e3e\", \"mam\\u00e3e\", \"mam\\u00e3e\", \"mana\", \"mana\", \"mana\", \"mana\", \"mana\", \"manduca\", \"mangerona\", \"manteiga\", \"marcella\", \"marcolina\", \"maria\", \"maria\", \"maria\", \"maria\", \"maria\", \"maria\", \"maria\", \"maria\", \"maria\", \"marianna\", \"marocas\", \"marquez\", \"marquez\", \"marquez\", \"marquez\", \"marquez\", \"marquez\", \"marquez\", \"matacavallos\", \"matraca\", \"meado\", \"medico\", \"medico\", \"medico\", \"medico\", \"medico\", \"medico\", \"medico\", \"medico\", \"medico\", \"meirelles\", \"melchior\", \"mendes\", \"mendes\", \"mendon\\u00e7a\", \"merc\\u00eas\", \"mesclar\", \"mesclar\", \"mesclar\", \"mesclar\", \"mesclar\", \"mesclar\", \"meter\", \"minas\", \"minas\", \"minas\", \"minas\", \"minas\", \"minas\", \"minas\", \"minas\", \"minas\", \"miranda\", \"modesta\", \"modesta\", \"modesta\", \"modesta\", \"modesta\", \"modesta\", \"modesta\", \"modesta\", \"moeda\", \"moeda\", \"moeda\", \"moeda\", \"moeda\", \"moeda\", \"moeda\", \"moeda\", \"moeda\", \"moita\", \"moita\", \"mola\", \"mola\", \"mola\", \"mola\", \"mola\", \"mola\", \"mola\", \"moli\\u00e8re\", \"moli\\u00e8re\", \"moralista\", \"moralista\", \"moralista\", \"moralista\", \"moralista\", \"moralista\", \"mortifica\", \"mrs\", \"musa\", \"musa\", \"musa\", \"musa\", \"musa\", \"musa\", \"musicaes\", \"myrto\", \"m\\u00e1goa\", \"m\\u00e3i\", \"m\\u00e9dico\", \"natividade\", \"navio\", \"navio\", \"navio\", \"navio\", \"navio\", \"navio\", \"neves\", \"neves\", \"neves\", \"nhonh\\u00f4\", \"nhonh\\u00f4\", \"nhonh\\u00f4\", \"nicol\\u00e1u\", \"nobrega\", \"noronha\", \"not\", \"not\", \"not\", \"not\", \"not\", \"not\", \"not\", \"not\", \"not\", \"notem\", \"not\\u00edcia\", \"not\\u00edcia\", \"no\\u00e9\", \"no\\u00e9\", \"obsequiador\", \"ocasi\\u00e3o\", \"octavio\", \"of\", \"of\", \"of\", \"of\", \"of\", \"of\", \"of\", \"of\", \"of\", \"oficio\", \"olympia\", \"or\", \"or\", \"or\", \"or\", \"or\", \"or\", \"or\", \"or\", \"or\", \"ordenan\\u00e7a\", \"orsini\", \"osorio\", \"oswald\", \"pachola\", \"padrinho\", \"padrinho\", \"padrinho\", \"padrinho\", \"padrinho\", \"padrinho\", \"padrinho\", \"padrinho\", \"padrinho\", \"padua\", \"padua\", \"pagem\", \"pagem\", \"pagem\", \"pagem\", \"pagem\", \"pagem\", \"palha\", \"palha\", \"palha\", \"palha\", \"palha\", \"palha\", \"palha\", \"pallida\", \"pallida\", \"pallida\", \"pallida\", \"pallida\", \"pallida\", \"palpite\", \"pantorrilha\", \"parahyba\", \"patimau\", \"pe\", \"pedro\", \"pedro\", \"pedro\", \"pedro\", \"pedro\", \"pedro\", \"pedro\", \"pedro\", \"pedro\", \"pelotas\", \"perfidia\", \"perfidia\", \"perfidia\", \"perfidia\", \"perfidia\", \"perfidia\", \"perfidia\", \"perfume\", \"periantho\", \"perpetua\", \"perpetua\", \"perpetua\", \"pes\", \"petropolis\", \"petropolis\", \"petropolis\", \"petropolis\", \"petropolis\", \"petropolis\", \"petropolis\", \"petropolis\", \"petropolis\", \"phenomeno\", \"phenomeno\", \"phenomeno\", \"phenomeno\", \"phenomeno\", \"phenomeno\", \"phenomeno\", \"phenomeno\", \"phenomeno\", \"placida\", \"placida\", \"placida\", \"placido\", \"placido\", \"placido\", \"plauto\", \"pl\\u00e1s\", \"podias\", \"podir\", \"podir\", \"podir\", \"podir\", \"podir\", \"podir\", \"poemasinho\", \"polycrates\", \"pol\\u00edtica\", \"pombo\", \"pombos\", \"porfirio\", \"posti\\u00e7o\", \"posti\\u00e7o\", \"potyra\", \"povoa\\u00e7\\u00e3o\", \"prazeres\", \"prestigio\", \"prestigio\", \"prestigio\", \"prestigio\", \"prestigio\", \"prestigio\", \"prestigio\", \"prestigio\", \"prima\", \"prima\", \"prima\", \"prima\", \"prima\", \"prima\", \"prima\", \"prima\", \"prima\", \"primo\", \"primo\", \"primo\", \"primo\", \"primo\", \"primo\", \"primo\", \"primo\", \"primo\", \"procopio\", \"project\", \"project\", \"project\", \"project\", \"project\", \"project\", \"project\", \"project\", \"project\", \"protonotario\", \"providencia\", \"providencia\", \"providencia\", \"providencia\", \"providencia\", \"providencia\", \"providencia\", \"providencia\", \"prudencio\", \"pulo\", \"pulo\", \"pulo\", \"pulo\", \"pulo\", \"pulo\", \"pulo\", \"pulo\", \"pur\", \"pur\", \"pur\", \"pur\", \"pur\", \"pur\", \"pur\", \"pur\", \"pur\", \"p\\u00e1gina\", \"p\\u00fablico\", \"queria\", \"queria\", \"queria\", \"queria\", \"queria\", \"queria\", \"queria\", \"queria\", \"queria\", \"quincas\", \"quincas\", \"quintanilha\", \"rato\", \"rato\", \"rato\", \"raymunda\", \"raymundo\", \"raymundo\", \"raymundo\", \"raymur\", \"raymur\", \"raymur\", \"receberar\", \"receberar\", \"receberar\", \"receberar\", \"receberar\", \"receberar\", \"receberar\", \"receberar\", \"receberar\", \"recorrer\", \"recorrer\", \"recorrer\", \"recorrer\", \"recorrer\", \"recorrer\", \"recorrer\", \"recorrer\", \"recorrer\", \"rei\", \"rei\", \"rei\", \"rei\", \"rei\", \"rei\", \"rei\", \"rei\", \"rei\", \"relevo\", \"relevo\", \"relevo\", \"relevo\", \"relevo\", \"relevo\", \"relevo\", \"relevo\", \"relevo\", \"revella\\u00e7\\u00e3o\", \"rigor\", \"rigor\", \"rigor\", \"rigor\", \"rigor\", \"rigor\", \"rigor\", \"rigor\", \"rigor\", \"rita\", \"rita\", \"rita\", \"rita\", \"rom\\u00e3o\", \"rubi\\u00e3o\", \"sabina\", \"sabina\", \"sacco\", \"sacco\", \"sacco\", \"sacco\", \"sahir\", \"sahir\", \"sahir\", \"sahir\", \"sahir\", \"sahir\", \"sahir\", \"sahir\", \"sahir\", \"sahiu\", \"sahiu\", \"sahiu\", \"sahiu\", \"sahiu\", \"sahiu\", \"sahiu\", \"sahiu\", \"sahiu\", \"salvador\", \"salvador\", \"salvador\", \"salvador\", \"sancha\", \"sandice\", \"sandice\", \"santos\", \"santos\", \"santos\", \"santos\", \"seio\", \"seio\", \"seio\", \"seio\", \"seio\", \"seio\", \"seio\", \"seio\", \"seio\", \"seminario\", \"seminarista\", \"senhoria\", \"senhoria\", \"senhoria\", \"senhoria\", \"sequeira\", \"shelley\", \"significar\", \"significar\", \"significar\", \"significar\", \"significar\", \"significar\", \"significar\", \"sil\\u00eancio\", \"sim\\u00e3o\", \"sim\\u00e3o\", \"sim\\u00e3o\", \"singular\", \"singular\", \"singular\", \"singular\", \"singular\", \"singular\", \"singular\", \"singular\", \"singular\", \"siqueira\", \"soares\", \"soares\", \"sobretudo\", \"sobretudo\", \"sobretudo\", \"sobretudo\", \"sobretudo\", \"sobretudo\", \"sobretudo\", \"sobretudo\", \"sobrinha\", \"sobrinha\", \"sobrinha\", \"sobrinha\", \"sobrinha\", \"sobrinha\", \"sobrinha\", \"sobrinha\", \"sobrinha\", \"sobrinho\", \"sobrinho\", \"sobrinho\", \"sobrinho\", \"sobrinho\", \"sobrinho\", \"sobrinho\", \"sobrinho\", \"sobrinho\", \"socio\", \"socio\", \"socio\", \"socio\", \"socio\", \"sophia\", \"sophia\", \"sophia\", \"sophia\", \"stockolmo\", \"stroibus\", \"suceder\", \"sujeito\", \"sujeito\", \"sujeito\", \"sujeito\", \"sujeito\", \"sujeito\", \"sujeito\", \"sujeito\", \"sujeito\", \"sul\", \"sul\", \"sul\", \"sul\", \"sul\", \"sul\", \"sul\", \"sul\", \"sul\", \"systema\", \"systema\", \"systema\", \"systema\", \"systema\", \"systema\", \"s\\u00f4bre\", \"s\\u00f4bre\", \"s\\u00f4brir\", \"tabelli\\u00e3o\", \"tabelli\\u00e3o\", \"tabelli\\u00e3o\", \"tabelli\\u00e3o\", \"tabelli\\u00e3o\", \"taboleta\", \"taboleta\", \"tanoaria\", \"tarefa\", \"tarefa\", \"tarefa\", \"tarefa\", \"tarefa\", \"tarefa\", \"tarefa\", \"tarefa\", \"tarefa\", \"tartaro\", \"teia\", \"tenrurar\", \"terms\", \"terms\", \"terms\", \"terms\", \"terms\", \"terms\", \"terms\", \"terms\", \"terms\", \"the\", \"the\", \"the\", \"the\", \"the\", \"the\", \"the\", \"the\", \"the\", \"theophilo\", \"theophilo\", \"theophilo\", \"theophilo\", \"thi\", \"thi\", \"thi\", \"thi\", \"thi\", \"thi\", \"thi\", \"thi\", \"thi\", \"thomasia\", \"thom\\u00e9\", \"tia\", \"tia\", \"tia\", \"tia\", \"tia\", \"tia\", \"tia\", \"tia\", \"tia\", \"tilbury\", \"tilbury\", \"tilbury\", \"tilbury\", \"tilbury\", \"tilbury\", \"tio\", \"tio\", \"tio\", \"tio\", \"tio\", \"tio\", \"tio\", \"tio\", \"tio\", \"titan\\u00e9\", \"to\", \"to\", \"to\", \"to\", \"to\", \"to\", \"to\", \"to\", \"to\", \"tomer\", \"tomer\", \"tomer\", \"tomer\", \"tomer\", \"tomer\", \"tonica\", \"transla\\u00e7\\u00e3o\", \"trapezio\", \"trez\", \"trez\", \"trez\", \"trez\", \"trez\", \"trez\", \"trez\", \"trez\", \"trist\\u00e3o\", \"turbilh\\u00e3o\", \"turbilh\\u00e3o\", \"turbilh\\u00e3o\", \"turbilh\\u00e3o\", \"turbilh\\u00e3o\", \"turbilh\\u00e3o\", \"turbilh\\u00e3o\", \"turbilh\\u00e3o\", \"ursula\", \"valeria\", \"vendilh\\u00e3o\", \"vereador\", \"vereador\", \"vereador\", \"vergalho\", \"verissimo\", \"vexadissimar\", \"viegas\", \"villa\", \"villa\", \"villa\", \"villa\", \"villa\", \"villa\", \"villa\", \"villa\\u00e7a\", \"virgilia\", \"virgilias\", \"virgilio\", \"virgilio\", \"virumque\", \"vis\", \"vis\", \"voa\", \"voce\", \"voce\", \"voce\", \"voce\", \"vulgaridade\", \"vulgaridade\", \"vulgaridade\", \"vulgaridade\", \"vulgaridade\", \"vulgaridade\", \"v\\u00e9u\", \"v\\u00e9u\", \"v\\u00e9u\", \"with\", \"with\", \"with\", \"with\", \"with\", \"with\", \"with\", \"with\", \"with\", \"work\", \"work\", \"work\", \"work\", \"work\", \"work\", \"work\", \"work\", \"work\", \"works\", \"works\", \"works\", \"works\", \"works\", \"works\", \"works\", \"works\", \"works\", \"xavier\", \"xavier\", \"xavier\", \"xavier\", \"yay\\u00e1\", \"yay\\u00e1\", \"yay\\u00e1\", \"yay\\u00e1\", \"yay\\u00e1\", \"yay\\u00e1\", \"yay\\u00e1\", \"yay\\u00e1\", \"yay\\u00e1\", \"you\", \"you\", \"you\", \"you\", \"you\", \"you\", \"you\", \"you\", \"you\", \"z\", \"z\", \"z\\u00e9ca\", \"\\u00e1rvore\", \"\\u00e9sta\", \"\\u00e9sta\", \"\\u00e9stas\", \"\\u00earro\", \"\\u00f3\", \"\\u00f3\", \"\\u00f3\", \"\\u00f3\", \"\\u00f3\"]}, \"R\": 30, \"lambda.step\": 0.01, \"plot.opts\": {\"xlab\": \"PC1\", \"ylab\": \"PC2\"}, \"topic.order\": [12, 4, 14, 10, 9, 2, 11, 5, 15, 8, 13, 17, 7, 3, 6, 16, 1]};\n",
              "\n",
              "function LDAvis_load_lib(url, callback){\n",
              "  var s = document.createElement('script');\n",
              "  s.src = url;\n",
              "  s.async = true;\n",
              "  s.onreadystatechange = s.onload = callback;\n",
              "  s.onerror = function(){console.warn(\"failed to load library \" + url);};\n",
              "  document.getElementsByTagName(\"head\")[0].appendChild(s);\n",
              "}\n",
              "\n",
              "if(typeof(LDAvis) !== \"undefined\"){\n",
              "   // already loaded: just create the visualization\n",
              "   !function(LDAvis){\n",
              "       new LDAvis(\"#\" + \"ldavis_el1927140457048861600295253106\", ldavis_el1927140457048861600295253106_data);\n",
              "   }(LDAvis);\n",
              "}else if(typeof define === \"function\" && define.amd){\n",
              "   // require.js is available: use it to load d3/LDAvis\n",
              "   require.config({paths: {d3: \"https://d3js.org/d3.v5\"}});\n",
              "   require([\"d3\"], function(d3){\n",
              "      window.d3 = d3;\n",
              "      LDAvis_load_lib(\"https://cdn.jsdelivr.net/gh/bmabey/pyLDAvis@3.3.1/pyLDAvis/js/ldavis.v3.0.0.js\", function(){\n",
              "        new LDAvis(\"#\" + \"ldavis_el1927140457048861600295253106\", ldavis_el1927140457048861600295253106_data);\n",
              "      });\n",
              "    });\n",
              "}else{\n",
              "    // require.js not available: dynamically load d3 & LDAvis\n",
              "    LDAvis_load_lib(\"https://d3js.org/d3.v5.js\", function(){\n",
              "         LDAvis_load_lib(\"https://cdn.jsdelivr.net/gh/bmabey/pyLDAvis@3.3.1/pyLDAvis/js/ldavis.v3.0.0.js\", function(){\n",
              "                 new LDAvis(\"#\" + \"ldavis_el1927140457048861600295253106\", ldavis_el1927140457048861600295253106_data);\n",
              "            })\n",
              "         });\n",
              "}\n",
              "</script>"
            ]
          },
          "metadata": {},
          "execution_count": 61
        }
      ]
    },
    {
      "cell_type": "code",
      "execution_count": 52,
      "metadata": {
        "id": "omprUyumkn6c"
      },
      "outputs": [],
      "source": [
        "\n",
        "# prepare visualization\n",
        "lda_display = pyLDAvis.gensim_models.prepare(lda_model, corpus, dicio)\n",
        "#pyLDAvis.display(lda_display) # TODO check this: visualizacao - nao funciona no colab\n",
        "# save as html\n",
        "pyLDAvis.save_html(lda_display, 'output/lda_vis.html')"
      ]
    },
    {
      "cell_type": "markdown",
      "source": [
        "### 3.4. LSI\n",
        "\n",
        "Latent Semantic Indexing, LSI (or sometimes LSA) transforms documents \n",
        "from either bag-of-words or (preferrably) TfIdf-weighted space \n",
        "into a latent space of a lower dimensionality. \n",
        "\n"
      ],
      "metadata": {
        "id": "X2O5LziZb-Uv"
      }
    },
    {
      "cell_type": "code",
      "source": [
        "# initialize a model\n",
        "tfidf = models.TfidfModel(corpus)  \n",
        "corpus_tfidf = tfidf[corpus]\n",
        "\n",
        "# then we apply the model\n",
        "lsi_model_bow = models.LsiModel(corpus, id2word=dicio, num_topics=17)\n",
        "print('topics using bag of words')\n",
        "pprint(lsi_model_bow.print_topics())\n",
        "\n",
        "lsi_model_tfidf = models.LsiModel(corpus_tfidf, id2word=dicio, num_topics=17)\n",
        "print('topics using tfidf-weighted space')\n",
        "pprint(lsi_model_tfidf.print_topics())"
      ],
      "metadata": {
        "colab": {
          "base_uri": "https://localhost:8080/"
        },
        "id": "N2daLXDMcH60",
        "outputId": "4918e59f-6100-45a1-b5af-fbc57697fd19"
      },
      "execution_count": 62,
      "outputs": [
        {
          "output_type": "stream",
          "name": "stdout",
          "text": [
            "topics using bag of words\n",
            "[(0,\n",
            "  '0.449*\"the\" + 0.290*\"helena\" + 0.267*\"of\" + 0.244*\"estacio\" + 0.235*\"jorge\" '\n",
            "  '+ 0.213*\"project\" + 0.195*\"to\" + 0.180*\"you\" + 0.160*\"and\" + 0.149*\"yayá\"'),\n",
            " (1,\n",
            "  '0.771*\"rubião\" + 0.377*\"sophia\" + 0.244*\"maria\" + 0.175*\"palha\" + '\n",
            "  '0.122*\"fallar\" + 0.121*\"carlos\" + 0.114*\"benedicta\" + 0.111*\"quincas\" + '\n",
            "  '0.107*\"borba\" + 0.102*\"fernanda\"'),\n",
            " (2,\n",
            "  '0.451*\"helena\" + -0.444*\"jorge\" + 0.443*\"estacio\" + -0.299*\"yayá\" + '\n",
            "  '-0.297*\"estella\" + -0.215*\"luiz\" + -0.197*\"garcia\" + 0.145*\"ursula\" + '\n",
            "  '0.116*\"melchior\" + -0.096*\"valeria\"'),\n",
            " (3,\n",
            "  '-0.362*\"estacio\" + -0.336*\"jorge\" + -0.278*\"helena\" + -0.255*\"estella\" + '\n",
            "  '-0.254*\"yayá\" + 0.224*\"the\" + 0.180*\"flora\" + 0.174*\"ayres\" + '\n",
            "  '-0.168*\"garcia\" + 0.161*\"pedro\"'),\n",
            " (4,\n",
            "  '-0.331*\"tristão\" + -0.330*\"fidelia\" + -0.279*\"aguiar\" + -0.263*\"carmo\" + '\n",
            "  '-0.257*\"capitú\" + 0.247*\"guiomar\" + -0.201*\"rita\" + -0.157*\"flora\" + '\n",
            "  '-0.157*\"ayres\" + -0.148*\"pedro\"'),\n",
            " (5,\n",
            "  '0.302*\"guiomar\" + -0.290*\"flora\" + -0.275*\"ayres\" + 0.269*\"tristão\" + '\n",
            "  '0.268*\"fidelia\" + -0.245*\"natividade\" + -0.244*\"pedro\" + 0.227*\"aguiar\" + '\n",
            "  '0.209*\"carmo\" + 0.177*\"estevão\"'),\n",
            " (6,\n",
            "  '0.695*\"capitú\" + 0.222*\"escobar\" + -0.178*\"tristão\" + -0.177*\"fidelia\" + '\n",
            "  '0.176*\"seminario\" + -0.150*\"aguiar\" + -0.138*\"carmo\" + 0.120*\"cer\" + '\n",
            "  '0.116*\"bentinho\" + 0.114*\"justina\"'),\n",
            " (7,\n",
            "  '0.402*\"guiomar\" + -0.290*\"barão\" + 0.252*\"baroneza\" + 0.236*\"estevão\" + '\n",
            "  '0.204*\"estacio\" + 0.204*\"alves\" + -0.192*\"cavalcante\" + 0.178*\"luiz\" + '\n",
            "  '0.159*\"capitú\" + -0.155*\"leonor\"'),\n",
            " (8,\n",
            "  '-0.331*\"barão\" + 0.249*\"flôr\" + -0.228*\"helena\" + -0.219*\"cavalcante\" + '\n",
            "  '-0.177*\"leonor\" + -0.162*\"guiomar\" + -0.162*\"cecilia\" + 0.159*\"myrto\" + '\n",
            "  '-0.147*\"leocadia\" + -0.144*\"carlota\"'),\n",
            " (9,\n",
            "  '-0.604*\"virgilia\" + -0.193*\"borba\" + -0.186*\"placida\" + -0.183*\"quincas\" + '\n",
            "  '-0.178*\"marcella\" + -0.156*\"lobo\" + -0.152*\"neves\" + -0.139*\"cubas\" + '\n",
            "  '0.123*\"capitú\" + -0.119*\"idéa\"'),\n",
            " (10,\n",
            "  '0.301*\"flôr\" + -0.253*\"alienista\" + -0.226*\"benedicta\" + 0.195*\"myrto\" + '\n",
            "  '0.171*\"cleon\" + 0.168*\"virgilia\" + 0.157*\"lysias\" + -0.148*\"bacamarte\" + '\n",
            "  '-0.134*\"barbeiro\" + 0.129*\"céu\"'),\n",
            " (11,\n",
            "  '0.246*\"marianna\" + -0.225*\"alienista\" + -0.210*\"benedicta\" + '\n",
            "  '0.159*\"camilla\" + 0.146*\"andrade\" + 0.139*\"falcão\" + 0.138*\"chapéo\" + '\n",
            "  '-0.127*\"bacamarte\" + 0.117*\"genoveva\" + -0.111*\"barbeiro\"')]\n",
            "topics using tfidf-weighted space\n",
            "[(0,\n",
            "  '0.213*\"the\" + 0.187*\"jorge\" + 0.181*\"of\" + 0.171*\"guiomar\" + '\n",
            "  '0.170*\"marianna\" + 0.166*\"cavalcante\" + 0.151*\"myrto\" + 0.150*\"natividade\" '\n",
            "  '+ 0.143*\"project\" + 0.132*\"cleon\"'),\n",
            " (1,\n",
            "  '0.545*\"jorge\" + 0.450*\"guiomar\" + 0.308*\"estella\" + 0.264*\"estevão\" + '\n",
            "  '-0.195*\"rubião\" + 0.148*\"yayá\" + 0.144*\"oswald\" + 0.139*\"mrs\" + '\n",
            "  '0.138*\"valeria\" + 0.135*\"procopio\"'),\n",
            " (2,\n",
            "  '0.564*\"rubião\" + 0.382*\"virgilia\" + -0.302*\"estacio\" + 0.216*\"sophia\" + '\n",
            "  '-0.178*\"cavalcante\" + 0.148*\"borba\" + 0.146*\"quincas\" + -0.145*\"helena\" + '\n",
            "  '-0.137*\"ursula\" + 0.112*\"marcella\"'),\n",
            " (3,\n",
            "  '-0.441*\"tristão\" + -0.438*\"fidelia\" + -0.387*\"capitú\" + -0.267*\"aguiar\" + '\n",
            "  '0.232*\"estacio\" + -0.201*\"natividade\" + 0.142*\"rubião\" + -0.133*\"flora\" + '\n",
            "  '-0.132*\"ayres\" + -0.124*\"escobar\"'),\n",
            " (4,\n",
            "  '0.769*\"capitú\" + 0.246*\"escobar\" + -0.236*\"tristão\" + -0.235*\"fidelia\" + '\n",
            "  '-0.143*\"aguiar\" + 0.139*\"seminario\" + 0.128*\"bentinho\" + 0.126*\"cosme\" + '\n",
            "  '0.126*\"justina\" + 0.117*\"estacio\"'),\n",
            " (5,\n",
            "  '-0.445*\"estacio\" + -0.302*\"tristão\" + -0.301*\"fidelia\" + -0.300*\"virgilia\" '\n",
            "  '+ -0.203*\"ursula\" + 0.193*\"natividade\" + -0.184*\"aguiar\" + -0.169*\"helena\" '\n",
            "  '+ -0.162*\"melchior\" + -0.128*\"cavalcante\"'),\n",
            " (6,\n",
            "  '0.607*\"virgilia\" + -0.438*\"rubião\" + 0.198*\"natividade\" + -0.196*\"sophia\" + '\n",
            "  '0.179*\"marcella\" + 0.131*\"flora\" + 0.125*\"ayres\" + 0.116*\"cotrim\" + '\n",
            "  '0.105*\"borba\" + 0.104*\"placida\"'),\n",
            " (7,\n",
            "  '-0.484*\"natividade\" + -0.319*\"flora\" + -0.306*\"ayres\" + -0.243*\"rubião\" + '\n",
            "  '-0.238*\"estacio\" + 0.227*\"myrto\" + 0.199*\"cleon\" + 0.182*\"lysias\" + '\n",
            "  '-0.173*\"claudia\" + -0.145*\"cabocla\"'),\n",
            " (8,\n",
            "  '0.376*\"cavalcante\" + -0.316*\"estacio\" + -0.306*\"myrto\" + -0.268*\"cleon\" + '\n",
            "  '-0.246*\"lysias\" + 0.218*\"leonor\" + 0.178*\"carlota\" + 0.161*\"magalhães\" + '\n",
            "  '0.160*\"cecilia\" + 0.152*\"adelaide\"'),\n",
            " (9,\n",
            "  '-0.304*\"rubião\" + -0.277*\"cavalcante\" + 0.230*\"bacamarte\" + '\n",
            "  '0.228*\"alienista\" + -0.201*\"myrto\" + 0.190*\"estacio\" + 0.176*\"benedicta\" + '\n",
            "  '-0.176*\"cleon\" + 0.174*\"nicoláu\" + 0.166*\"evarista\"'),\n",
            " (10,\n",
            "  '-0.546*\"guiomar\" + 0.383*\"jorge\" + 0.352*\"estella\" + -0.321*\"estevão\" + '\n",
            "  '0.176*\"yayá\" + -0.175*\"oswald\" + -0.169*\"mrs\" + -0.163*\"alves\" + '\n",
            "  '0.157*\"valeria\" + 0.154*\"procopio\"'),\n",
            " (11,\n",
            "  '0.330*\"marianna\" + -0.245*\"rubião\" + -0.185*\"bacamarte\" + '\n",
            "  '-0.183*\"benedicta\" + -0.181*\"alienista\" + 0.167*\"guiomar\" + '\n",
            "  '0.157*\"genoveva\" + 0.153*\"camilla\" + 0.141*\"andrade\" + 0.140*\"marocas\"')]\n"
          ]
        }
      ]
    }
  ],
  "metadata": {
    "kernelspec": {
      "display_name": "tmvenv",
      "language": "python",
      "name": "python3"
    },
    "language_info": {
      "codemirror_mode": {
        "name": "ipython",
        "version": 3
      },
      "file_extension": ".py",
      "mimetype": "text/x-python",
      "name": "python",
      "nbconvert_exporter": "python",
      "pygments_lexer": "ipython3",
      "version": "3.10.8"
    },
    "orig_nbformat": 4,
    "vscode": {
      "interpreter": {
        "hash": "1cf00dd28cb843c250837a6461db654c95fdf5387681229a6a101a82db5d7e1a"
      }
    },
    "colab": {
      "provenance": []
    }
  },
  "nbformat": 4,
  "nbformat_minor": 0
}